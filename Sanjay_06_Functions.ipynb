{
  "nbformat": 4,
  "nbformat_minor": 0,
  "metadata": {
    "colab": {
      "provenance": []
    },
    "kernelspec": {
      "name": "python3",
      "display_name": "Python 3"
    },
    "language_info": {
      "name": "python"
    }
  },
  "cells": [
    {
      "cell_type": "code",
      "execution_count": null,
      "metadata": {
        "colab": {
          "base_uri": "https://localhost:8080/"
        },
        "id": "SyENfTlpOvF7",
        "outputId": "320972d1-1f18-4c83-f9de-8f2b54a3db98"
      },
      "outputs": [
        {
          "output_type": "execute_result",
          "data": {
            "text/plain": [
              "5"
            ]
          },
          "metadata": {},
          "execution_count": 1
        }
      ],
      "source": [
        "a = \"Sanju\"\n",
        "len(a)"
      ]
    },
    {
      "cell_type": "code",
      "source": [
        "a = [2,4,5,67,\"sanjay\"]\n",
        "len(a)"
      ],
      "metadata": {
        "colab": {
          "base_uri": "https://localhost:8080/"
        },
        "id": "-7zuuZrJS4Ls",
        "outputId": "33712e06-d550-4214-dfc5-067c99020920"
      },
      "execution_count": null,
      "outputs": [
        {
          "output_type": "execute_result",
          "data": {
            "text/plain": [
              "5"
            ]
          },
          "metadata": {},
          "execution_count": 2
        }
      ]
    },
    {
      "cell_type": "code",
      "source": [
        "def sanju():"
      ],
      "metadata": {
        "colab": {
          "base_uri": "https://localhost:8080/",
          "height": 132
        },
        "id": "RasPupHUS-EH",
        "outputId": "76815c31-2d14-4e0b-d777-e39d318b1c76"
      },
      "execution_count": null,
      "outputs": [
        {
          "output_type": "error",
          "ename": "SyntaxError",
          "evalue": "ignored",
          "traceback": [
            "\u001b[0;36m  File \u001b[0;32m\"<ipython-input-4-2175af400be5>\"\u001b[0;36m, line \u001b[0;32m1\u001b[0m\n\u001b[0;31m    def sanju():\u001b[0m\n\u001b[0m                ^\u001b[0m\n\u001b[0;31mSyntaxError\u001b[0m\u001b[0;31m:\u001b[0m unexpected EOF while parsing\n"
          ]
        }
      ]
    },
    {
      "cell_type": "code",
      "source": [
        "def sanju():\n",
        "  pass"
      ],
      "metadata": {
        "id": "BycLWc_AU9lZ"
      },
      "execution_count": null,
      "outputs": []
    },
    {
      "cell_type": "code",
      "source": [
        "def test():  # if there is no body to represent means simply write pass\n",
        "  pass"
      ],
      "metadata": {
        "id": "sqgBxTJNVHth"
      },
      "execution_count": null,
      "outputs": []
    },
    {
      "cell_type": "code",
      "source": [
        "def sanju1():\n",
        "  print(\"This is first program of python\")\n"
      ],
      "metadata": {
        "id": "F0oydildVLF3"
      },
      "execution_count": null,
      "outputs": []
    },
    {
      "cell_type": "code",
      "source": [
        "sanju1()"
      ],
      "metadata": {
        "colab": {
          "base_uri": "https://localhost:8080/"
        },
        "id": "2zYiZiqZWBIK",
        "outputId": "d7dc6e3a-dfce-41ed-ae17-32a0b905c0f2"
      },
      "execution_count": null,
      "outputs": [
        {
          "output_type": "stream",
          "name": "stdout",
          "text": [
            "This is first program of python\n"
          ]
        }
      ]
    },
    {
      "cell_type": "code",
      "source": [
        "def test2():\n",
        "  print(\"Very good guy\")"
      ],
      "metadata": {
        "id": "cUSC1vGBWMAY"
      },
      "execution_count": null,
      "outputs": []
    },
    {
      "cell_type": "code",
      "source": [
        "test2()"
      ],
      "metadata": {
        "colab": {
          "base_uri": "https://localhost:8080/"
        },
        "id": "Yl8dDelQWUo8",
        "outputId": "4394af2b-4520-414c-af9c-edf422729a33"
      },
      "execution_count": null,
      "outputs": [
        {
          "output_type": "stream",
          "name": "stdout",
          "text": [
            "Very good guy\n"
          ]
        }
      ]
    },
    {
      "cell_type": "code",
      "source": [
        "a = test2()"
      ],
      "metadata": {
        "colab": {
          "base_uri": "https://localhost:8080/"
        },
        "id": "Tk_cbPgdWV-2",
        "outputId": "209d5798-ce60-4306-ee9b-d9fa2ffdc69b"
      },
      "execution_count": null,
      "outputs": [
        {
          "output_type": "stream",
          "name": "stdout",
          "text": [
            "Very good guy\n"
          ]
        }
      ]
    },
    {
      "cell_type": "code",
      "source": [
        "a"
      ],
      "metadata": {
        "id": "P9S3OcwRWnUg"
      },
      "execution_count": null,
      "outputs": []
    },
    {
      "cell_type": "code",
      "source": [
        "print(a)"
      ],
      "metadata": {
        "colab": {
          "base_uri": "https://localhost:8080/"
        },
        "id": "f_Hj7l_KWoMu",
        "outputId": "c627e34e-0c67-4412-b92b-16c0f30091cd"
      },
      "execution_count": null,
      "outputs": [
        {
          "output_type": "stream",
          "name": "stdout",
          "text": [
            "None\n"
          ]
        }
      ]
    },
    {
      "cell_type": "code",
      "source": [
        "type(a)"
      ],
      "metadata": {
        "colab": {
          "base_uri": "https://localhost:8080/"
        },
        "id": "lKSNk7SPWtPT",
        "outputId": "a0cb0ae6-bb64-4968-faac-3a263988b540"
      },
      "execution_count": null,
      "outputs": [
        {
          "output_type": "execute_result",
          "data": {
            "text/plain": [
              "NoneType"
            ]
          },
          "metadata": {},
          "execution_count": 20
        }
      ]
    },
    {
      "cell_type": "code",
      "source": [
        "type(test2())"
      ],
      "metadata": {
        "colab": {
          "base_uri": "https://localhost:8080/"
        },
        "id": "S1PYH8E5Xjen",
        "outputId": "14479ab2-6224-452b-9359-2479755ee20a"
      },
      "execution_count": null,
      "outputs": [
        {
          "output_type": "stream",
          "name": "stdout",
          "text": [
            "Very good guy\n"
          ]
        },
        {
          "output_type": "execute_result",
          "data": {
            "text/plain": [
              "NoneType"
            ]
          },
          "metadata": {},
          "execution_count": 21
        }
      ]
    },
    {
      "cell_type": "code",
      "source": [
        "def test3():\n",
        "  return \"sanju\""
      ],
      "metadata": {
        "id": "W4V3eZE8XsYC"
      },
      "execution_count": null,
      "outputs": []
    },
    {
      "cell_type": "code",
      "source": [
        "test3()"
      ],
      "metadata": {
        "colab": {
          "base_uri": "https://localhost:8080/",
          "height": 35
        },
        "id": "jDdqBZ1pX-K8",
        "outputId": "bf7b3caa-ad09-4186-da28-c8948a979efb"
      },
      "execution_count": null,
      "outputs": [
        {
          "output_type": "execute_result",
          "data": {
            "text/plain": [
              "'sanju'"
            ],
            "application/vnd.google.colaboratory.intrinsic+json": {
              "type": "string"
            }
          },
          "metadata": {},
          "execution_count": 23
        }
      ]
    },
    {
      "cell_type": "code",
      "source": [
        "def test4():\n",
        "  return 67"
      ],
      "metadata": {
        "id": "kXuPRjfTYAAR"
      },
      "execution_count": null,
      "outputs": []
    },
    {
      "cell_type": "code",
      "source": [
        "test4()"
      ],
      "metadata": {
        "colab": {
          "base_uri": "https://localhost:8080/"
        },
        "id": "MKOEon2Gfh3d",
        "outputId": "c351240a-3f86-4bf6-a3ed-d181f0099633"
      },
      "execution_count": null,
      "outputs": [
        {
          "output_type": "execute_result",
          "data": {
            "text/plain": [
              "67"
            ]
          },
          "metadata": {},
          "execution_count": 25
        }
      ]
    },
    {
      "cell_type": "code",
      "source": [
        "a = test4()"
      ],
      "metadata": {
        "id": "aD92WZjTfjQx"
      },
      "execution_count": null,
      "outputs": []
    },
    {
      "cell_type": "code",
      "source": [
        "print(a)"
      ],
      "metadata": {
        "colab": {
          "base_uri": "https://localhost:8080/"
        },
        "id": "xKJXw4Djfq7e",
        "outputId": "63bcd259-b382-44d2-d29d-762c9436be3c"
      },
      "execution_count": null,
      "outputs": [
        {
          "output_type": "stream",
          "name": "stdout",
          "text": [
            "67\n"
          ]
        }
      ]
    },
    {
      "cell_type": "code",
      "source": [
        "type(test4())"
      ],
      "metadata": {
        "colab": {
          "base_uri": "https://localhost:8080/"
        },
        "id": "eDZ_G5u1frzt",
        "outputId": "b4bffe00-2fc5-4b83-e126-3406ac8b5cbd"
      },
      "execution_count": null,
      "outputs": [
        {
          "output_type": "execute_result",
          "data": {
            "text/plain": [
              "int"
            ]
          },
          "metadata": {},
          "execution_count": 28
        }
      ]
    },
    {
      "cell_type": "code",
      "source": [
        "def test5():\n",
        "  print(44)"
      ],
      "metadata": {
        "id": "vjIPWH-Pgc9C"
      },
      "execution_count": null,
      "outputs": []
    },
    {
      "cell_type": "code",
      "source": [
        "test5()"
      ],
      "metadata": {
        "colab": {
          "base_uri": "https://localhost:8080/"
        },
        "id": "KOFa4pZZgs15",
        "outputId": "7f21b2ba-e540-4960-aa37-437c7915e26a"
      },
      "execution_count": null,
      "outputs": [
        {
          "output_type": "stream",
          "name": "stdout",
          "text": [
            "44\n"
          ]
        }
      ]
    },
    {
      "cell_type": "code",
      "source": [
        "type(test5())   # By using print statement to analyze NoneType"
      ],
      "metadata": {
        "colab": {
          "base_uri": "https://localhost:8080/"
        },
        "id": "U5yQrdWngurB",
        "outputId": "db072307-db7b-47dc-c75f-206d8be2952e"
      },
      "execution_count": null,
      "outputs": [
        {
          "output_type": "stream",
          "name": "stdout",
          "text": [
            "44\n"
          ]
        },
        {
          "output_type": "execute_result",
          "data": {
            "text/plain": [
              "NoneType"
            ]
          },
          "metadata": {},
          "execution_count": 31
        }
      ]
    },
    {
      "cell_type": "code",
      "source": [
        "a = test5()"
      ],
      "metadata": {
        "colab": {
          "base_uri": "https://localhost:8080/"
        },
        "id": "bF6Ap2r5iEM_",
        "outputId": "1d82b391-66fd-49ca-c506-bc3c849e254f"
      },
      "execution_count": null,
      "outputs": [
        {
          "output_type": "stream",
          "name": "stdout",
          "text": [
            "44\n"
          ]
        }
      ]
    },
    {
      "cell_type": "code",
      "source": [
        "a + 555"
      ],
      "metadata": {
        "colab": {
          "base_uri": "https://localhost:8080/",
          "height": 167
        },
        "id": "f_nvWQffiGdW",
        "outputId": "0354675e-1c4e-40f8-e28b-0d2c0578b3ca"
      },
      "execution_count": null,
      "outputs": [
        {
          "output_type": "error",
          "ename": "TypeError",
          "evalue": "ignored",
          "traceback": [
            "\u001b[0;31m---------------------------------------------------------------------------\u001b[0m",
            "\u001b[0;31mTypeError\u001b[0m                                 Traceback (most recent call last)",
            "\u001b[0;32m<ipython-input-43-c6b61c8f5c1a>\u001b[0m in \u001b[0;36m<module>\u001b[0;34m\u001b[0m\n\u001b[0;32m----> 1\u001b[0;31m \u001b[0ma\u001b[0m \u001b[0;34m+\u001b[0m \u001b[0;36m555\u001b[0m\u001b[0;34m\u001b[0m\u001b[0;34m\u001b[0m\u001b[0m\n\u001b[0m",
            "\u001b[0;31mTypeError\u001b[0m: unsupported operand type(s) for +: 'NoneType' and 'int'"
          ]
        }
      ]
    },
    {
      "cell_type": "code",
      "source": [
        "def test6():   # By using return to the value\n",
        "  return 56\n"
      ],
      "metadata": {
        "id": "oSIokx4zgzsF"
      },
      "execution_count": null,
      "outputs": []
    },
    {
      "cell_type": "code",
      "source": [
        "test6()"
      ],
      "metadata": {
        "colab": {
          "base_uri": "https://localhost:8080/"
        },
        "id": "vhQ9HR4Yg6ED",
        "outputId": "32f34a87-bb87-4ecf-a103-63fdf9326d5c"
      },
      "execution_count": null,
      "outputs": [
        {
          "output_type": "execute_result",
          "data": {
            "text/plain": [
              "56"
            ]
          },
          "metadata": {},
          "execution_count": 34
        }
      ]
    },
    {
      "cell_type": "code",
      "source": [
        "a = test6()"
      ],
      "metadata": {
        "id": "V7o2U8VIh_Wo"
      },
      "execution_count": null,
      "outputs": []
    },
    {
      "cell_type": "code",
      "source": [
        "a + 77"
      ],
      "metadata": {
        "colab": {
          "base_uri": "https://localhost:8080/"
        },
        "id": "hlascWISiBb2",
        "outputId": "2371cae0-bdcf-41c0-d986-9f62a6eb64db"
      },
      "execution_count": null,
      "outputs": [
        {
          "output_type": "execute_result",
          "data": {
            "text/plain": [
              "133"
            ]
          },
          "metadata": {},
          "execution_count": 41
        }
      ]
    },
    {
      "cell_type": "code",
      "source": [
        "type(test6())"
      ],
      "metadata": {
        "colab": {
          "base_uri": "https://localhost:8080/"
        },
        "id": "jc8__CrXg7bO",
        "outputId": "307fc6e5-072d-4e66-acd5-82a50534f536"
      },
      "execution_count": null,
      "outputs": [
        {
          "output_type": "execute_result",
          "data": {
            "text/plain": [
              "int"
            ]
          },
          "metadata": {},
          "execution_count": 35
        }
      ]
    },
    {
      "cell_type": "code",
      "source": [
        "def tesss():\n",
        "  return \"Sanjay\""
      ],
      "metadata": {
        "id": "fyZWZ-I7hkri"
      },
      "execution_count": null,
      "outputs": []
    },
    {
      "cell_type": "code",
      "source": [
        "tesss()"
      ],
      "metadata": {
        "colab": {
          "base_uri": "https://localhost:8080/",
          "height": 35
        },
        "id": "YRs57AyohsoW",
        "outputId": "aaf27dd3-bf01-4fef-8a7e-7307ff91ca32"
      },
      "execution_count": null,
      "outputs": [
        {
          "output_type": "execute_result",
          "data": {
            "text/plain": [
              "'Sanjay'"
            ],
            "application/vnd.google.colaboratory.intrinsic+json": {
              "type": "string"
            }
          },
          "metadata": {},
          "execution_count": 38
        }
      ]
    },
    {
      "cell_type": "code",
      "source": [
        "len(tesss())"
      ],
      "metadata": {
        "colab": {
          "base_uri": "https://localhost:8080/"
        },
        "id": "9ybHtf7XhwXA",
        "outputId": "609db29c-7348-4c43-c69c-b9bc1bf37e6e"
      },
      "execution_count": null,
      "outputs": [
        {
          "output_type": "execute_result",
          "data": {
            "text/plain": [
              "6"
            ]
          },
          "metadata": {},
          "execution_count": 39
        }
      ]
    },
    {
      "cell_type": "code",
      "source": [
        "def test33():\n",
        "  print(777)"
      ],
      "metadata": {
        "id": "q-cvC-5Shyxc"
      },
      "execution_count": null,
      "outputs": []
    },
    {
      "cell_type": "code",
      "source": [
        "test33()"
      ],
      "metadata": {
        "colab": {
          "base_uri": "https://localhost:8080/"
        },
        "id": "3OeOaVN4iiLX",
        "outputId": "21a57c4b-c6ff-4c97-969c-98ffbf41dace"
      },
      "execution_count": null,
      "outputs": [
        {
          "output_type": "stream",
          "name": "stdout",
          "text": [
            "777\n"
          ]
        }
      ]
    },
    {
      "cell_type": "code",
      "source": [
        "b = test33()"
      ],
      "metadata": {
        "colab": {
          "base_uri": "https://localhost:8080/"
        },
        "id": "5W8Sxwidijbd",
        "outputId": "04ed0921-9689-4a62-e521-4cb12305c817"
      },
      "execution_count": null,
      "outputs": [
        {
          "output_type": "stream",
          "name": "stdout",
          "text": [
            "777\n"
          ]
        }
      ]
    },
    {
      "cell_type": "code",
      "source": [
        "b + 8888"
      ],
      "metadata": {
        "colab": {
          "base_uri": "https://localhost:8080/",
          "height": 167
        },
        "id": "tuefzfYzimli",
        "outputId": "b7c523ec-56de-4c24-ab05-fe48d9ba1a45"
      },
      "execution_count": null,
      "outputs": [
        {
          "output_type": "error",
          "ename": "TypeError",
          "evalue": "ignored",
          "traceback": [
            "\u001b[0;31m---------------------------------------------------------------------------\u001b[0m",
            "\u001b[0;31mTypeError\u001b[0m                                 Traceback (most recent call last)",
            "\u001b[0;32m<ipython-input-47-94791750ad6c>\u001b[0m in \u001b[0;36m<module>\u001b[0;34m\u001b[0m\n\u001b[0;32m----> 1\u001b[0;31m \u001b[0mb\u001b[0m \u001b[0;34m+\u001b[0m \u001b[0;36m8888\u001b[0m\u001b[0;34m\u001b[0m\u001b[0;34m\u001b[0m\u001b[0m\n\u001b[0m",
            "\u001b[0;31mTypeError\u001b[0m: unsupported operand type(s) for +: 'NoneType' and 'int'"
          ]
        }
      ]
    },
    {
      "cell_type": "code",
      "source": [
        "def tes():\n",
        "  return \"SANJAY GOWDA\""
      ],
      "metadata": {
        "id": "qk7yHIjEiqmB"
      },
      "execution_count": null,
      "outputs": []
    },
    {
      "cell_type": "code",
      "source": [
        "tes()"
      ],
      "metadata": {
        "colab": {
          "base_uri": "https://localhost:8080/",
          "height": 35
        },
        "id": "HRXOIEJSiv7Y",
        "outputId": "d52164e8-8388-4f9d-f3e6-f2c03c943b2b"
      },
      "execution_count": null,
      "outputs": [
        {
          "output_type": "execute_result",
          "data": {
            "text/plain": [
              "'SANJAY GOWDA'"
            ],
            "application/vnd.google.colaboratory.intrinsic+json": {
              "type": "string"
            }
          },
          "metadata": {},
          "execution_count": 50
        }
      ]
    },
    {
      "cell_type": "code",
      "source": [
        "c = tes()"
      ],
      "metadata": {
        "id": "XVuTnyqRixKp"
      },
      "execution_count": null,
      "outputs": []
    },
    {
      "cell_type": "code",
      "source": [
        "type(c)"
      ],
      "metadata": {
        "colab": {
          "base_uri": "https://localhost:8080/"
        },
        "id": "EyUFW1Hxi2n6",
        "outputId": "8130faec-cac9-411a-d219-d81bb6c4a7ba"
      },
      "execution_count": null,
      "outputs": [
        {
          "output_type": "execute_result",
          "data": {
            "text/plain": [
              "str"
            ]
          },
          "metadata": {},
          "execution_count": 52
        }
      ]
    },
    {
      "cell_type": "code",
      "source": [
        "len(c)"
      ],
      "metadata": {
        "colab": {
          "base_uri": "https://localhost:8080/"
        },
        "id": "FkpIdei6i37r",
        "outputId": "49316ee2-71a2-4ca7-e388-494f587e61b2"
      },
      "execution_count": null,
      "outputs": [
        {
          "output_type": "execute_result",
          "data": {
            "text/plain": [
              "12"
            ]
          },
          "metadata": {},
          "execution_count": 53
        }
      ]
    },
    {
      "cell_type": "code",
      "source": [
        "c +  \"  A\""
      ],
      "metadata": {
        "colab": {
          "base_uri": "https://localhost:8080/",
          "height": 35
        },
        "id": "p-TcrgQOi44K",
        "outputId": "4314f466-181f-440e-d280-7f8565ae6a87"
      },
      "execution_count": null,
      "outputs": [
        {
          "output_type": "execute_result",
          "data": {
            "text/plain": [
              "'SANJAY GOWDA  A'"
            ],
            "application/vnd.google.colaboratory.intrinsic+json": {
              "type": "string"
            }
          },
          "metadata": {},
          "execution_count": 55
        }
      ]
    },
    {
      "cell_type": "code",
      "source": [
        "def tesi():\n",
        "  print(\"sanju\")"
      ],
      "metadata": {
        "id": "zE7t7GAii7AJ"
      },
      "execution_count": null,
      "outputs": []
    },
    {
      "cell_type": "code",
      "source": [
        "def test10():    # return will supports multiple assignments or multiple elements\n",
        "  return 1,3,4,5,6, [33,5,66,7,88,9],(\"Sanjay\",\"konga\"),\"SAnju\""
      ],
      "metadata": {
        "id": "oij3ELWPjQUb"
      },
      "execution_count": null,
      "outputs": []
    },
    {
      "cell_type": "code",
      "source": [
        "test10()    #It will always return by default ()  tuples"
      ],
      "metadata": {
        "colab": {
          "base_uri": "https://localhost:8080/"
        },
        "id": "YRg7tadQjvlr",
        "outputId": "5a710255-c034-4bda-db26-e07d2869b958"
      },
      "execution_count": null,
      "outputs": [
        {
          "output_type": "execute_result",
          "data": {
            "text/plain": [
              "(1, 3, 4, 5, 6, [33, 5, 66, 7, 88, 9], ('Sanjay', 'konga'), 'SAnju')"
            ]
          },
          "metadata": {},
          "execution_count": 59
        }
      ]
    },
    {
      "cell_type": "code",
      "source": [
        "type(test10())"
      ],
      "metadata": {
        "colab": {
          "base_uri": "https://localhost:8080/"
        },
        "id": "jtiFawoLjxo9",
        "outputId": "ae66d4b4-7277-4e45-c2e8-1ce898718eff"
      },
      "execution_count": null,
      "outputs": [
        {
          "output_type": "execute_result",
          "data": {
            "text/plain": [
              "tuple"
            ]
          },
          "metadata": {},
          "execution_count": 60
        }
      ]
    },
    {
      "cell_type": "code",
      "source": [
        "test10()[1]"
      ],
      "metadata": {
        "colab": {
          "base_uri": "https://localhost:8080/"
        },
        "id": "F0NitF7XkHjK",
        "outputId": "86d7b0df-3712-427a-b6e7-cd6d2f9063f1"
      },
      "execution_count": null,
      "outputs": [
        {
          "output_type": "execute_result",
          "data": {
            "text/plain": [
              "3"
            ]
          },
          "metadata": {},
          "execution_count": 61
        }
      ]
    },
    {
      "cell_type": "code",
      "source": [
        "test10()[5][1]"
      ],
      "metadata": {
        "colab": {
          "base_uri": "https://localhost:8080/"
        },
        "id": "-9YlyM1BksQ1",
        "outputId": "8b55ed6c-1c8a-492e-df0b-86392849db33"
      },
      "execution_count": null,
      "outputs": [
        {
          "output_type": "execute_result",
          "data": {
            "text/plain": [
              "5"
            ]
          },
          "metadata": {},
          "execution_count": 65
        }
      ]
    },
    {
      "cell_type": "code",
      "source": [
        "type(test10()[5])"
      ],
      "metadata": {
        "colab": {
          "base_uri": "https://localhost:8080/"
        },
        "id": "GkEOsNPUkvf8",
        "outputId": "7eba6bf4-3650-4400-ba8d-75c0895915d2"
      },
      "execution_count": null,
      "outputs": [
        {
          "output_type": "execute_result",
          "data": {
            "text/plain": [
              "list"
            ]
          },
          "metadata": {},
          "execution_count": 64
        }
      ]
    },
    {
      "cell_type": "code",
      "source": [
        "test10()[6][1]"
      ],
      "metadata": {
        "colab": {
          "base_uri": "https://localhost:8080/",
          "height": 35
        },
        "id": "WfiGEs9lkz4H",
        "outputId": "e8311c42-3b45-4258-87c2-136e69655fdc"
      },
      "execution_count": null,
      "outputs": [
        {
          "output_type": "execute_result",
          "data": {
            "text/plain": [
              "'konga'"
            ],
            "application/vnd.google.colaboratory.intrinsic+json": {
              "type": "string"
            }
          },
          "metadata": {},
          "execution_count": 67
        }
      ]
    },
    {
      "cell_type": "code",
      "source": [
        "def test11():\n",
        "  return 1,3, [4,5,6,7,8,9],{56,7,8,5},(56,4,3,4,3)"
      ],
      "metadata": {
        "id": "sKa6A2NWk-xE"
      },
      "execution_count": null,
      "outputs": []
    },
    {
      "cell_type": "code",
      "source": [
        "test11()  # return by default it will be gives result in terms of tuples((()))"
      ],
      "metadata": {
        "colab": {
          "base_uri": "https://localhost:8080/"
        },
        "id": "C0z4iXaDlaNR",
        "outputId": "153bd19e-642b-4f18-9867-f113061f2299"
      },
      "execution_count": null,
      "outputs": [
        {
          "output_type": "execute_result",
          "data": {
            "text/plain": [
              "(1, 3, [4, 5, 6, 7, 8, 9], {5, 7, 8, 56}, (56, 4, 3, 4, 3))"
            ]
          },
          "metadata": {},
          "execution_count": 69
        }
      ]
    },
    {
      "cell_type": "code",
      "source": [
        "a,b,c,d,e = test11()  # assign multiple elements in terms of variable names"
      ],
      "metadata": {
        "id": "RDmAxpK2lbsc"
      },
      "execution_count": null,
      "outputs": []
    },
    {
      "cell_type": "code",
      "source": [
        "a"
      ],
      "metadata": {
        "colab": {
          "base_uri": "https://localhost:8080/"
        },
        "id": "7HE-m7UjloX3",
        "outputId": "f9192666-187b-4c56-b848-8ee9f6beb73f"
      },
      "execution_count": null,
      "outputs": [
        {
          "output_type": "execute_result",
          "data": {
            "text/plain": [
              "1"
            ]
          },
          "metadata": {},
          "execution_count": 71
        }
      ]
    },
    {
      "cell_type": "code",
      "source": [
        "c"
      ],
      "metadata": {
        "colab": {
          "base_uri": "https://localhost:8080/"
        },
        "id": "CmL2fC7RlpRA",
        "outputId": "5c5f6d92-9d6e-422f-cba1-2cc236e8c103"
      },
      "execution_count": null,
      "outputs": [
        {
          "output_type": "execute_result",
          "data": {
            "text/plain": [
              "[4, 5, 6, 7, 8, 9]"
            ]
          },
          "metadata": {},
          "execution_count": 72
        }
      ]
    },
    {
      "cell_type": "code",
      "source": [
        "d"
      ],
      "metadata": {
        "colab": {
          "base_uri": "https://localhost:8080/"
        },
        "id": "fFOSr6LSlp-u",
        "outputId": "ad3a3e63-5630-4876-81c2-87bcaba0b512"
      },
      "execution_count": null,
      "outputs": [
        {
          "output_type": "execute_result",
          "data": {
            "text/plain": [
              "{5, 7, 8, 56}"
            ]
          },
          "metadata": {},
          "execution_count": 73
        }
      ]
    },
    {
      "cell_type": "code",
      "source": [
        "e"
      ],
      "metadata": {
        "colab": {
          "base_uri": "https://localhost:8080/"
        },
        "id": "OvPMG4BPlrW_",
        "outputId": "97d79c17-7623-4ce0-8382-f62e92841475"
      },
      "execution_count": null,
      "outputs": [
        {
          "output_type": "execute_result",
          "data": {
            "text/plain": [
              "(56, 4, 3, 4, 3)"
            ]
          },
          "metadata": {},
          "execution_count": 74
        }
      ]
    },
    {
      "cell_type": "code",
      "source": [
        "def test12():\n",
        "  a = 3+55-66*8888\n",
        "  return a"
      ],
      "metadata": {
        "id": "7kTMpEjclr9G"
      },
      "execution_count": null,
      "outputs": []
    },
    {
      "cell_type": "code",
      "source": [
        "test12()"
      ],
      "metadata": {
        "colab": {
          "base_uri": "https://localhost:8080/"
        },
        "id": "E1pZcRz8mrtP",
        "outputId": "e94e974a-c12c-4df7-e331-985f9e9c345d"
      },
      "execution_count": null,
      "outputs": [
        {
          "output_type": "execute_result",
          "data": {
            "text/plain": [
              "-586550"
            ]
          },
          "metadata": {},
          "execution_count": 76
        }
      ]
    },
    {
      "cell_type": "code",
      "source": [
        "def tes2():\n",
        "  a = 34\n",
        "  b = 333\n",
        "  c = 6666\n",
        "  return a + b + c\n",
        "  tes2()"
      ],
      "metadata": {
        "id": "ZhaCVdrWmtO2"
      },
      "execution_count": null,
      "outputs": []
    },
    {
      "cell_type": "code",
      "source": [
        "tes2()"
      ],
      "metadata": {
        "colab": {
          "base_uri": "https://localhost:8080/"
        },
        "id": "6LQ9FZPkm2xL",
        "outputId": "183715bf-8238-4921-d39c-cb666268a5e4"
      },
      "execution_count": null,
      "outputs": [
        {
          "output_type": "execute_result",
          "data": {
            "text/plain": [
              "7033"
            ]
          },
          "metadata": {},
          "execution_count": 80
        }
      ]
    },
    {
      "cell_type": "code",
      "source": [
        "def tes4():\n",
        "  a = \"Sanjay Gowda\"\n",
        "  return len(a)"
      ],
      "metadata": {
        "id": "6aD1w6D8m6SD"
      },
      "execution_count": null,
      "outputs": []
    },
    {
      "cell_type": "code",
      "source": [
        "tes4()"
      ],
      "metadata": {
        "colab": {
          "base_uri": "https://localhost:8080/"
        },
        "id": "-Olt9ZP-nEtG",
        "outputId": "b2c514ad-ea2d-428a-c68a-a62a9be11426"
      },
      "execution_count": null,
      "outputs": [
        {
          "output_type": "execute_result",
          "data": {
            "text/plain": [
              "12"
            ]
          },
          "metadata": {},
          "execution_count": 82
        }
      ]
    },
    {
      "cell_type": "code",
      "source": [
        "def tes5():    # 6 squares 5    6*6*6*6*6*6\n",
        "  a = 6**5\n",
        "  return a\n",
        "  "
      ],
      "metadata": {
        "id": "LqoV7tzjnFsT"
      },
      "execution_count": null,
      "outputs": []
    },
    {
      "cell_type": "code",
      "source": [
        "tes5()"
      ],
      "metadata": {
        "colab": {
          "base_uri": "https://localhost:8080/"
        },
        "id": "4yQBprS8nSC4",
        "outputId": "173bf239-1bda-4b4d-bee5-5829e8fda344"
      },
      "execution_count": null,
      "outputs": [
        {
          "output_type": "execute_result",
          "data": {
            "text/plain": [
              "7776"
            ]
          },
          "metadata": {},
          "execution_count": 86
        }
      ]
    },
    {
      "cell_type": "code",
      "source": [
        "l = [8,6,4,6,4,6,3,5]\n",
        "def tes33():\n",
        "  a = sum(l)\n",
        "  return a"
      ],
      "metadata": {
        "id": "bhiS3wSjnTKs"
      },
      "execution_count": null,
      "outputs": []
    },
    {
      "cell_type": "code",
      "source": [
        "tes33()"
      ],
      "metadata": {
        "colab": {
          "base_uri": "https://localhost:8080/"
        },
        "id": "9K3c3ZpcoIkW",
        "outputId": "5d802380-cf5c-4559-8314-b186f43d5a65"
      },
      "execution_count": null,
      "outputs": [
        {
          "output_type": "execute_result",
          "data": {
            "text/plain": [
              "42"
            ]
          },
          "metadata": {},
          "execution_count": 88
        }
      ]
    },
    {
      "cell_type": "code",
      "source": [
        "l = [8,6,4,6,4,6,3,5]\n",
        "a = 0\n",
        "for i in l:\n",
        "  a = a+i\n",
        "print(a)\n",
        " "
      ],
      "metadata": {
        "colab": {
          "base_uri": "https://localhost:8080/"
        },
        "id": "K6U7-HaUoKJg",
        "outputId": "508664b4-0ad0-4648-fcca-df66172b556f"
      },
      "execution_count": null,
      "outputs": [
        {
          "output_type": "stream",
          "name": "stdout",
          "text": [
            "42\n"
          ]
        }
      ]
    },
    {
      "cell_type": "code",
      "source": [
        "l = [6,7,5,76,4,65,4,6,4,65]\n",
        "\n",
        "a = 0\n",
        "for i in l:\n",
        "  a = a + i\n",
        "print(a)"
      ],
      "metadata": {
        "colab": {
          "base_uri": "https://localhost:8080/"
        },
        "id": "-y5EJvyfoqBh",
        "outputId": "ce2cd103-8979-463b-e095-7432a1a5aa6e"
      },
      "execution_count": null,
      "outputs": [
        {
          "output_type": "stream",
          "name": "stdout",
          "text": [
            "242\n"
          ]
        }
      ]
    },
    {
      "cell_type": "code",
      "source": [
        "l = (56,5,4,4,34,65,43,65,43,65,34)\n",
        "a = 0\n",
        "for i in l:\n",
        "  a = a + i\n",
        "print(a)"
      ],
      "metadata": {
        "colab": {
          "base_uri": "https://localhost:8080/"
        },
        "id": "yoV9x99UpC5m",
        "outputId": "e24bf5b5-8ff1-47eb-b1c5-4acf9cff8911"
      },
      "execution_count": null,
      "outputs": [
        {
          "output_type": "stream",
          "name": "stdout",
          "text": [
            "418\n"
          ]
        }
      ]
    },
    {
      "cell_type": "code",
      "source": [
        "l = [3,5,3,5,2,5,2,5,2,5,6,3,6,25]\n",
        "a = 0\n",
        "for i in l:\n",
        "  a = a + i\n",
        "print(a)"
      ],
      "metadata": {
        "colab": {
          "base_uri": "https://localhost:8080/"
        },
        "id": "BDIp5ZZSpLiu",
        "outputId": "573d74ef-e639-4c83-cf0d-58ffde1f785d"
      },
      "execution_count": null,
      "outputs": [
        {
          "output_type": "stream",
          "name": "stdout",
          "text": [
            "77\n"
          ]
        }
      ]
    },
    {
      "cell_type": "code",
      "source": [
        "def te2():\n",
        "  l = [3,5,3,5,2,54,2,4,2,5,2,4,2,4,2]\n",
        "  a = 0\n",
        "  for i in l:\n",
        "    a = a +i\n",
        "  return a\n"
      ],
      "metadata": {
        "id": "NfomU2v7pdf7"
      },
      "execution_count": null,
      "outputs": []
    },
    {
      "cell_type": "code",
      "source": [
        "te2()"
      ],
      "metadata": {
        "colab": {
          "base_uri": "https://localhost:8080/"
        },
        "id": "NUgwDqTNp2tj",
        "outputId": "dbf9ac3b-5fe3-45d5-9f2c-7665597541e0"
      },
      "execution_count": null,
      "outputs": [
        {
          "output_type": "execute_result",
          "data": {
            "text/plain": [
              "99"
            ]
          },
          "metadata": {},
          "execution_count": 106
        }
      ]
    },
    {
      "cell_type": "code",
      "source": [
        "def te3():\n",
        "  l = [4,5,3,4,5,23,5,2,54,2,\"sanjuhgjhgbjku\"]\n",
        "  a = 0\n",
        "  for i in l:\n",
        "    a = a +i\n",
        "    return a"
      ],
      "metadata": {
        "id": "MIwmdfeop32g"
      },
      "execution_count": null,
      "outputs": []
    },
    {
      "cell_type": "code",
      "source": [
        "te3()"
      ],
      "metadata": {
        "colab": {
          "base_uri": "https://localhost:8080/"
        },
        "id": "X2NGUCjpqTIG",
        "outputId": "9ef06474-e958-44bc-991c-efea9d2391c2"
      },
      "execution_count": null,
      "outputs": [
        {
          "output_type": "execute_result",
          "data": {
            "text/plain": [
              "4"
            ]
          },
          "metadata": {},
          "execution_count": 113
        }
      ]
    },
    {
      "cell_type": "code",
      "source": [
        "def te4():   # sum of all elements\n",
        "  l = [5,6,4,65,43,5,3,5,\"sanju\",89.7]\n",
        "  a = 0 \n",
        "  for i in l:\n",
        "     if type(i) == float:\n",
        "      a = i + a\n",
        "  return a\n"
      ],
      "metadata": {
        "id": "njRgZEfWqVDm"
      },
      "execution_count": null,
      "outputs": []
    },
    {
      "cell_type": "code",
      "source": [
        "te4()"
      ],
      "metadata": {
        "colab": {
          "base_uri": "https://localhost:8080/"
        },
        "id": "NBNYVjQYq56g",
        "outputId": "b6815e62-ba5c-4a2b-a575-38ed51d8a626"
      },
      "execution_count": null,
      "outputs": [
        {
          "output_type": "execute_result",
          "data": {
            "text/plain": [
              "89.7"
            ]
          },
          "metadata": {},
          "execution_count": 127
        }
      ]
    },
    {
      "cell_type": "code",
      "source": [
        "def te5():\n",
        "  s = {4,56,3,3,5,2,5,2,4,2,4,2,4,2,4,1,4,2,\"Sanjay\"}\n",
        "  a = 0\n",
        "  for i in l:\n",
        "     if type(i) == int:\n",
        "       a = a + i\n",
        "  return a  "
      ],
      "metadata": {
        "id": "r5wEDZEiq-oW"
      },
      "execution_count": null,
      "outputs": []
    },
    {
      "cell_type": "code",
      "source": [
        "te5()"
      ],
      "metadata": {
        "colab": {
          "base_uri": "https://localhost:8080/"
        },
        "id": "NRYVnFjrr19o",
        "outputId": "4d3192fb-c351-41ca-b066-43893ce96414"
      },
      "execution_count": null,
      "outputs": [
        {
          "output_type": "execute_result",
          "data": {
            "text/plain": [
              "77"
            ]
          },
          "metadata": {},
          "execution_count": 129
        }
      ]
    },
    {
      "cell_type": "code",
      "source": [
        "def te5():\n",
        "  t = (423,234343,4332,43,21,43,45.77,89.66456,6644.5645545,545455.454545)\n",
        "  a = 0\n",
        "  for i in t:\n",
        "    if type(i) == float:\n",
        "      a = a + i\n",
        "  return a"
      ],
      "metadata": {
        "id": "-Kjk93qSr4Kx"
      },
      "execution_count": null,
      "outputs": []
    },
    {
      "cell_type": "code",
      "source": [
        "print(te5())"
      ],
      "metadata": {
        "colab": {
          "base_uri": "https://localhost:8080/"
        },
        "id": "tDTFmPyysL4N",
        "outputId": "c30bcee3-a1d9-4757-bc13-82309c2c8576"
      },
      "execution_count": null,
      "outputs": [
        {
          "output_type": "stream",
          "name": "stdout",
          "text": [
            "552235.4536595\n"
          ]
        }
      ]
    },
    {
      "cell_type": "code",
      "source": [
        "te5()"
      ],
      "metadata": {
        "colab": {
          "base_uri": "https://localhost:8080/"
        },
        "id": "f2SNZ70psPGh",
        "outputId": "a7aa2587-5878-490a-999b-a2d62dcd310b"
      },
      "execution_count": null,
      "outputs": [
        {
          "output_type": "execute_result",
          "data": {
            "text/plain": [
              "552235.4536595"
            ]
          },
          "metadata": {},
          "execution_count": 133
        }
      ]
    },
    {
      "cell_type": "code",
      "source": [
        "l1 = [4,5,3,5,35,3,5,2,5,2,54,2,5,2]\n"
      ],
      "metadata": {
        "id": "y2_UqctesQbD"
      },
      "execution_count": null,
      "outputs": []
    },
    {
      "cell_type": "code",
      "source": [
        "def tes6(l1):    # passing an argument\n",
        "  a = 0\n",
        "  for i in l1:\n",
        "    a = a + i\n",
        "  return a\n"
      ],
      "metadata": {
        "id": "fpORaOhQuBXA"
      },
      "execution_count": null,
      "outputs": []
    },
    {
      "cell_type": "code",
      "source": [
        "tes6(l1)"
      ],
      "metadata": {
        "colab": {
          "base_uri": "https://localhost:8080/"
        },
        "id": "RxExW3lPuOju",
        "outputId": "411d4b83-81d4-4136-eeaa-53cfa54c110c"
      },
      "execution_count": null,
      "outputs": [
        {
          "output_type": "execute_result",
          "data": {
            "text/plain": [
              "132"
            ]
          },
          "metadata": {},
          "execution_count": 139
        }
      ]
    },
    {
      "cell_type": "code",
      "source": [
        "l2  = [5,5,5]\n",
        "tes6(l2)"
      ],
      "metadata": {
        "colab": {
          "base_uri": "https://localhost:8080/"
        },
        "id": "pCFUUDY9uQw9",
        "outputId": "33dfe1d0-f594-4e93-f8ca-00de74e2d01f"
      },
      "execution_count": null,
      "outputs": [
        {
          "output_type": "execute_result",
          "data": {
            "text/plain": [
              "15"
            ]
          },
          "metadata": {},
          "execution_count": 140
        }
      ]
    },
    {
      "cell_type": "code",
      "source": [
        "l3 = [4,53,53]\n",
        "tes6(l3)"
      ],
      "metadata": {
        "colab": {
          "base_uri": "https://localhost:8080/"
        },
        "id": "JxTUZP6jujDZ",
        "outputId": "dd11f6fd-0b68-43ef-b0e1-cd075108d530"
      },
      "execution_count": null,
      "outputs": [
        {
          "output_type": "execute_result",
          "data": {
            "text/plain": [
              "110"
            ]
          },
          "metadata": {},
          "execution_count": 141
        }
      ]
    },
    {
      "cell_type": "code",
      "source": [
        "t = (4,6,3,52,5,4)\n",
        "tes6(t)"
      ],
      "metadata": {
        "colab": {
          "base_uri": "https://localhost:8080/"
        },
        "id": "JAt0tIB7ureA",
        "outputId": "678b2a09-da18-41a3-871c-a9ecf5556acc"
      },
      "execution_count": null,
      "outputs": [
        {
          "output_type": "execute_result",
          "data": {
            "text/plain": [
              "74"
            ]
          },
          "metadata": {},
          "execution_count": 142
        }
      ]
    },
    {
      "cell_type": "code",
      "source": [
        "l1 = [3,5,24,3,56.7,556.655,56.655,556.65]"
      ],
      "metadata": {
        "id": "-A3KiPgwu1VC"
      },
      "execution_count": null,
      "outputs": []
    },
    {
      "cell_type": "code",
      "source": [
        "def go(l1):\n",
        "  a = 0\n",
        "  for i in l1:\n",
        "    if type(i) == int:\n",
        "     a = a + i\n",
        "  return a"
      ],
      "metadata": {
        "id": "wA5H-yicu_BW"
      },
      "execution_count": null,
      "outputs": []
    },
    {
      "cell_type": "code",
      "source": [
        "go(l1)"
      ],
      "metadata": {
        "colab": {
          "base_uri": "https://localhost:8080/"
        },
        "id": "o4vfZ0vYvR4N",
        "outputId": "65a288ee-9a09-4756-d689-a247a21599a5"
      },
      "execution_count": null,
      "outputs": [
        {
          "output_type": "execute_result",
          "data": {
            "text/plain": [
              "35"
            ]
          },
          "metadata": {},
          "execution_count": 153
        }
      ]
    },
    {
      "cell_type": "code",
      "source": [
        "l2 = {534,3523,433,23,542343,433}\n",
        "go(l2)"
      ],
      "metadata": {
        "colab": {
          "base_uri": "https://localhost:8080/"
        },
        "id": "kkMtw8e2vYpt",
        "outputId": "03da6d00-9e6d-4044-dee2-b7252b2b3fb4"
      },
      "execution_count": null,
      "outputs": [
        {
          "output_type": "execute_result",
          "data": {
            "text/plain": [
              "546856"
            ]
          },
          "metadata": {},
          "execution_count": 154
        }
      ]
    },
    {
      "cell_type": "code",
      "source": [
        "l3 = (434,34,34)\n",
        "go(l3)"
      ],
      "metadata": {
        "colab": {
          "base_uri": "https://localhost:8080/"
        },
        "id": "gFe0dGlyve3e",
        "outputId": "1c756370-d861-407d-ea41-1b18bacb5d98"
      },
      "execution_count": null,
      "outputs": [
        {
          "output_type": "execute_result",
          "data": {
            "text/plain": [
              "502"
            ]
          },
          "metadata": {},
          "execution_count": 156
        }
      ]
    },
    {
      "cell_type": "code",
      "source": [
        "def tes5(a,b):   # passing with an arguments\n",
        "  return a * b\n"
      ],
      "metadata": {
        "id": "tfSOlZdkv70W"
      },
      "execution_count": null,
      "outputs": []
    },
    {
      "cell_type": "code",
      "source": [
        "tes5(4,5)"
      ],
      "metadata": {
        "colab": {
          "base_uri": "https://localhost:8080/"
        },
        "id": "9ULAj2GjwGWN",
        "outputId": "651e0eee-c693-48a2-9803-d6d5b694d7da"
      },
      "execution_count": null,
      "outputs": [
        {
          "output_type": "execute_result",
          "data": {
            "text/plain": [
              "20"
            ]
          },
          "metadata": {},
          "execution_count": 159
        }
      ]
    },
    {
      "cell_type": "code",
      "source": [
        "def tes5(a , b):   # passing with an arguments\n",
        "  return a + b\n"
      ],
      "metadata": {
        "id": "YsO7pbhgwH6y"
      },
      "execution_count": null,
      "outputs": []
    },
    {
      "cell_type": "code",
      "source": [
        "tes5(9,9)"
      ],
      "metadata": {
        "colab": {
          "base_uri": "https://localhost:8080/"
        },
        "id": "qJI35UZIwO1n",
        "outputId": "40f448eb-950a-46ea-996f-d73678b7eb14"
      },
      "execution_count": null,
      "outputs": [
        {
          "output_type": "execute_result",
          "data": {
            "text/plain": [
              "18"
            ]
          },
          "metadata": {},
          "execution_count": 161
        }
      ]
    },
    {
      "cell_type": "code",
      "source": [
        "tes5(\"sanju\",\"gowda\")"
      ],
      "metadata": {
        "colab": {
          "base_uri": "https://localhost:8080/",
          "height": 35
        },
        "id": "BAOLJU0uwQii",
        "outputId": "f43d5e34-9e3f-4570-9165-a68881212523"
      },
      "execution_count": null,
      "outputs": [
        {
          "output_type": "execute_result",
          "data": {
            "text/plain": [
              "'sanjugowda'"
            ],
            "application/vnd.google.colaboratory.intrinsic+json": {
              "type": "string"
            }
          },
          "metadata": {},
          "execution_count": 162
        }
      ]
    },
    {
      "cell_type": "code",
      "source": [
        "l = [9,5,3,5,2,55.5,54.5,55.5,3,45]\n",
        "def te6(l):\n",
        "  a = 0\n",
        "  for i in l:\n",
        "    if type(i) == float:\n",
        "      a = a + i\n",
        "  return a\n",
        "\n",
        "  "
      ],
      "metadata": {
        "id": "n-uZEwsVwVDN"
      },
      "execution_count": null,
      "outputs": []
    },
    {
      "cell_type": "code",
      "source": [
        "te6()"
      ],
      "metadata": {
        "colab": {
          "base_uri": "https://localhost:8080/"
        },
        "id": "q6M-U6T1w-CK",
        "outputId": "74a19777-1a7f-49e0-bda1-98fac0ec3438"
      },
      "execution_count": null,
      "outputs": [
        {
          "output_type": "execute_result",
          "data": {
            "text/plain": [
              "165.5"
            ]
          },
          "metadata": {},
          "execution_count": 170
        }
      ]
    },
    {
      "cell_type": "code",
      "source": [
        "l1 = (45.6,56.7)\n",
        "te6(l1)"
      ],
      "metadata": {
        "colab": {
          "base_uri": "https://localhost:8080/"
        },
        "id": "9ZQ3LdtdxA24",
        "outputId": "bfbc6ba9-7fb4-4d75-a959-4712c3846a05"
      },
      "execution_count": null,
      "outputs": [
        {
          "output_type": "execute_result",
          "data": {
            "text/plain": [
              "102.30000000000001"
            ]
          },
          "metadata": {},
          "execution_count": 174
        }
      ]
    },
    {
      "cell_type": "code",
      "source": [
        "l3 = {4,53.6,77.8}\n",
        "te6(l3)"
      ],
      "metadata": {
        "colab": {
          "base_uri": "https://localhost:8080/"
        },
        "id": "n3vgc92OxQrU",
        "outputId": "eae9f88e-43e5-4134-b7d1-b41f2b3566f2"
      },
      "execution_count": null,
      "outputs": [
        {
          "output_type": "execute_result",
          "data": {
            "text/plain": [
              "131.4"
            ]
          },
          "metadata": {},
          "execution_count": 175
        }
      ]
    },
    {
      "cell_type": "code",
      "source": [
        "def des(a,b,c):\n",
        "  return a * b + c\n"
      ],
      "metadata": {
        "id": "jfzzKHjKxzrl"
      },
      "execution_count": null,
      "outputs": []
    },
    {
      "cell_type": "code",
      "source": [
        "des(6,5,3)"
      ],
      "metadata": {
        "colab": {
          "base_uri": "https://localhost:8080/"
        },
        "id": "pdxPNFt4x_vU",
        "outputId": "aff9ff04-8f6c-4130-fb4e-feaed80ad238"
      },
      "execution_count": null,
      "outputs": [
        {
          "output_type": "execute_result",
          "data": {
            "text/plain": [
              "33"
            ]
          },
          "metadata": {},
          "execution_count": 177
        }
      ]
    },
    {
      "cell_type": "code",
      "source": [
        "l = (5,6,7)\n",
        "a = 0\n",
        "def das(l):\n",
        "  for i in l:\n",
        "    a  = a + i\n",
        "  return a\n"
      ],
      "metadata": {
        "id": "bL3vBdy8yB33"
      },
      "execution_count": null,
      "outputs": []
    },
    {
      "cell_type": "code",
      "source": [
        "das()"
      ],
      "metadata": {
        "colab": {
          "base_uri": "https://localhost:8080/",
          "height": 167
        },
        "id": "PPSG1LpQySy1",
        "outputId": "b9fd3fd2-f4fb-4293-a475-dad02f67d617"
      },
      "execution_count": null,
      "outputs": [
        {
          "output_type": "error",
          "ename": "TypeError",
          "evalue": "ignored",
          "traceback": [
            "\u001b[0;31m---------------------------------------------------------------------------\u001b[0m",
            "\u001b[0;31mTypeError\u001b[0m                                 Traceback (most recent call last)",
            "\u001b[0;32m<ipython-input-200-52edd8a61e5f>\u001b[0m in \u001b[0;36m<module>\u001b[0;34m\u001b[0m\n\u001b[0;32m----> 1\u001b[0;31m \u001b[0mdas\u001b[0m\u001b[0;34m(\u001b[0m\u001b[0;34m)\u001b[0m\u001b[0;34m\u001b[0m\u001b[0;34m\u001b[0m\u001b[0m\n\u001b[0m",
            "\u001b[0;31mTypeError\u001b[0m: das() missing 1 required positional argument: 'l'"
          ]
        }
      ]
    },
    {
      "cell_type": "code",
      "source": [
        "l2 = [4,5]\n",
        "das(l2)"
      ],
      "metadata": {
        "colab": {
          "base_uri": "https://localhost:8080/"
        },
        "id": "68hUr30pyUAL",
        "outputId": "c1e6e131-44be-4017-bcbf-ac95329e8fb7"
      },
      "execution_count": null,
      "outputs": [
        {
          "output_type": "execute_result",
          "data": {
            "text/plain": [
              "9"
            ]
          },
          "metadata": {},
          "execution_count": 183
        }
      ]
    },
    {
      "cell_type": "code",
      "source": [
        "l = [7,6,7]\n",
        "def san(l):\n",
        " a = 0\n",
        " for i in l:\n",
        "   a = a + i\n",
        " return a\n"
      ],
      "metadata": {
        "id": "3PS92xrhylMc"
      },
      "execution_count": null,
      "outputs": []
    },
    {
      "cell_type": "code",
      "source": [
        "san(l)"
      ],
      "metadata": {
        "colab": {
          "base_uri": "https://localhost:8080/"
        },
        "id": "7r4OEW4-zWLK",
        "outputId": "1d5000a9-0d6c-4364-bdc1-449553b1f772"
      },
      "execution_count": null,
      "outputs": [
        {
          "output_type": "execute_result",
          "data": {
            "text/plain": [
              "20"
            ]
          },
          "metadata": {},
          "execution_count": 209
        }
      ]
    },
    {
      "cell_type": "code",
      "source": [
        "l2 = [9,63,5]\n",
        "san(l2)"
      ],
      "metadata": {
        "colab": {
          "base_uri": "https://localhost:8080/"
        },
        "id": "jpNv-lGKzdID",
        "outputId": "2a439492-8ca8-49cb-9891-255460f1ff02"
      },
      "execution_count": null,
      "outputs": [
        {
          "output_type": "execute_result",
          "data": {
            "text/plain": [
              "77"
            ]
          },
          "metadata": {},
          "execution_count": 210
        }
      ]
    },
    {
      "cell_type": "code",
      "source": [
        "def got(a , b):\n",
        "  return a * b\n",
        "  \n"
      ],
      "metadata": {
        "id": "AIdqbIjQzkZq"
      },
      "execution_count": null,
      "outputs": []
    },
    {
      "cell_type": "code",
      "source": [
        "got(45,5)"
      ],
      "metadata": {
        "colab": {
          "base_uri": "https://localhost:8080/"
        },
        "id": "jl3QtC29zruV",
        "outputId": "6d99162e-05e4-4a49-fd93-3ae680e1d701"
      },
      "execution_count": null,
      "outputs": [
        {
          "output_type": "execute_result",
          "data": {
            "text/plain": [
              "225"
            ]
          },
          "metadata": {},
          "execution_count": 212
        }
      ]
    },
    {
      "cell_type": "code",
      "source": [
        "l = (7,4,3,23,4,24,2,4)\n",
        "def te(l):\n",
        "  a = 0\n",
        "  for i in l:\n",
        "    a = a + i\n",
        "  return a\n"
      ],
      "metadata": {
        "id": "ftevdwJVztYp"
      },
      "execution_count": null,
      "outputs": []
    },
    {
      "cell_type": "code",
      "source": [
        "te(l)"
      ],
      "metadata": {
        "colab": {
          "base_uri": "https://localhost:8080/"
        },
        "id": "uHKHCwfS1h45",
        "outputId": "27fcc7cb-a4ba-4e69-c558-e014512e33e4"
      },
      "execution_count": null,
      "outputs": [
        {
          "output_type": "execute_result",
          "data": {
            "text/plain": [
              "71"
            ]
          },
          "metadata": {},
          "execution_count": 217
        }
      ]
    },
    {
      "cell_type": "code",
      "source": [
        "l1 = (8,53,5,24,25,5)\n",
        "te(l1)"
      ],
      "metadata": {
        "colab": {
          "base_uri": "https://localhost:8080/"
        },
        "id": "6eAb5L_t1jCy",
        "outputId": "583f85c2-c63a-485c-8bba-8f70395545da"
      },
      "execution_count": null,
      "outputs": [
        {
          "output_type": "execute_result",
          "data": {
            "text/plain": [
              "120"
            ]
          },
          "metadata": {},
          "execution_count": 218
        }
      ]
    },
    {
      "cell_type": "code",
      "source": [
        "def te4(a = 89 , b= 90):\n",
        "  return a + b"
      ],
      "metadata": {
        "id": "dj8IINFS1s7o"
      },
      "execution_count": null,
      "outputs": []
    },
    {
      "cell_type": "code",
      "source": [
        "te4()"
      ],
      "metadata": {
        "colab": {
          "base_uri": "https://localhost:8080/"
        },
        "id": "1TOgfJeu2Eqs",
        "outputId": "943d6137-efbf-43e7-95b7-201bdd637605"
      },
      "execution_count": null,
      "outputs": [
        {
          "output_type": "execute_result",
          "data": {
            "text/plain": [
              "179"
            ]
          },
          "metadata": {},
          "execution_count": 221
        }
      ]
    },
    {
      "cell_type": "code",
      "source": [
        "te4(a =99,b =90)"
      ],
      "metadata": {
        "colab": {
          "base_uri": "https://localhost:8080/"
        },
        "id": "a3pWQg3u2I5S",
        "outputId": "a30a92f9-f6a7-49b9-ecf9-cb066511363d"
      },
      "execution_count": null,
      "outputs": [
        {
          "output_type": "execute_result",
          "data": {
            "text/plain": [
              "189"
            ]
          },
          "metadata": {},
          "execution_count": 222
        }
      ]
    },
    {
      "cell_type": "code",
      "source": [
        "te4(67,78)"
      ],
      "metadata": {
        "colab": {
          "base_uri": "https://localhost:8080/"
        },
        "id": "AaNeCEgE2QKR",
        "outputId": "b340f28c-6702-4922-c8a0-a36b606317b7"
      },
      "execution_count": null,
      "outputs": [
        {
          "output_type": "execute_result",
          "data": {
            "text/plain": [
              "145"
            ]
          },
          "metadata": {},
          "execution_count": 223
        }
      ]
    },
    {
      "cell_type": "code",
      "source": [
        "te4(56,46,35)"
      ],
      "metadata": {
        "colab": {
          "base_uri": "https://localhost:8080/",
          "height": 167
        },
        "id": "HBzNjNwQ2TFk",
        "outputId": "badfaac8-cdb9-4884-bca1-60a943a8d913"
      },
      "execution_count": null,
      "outputs": [
        {
          "output_type": "error",
          "ename": "TypeError",
          "evalue": "ignored",
          "traceback": [
            "\u001b[0;31m---------------------------------------------------------------------------\u001b[0m",
            "\u001b[0;31mTypeError\u001b[0m                                 Traceback (most recent call last)",
            "\u001b[0;32m<ipython-input-224-ec9970e1e2b7>\u001b[0m in \u001b[0;36m<module>\u001b[0;34m\u001b[0m\n\u001b[0;32m----> 1\u001b[0;31m \u001b[0mte4\u001b[0m\u001b[0;34m(\u001b[0m\u001b[0;36m56\u001b[0m\u001b[0;34m,\u001b[0m\u001b[0;36m46\u001b[0m\u001b[0;34m,\u001b[0m\u001b[0;36m35\u001b[0m\u001b[0;34m)\u001b[0m\u001b[0;34m\u001b[0m\u001b[0;34m\u001b[0m\u001b[0m\n\u001b[0m",
            "\u001b[0;31mTypeError\u001b[0m: te4() takes from 0 to 2 positional arguments but 3 were given"
          ]
        }
      ]
    },
    {
      "cell_type": "code",
      "source": [
        "te4(b = 90, a =80)"
      ],
      "metadata": {
        "colab": {
          "base_uri": "https://localhost:8080/"
        },
        "id": "7wfYHGRx2WfS",
        "outputId": "25f46eb2-dfaa-4fbb-f21c-9bfc11995d63"
      },
      "execution_count": null,
      "outputs": [
        {
          "output_type": "execute_result",
          "data": {
            "text/plain": [
              "170"
            ]
          },
          "metadata": {},
          "execution_count": 226
        }
      ]
    },
    {
      "cell_type": "code",
      "source": [
        "te4(888888, 777777)"
      ],
      "metadata": {
        "colab": {
          "base_uri": "https://localhost:8080/"
        },
        "id": "SC6b3Gox2gnY",
        "outputId": "0894b69d-23fc-44ba-e890-8d33dc0ac4b8"
      },
      "execution_count": null,
      "outputs": [
        {
          "output_type": "execute_result",
          "data": {
            "text/plain": [
              "1666665"
            ]
          },
          "metadata": {},
          "execution_count": 227
        }
      ]
    },
    {
      "cell_type": "code",
      "source": [
        "l = [\"sanju\",\"bhavi\",\"jaya\",90,6,4,56]\n",
        "l1 = []\n",
        "for i in l:\n",
        "    if type(i) == str:\n",
        "      l1.append(i)\n",
        "  \n",
        "\n",
        "\n"
      ],
      "metadata": {
        "id": "4biAecqb2k3T"
      },
      "execution_count": null,
      "outputs": []
    },
    {
      "cell_type": "code",
      "source": [
        "l1\n"
      ],
      "metadata": {
        "colab": {
          "base_uri": "https://localhost:8080/"
        },
        "id": "0JynIYEk3bwi",
        "outputId": "0477c7f6-c259-4d6d-9ab2-10e4e3ad3bac"
      },
      "execution_count": null,
      "outputs": [
        {
          "output_type": "execute_result",
          "data": {
            "text/plain": [
              "['sanju', 'bhavi', 'jaya']"
            ]
          },
          "metadata": {},
          "execution_count": 246
        }
      ]
    },
    {
      "cell_type": "code",
      "source": [
        "l = [45.7,67.8,789.8,\"sanju\",\"jaya\",\"jayammma\",\"lol\"] # extract float by using functions\n",
        "\n",
        "def test3(l):\n",
        "    l1 = []\n",
        "    for i in l:\n",
        "      if type(i) == str:\n",
        "        l1.append(i)\n",
        "    return l1"
      ],
      "metadata": {
        "id": "HXRomzz14Cod"
      },
      "execution_count": null,
      "outputs": []
    },
    {
      "cell_type": "code",
      "source": [
        "test3(l)"
      ],
      "metadata": {
        "colab": {
          "base_uri": "https://localhost:8080/"
        },
        "id": "OTQg3yWR4r3x",
        "outputId": "ada1e638-dad6-4f5d-9c1e-4d1290c6764c"
      },
      "execution_count": null,
      "outputs": [
        {
          "output_type": "execute_result",
          "data": {
            "text/plain": [
              "[45.7, 67.8, 789.8]"
            ]
          },
          "metadata": {},
          "execution_count": 261
        }
      ]
    },
    {
      "cell_type": "code",
      "source": [
        "l4 = [34,56,56,\"sanju\",\"fought\",]\n",
        "test3(l4)"
      ],
      "metadata": {
        "colab": {
          "base_uri": "https://localhost:8080/"
        },
        "id": "qyCLEHyJ46GB",
        "outputId": "7e0d9e88-e864-43ed-f151-6ab58556bfe3"
      },
      "execution_count": null,
      "outputs": [
        {
          "output_type": "execute_result",
          "data": {
            "text/plain": [
              "['sanju', 'fought']"
            ]
          },
          "metadata": {},
          "execution_count": 265
        }
      ]
    },
    {
      "cell_type": "code",
      "source": [
        "l = (4,5,7,5,43,5,2,5,2,5,2,5,3,5,25,56,6,\"sanjuuu\",\"fought\")\n",
        "\n",
        "def sanju(l):\n",
        "  l1 = []\n",
        "  for i in l:\n",
        "    if type(i) == int:\n",
        "      l1.append(i)\n",
        "  return l1\n"
      ],
      "metadata": {
        "id": "SPL5Iczu5VxT"
      },
      "execution_count": null,
      "outputs": []
    },
    {
      "cell_type": "code",
      "source": [
        "sanju(l)"
      ],
      "metadata": {
        "colab": {
          "base_uri": "https://localhost:8080/"
        },
        "id": "IyTJS0PZ5zZJ",
        "outputId": "c2591a8d-297f-4eb0-c480-8ac8502fadc8"
      },
      "execution_count": null,
      "outputs": [
        {
          "output_type": "execute_result",
          "data": {
            "text/plain": [
              "[4, 5, 7, 5, 43, 5, 2, 5, 2, 5, 2, 5, 3, 5, 25, 56, 6]"
            ]
          },
          "metadata": {},
          "execution_count": 267
        }
      ]
    },
    {
      "cell_type": "code",
      "source": [
        "l2 = [54,54,34,67.7,6,4]\n",
        "sanju(l2)"
      ],
      "metadata": {
        "colab": {
          "base_uri": "https://localhost:8080/"
        },
        "id": "DM8r08RX51P2",
        "outputId": "34cf9660-1007-46cb-86ab-38dc78ed5c63"
      },
      "execution_count": null,
      "outputs": [
        {
          "output_type": "execute_result",
          "data": {
            "text/plain": [
              "[54, 54, 34, 6, 4]"
            ]
          },
          "metadata": {},
          "execution_count": 268
        }
      ]
    },
    {
      "cell_type": "code",
      "source": [
        "l = [6,46,3,5,3,5,34,5]\n",
        "def test(l):\n",
        "  a = 0\n",
        "  for i in l:\n",
        "    a = a + i\n",
        "  return a"
      ],
      "metadata": {
        "id": "zX87l2z75_1n"
      },
      "execution_count": null,
      "outputs": []
    },
    {
      "cell_type": "code",
      "source": [
        "test(l)"
      ],
      "metadata": {
        "colab": {
          "base_uri": "https://localhost:8080/"
        },
        "id": "6wQSNgRw6eC0",
        "outputId": "8d29c4da-b3c0-4601-8bc3-cdbd21194b82"
      },
      "execution_count": null,
      "outputs": [
        {
          "output_type": "execute_result",
          "data": {
            "text/plain": [
              "107"
            ]
          },
          "metadata": {},
          "execution_count": 272
        }
      ]
    },
    {
      "cell_type": "code",
      "source": [
        "def test(a = 90, b =999):\n",
        "  return a * b\n"
      ],
      "metadata": {
        "id": "-b2-4NX06hlv"
      },
      "execution_count": null,
      "outputs": []
    },
    {
      "cell_type": "code",
      "source": [
        "test()"
      ],
      "metadata": {
        "colab": {
          "base_uri": "https://localhost:8080/"
        },
        "id": "rCtQc0pw6pRy",
        "outputId": "9a90d5de-754a-43c6-e267-24e28dbae3c3"
      },
      "execution_count": null,
      "outputs": [
        {
          "output_type": "execute_result",
          "data": {
            "text/plain": [
              "89910"
            ]
          },
          "metadata": {},
          "execution_count": 274
        }
      ]
    },
    {
      "cell_type": "code",
      "source": [
        "l = [9,4,23,4,2,432,4,2,4,\"sanju\",\"fought\"]\n",
        "\"\"\" thi sing\"\"\"\n",
        "def test(l):\n",
        "  l1 = []\n",
        "  for i in l:\n",
        "    if type(i) == str:\n",
        "      l1.append(i)\n",
        "  return l1"
      ],
      "metadata": {
        "id": "8XvFHrWH6qp_"
      },
      "execution_count": null,
      "outputs": []
    },
    {
      "cell_type": "code",
      "source": [
        "test(l)"
      ],
      "metadata": {
        "colab": {
          "base_uri": "https://localhost:8080/"
        },
        "id": "7XXMhGTb69kH",
        "outputId": "9aa7e526-46ba-41b2-f388-070f6b61edca"
      },
      "execution_count": null,
      "outputs": [
        {
          "output_type": "execute_result",
          "data": {
            "text/plain": [
              "['sanju', 'fought']"
            ]
          },
          "metadata": {},
          "execution_count": 286
        }
      ]
    },
    {
      "cell_type": "code",
      "source": [
        "l2 = [\"TRgf\",\"ERGEG\",\"gregerg\"]\n",
        "test(l2)"
      ],
      "metadata": {
        "colab": {
          "base_uri": "https://localhost:8080/"
        },
        "id": "TWD9m-8z7BeM",
        "outputId": "c1f2b18b-220b-405a-ff31-0379664fdb0b"
      },
      "execution_count": null,
      "outputs": [
        {
          "output_type": "execute_result",
          "data": {
            "text/plain": [
              "['TRgf', 'ERGEG', 'gregerg']"
            ]
          },
          "metadata": {},
          "execution_count": 284
        }
      ]
    },
    {
      "cell_type": "code",
      "source": [
        "test12()  "
      ],
      "metadata": {
        "id": "JSu9prrX7RmS"
      },
      "execution_count": null,
      "outputs": []
    },
    {
      "cell_type": "code",
      "source": [],
      "metadata": {
        "id": "M3YQQMSn8lAW"
      },
      "execution_count": null,
      "outputs": []
    }
  ]
}