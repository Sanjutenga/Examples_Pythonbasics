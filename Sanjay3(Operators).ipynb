{
  "nbformat": 4,
  "nbformat_minor": 0,
  "metadata": {
    "colab": {
      "provenance": []
    },
    "kernelspec": {
      "name": "python3",
      "display_name": "Python 3"
    },
    "language_info": {
      "name": "python"
    }
  },
  "cells": [
    {
      "cell_type": "markdown",
      "source": [
        "# OPERATORS\n",
        "keywords  |  Meaning\n",
        "- | -\n",
        "not  | unary negation\n",
        "And   | Conditional AND\n",
        "Or  | Conditional OR\n"
      ],
      "metadata": {
        "id": "hmNRQr_aKIwf"
      }
    },
    {
      "cell_type": "markdown",
      "source": [
        "# NOT"
      ],
      "metadata": {
        "id": "8HL2VTc0KzcV"
      }
    },
    {
      "cell_type": "code",
      "source": [
        "A = True\n",
        "print(A)"
      ],
      "metadata": {
        "colab": {
          "base_uri": "https://localhost:8080/"
        },
        "id": "RHJvMQhcK174",
        "outputId": "9ae2bd05-2c64-4d08-9ce3-b36eae5aa7a5"
      },
      "execution_count": null,
      "outputs": [
        {
          "output_type": "stream",
          "name": "stdout",
          "text": [
            "True\n"
          ]
        }
      ]
    },
    {
      "cell_type": "code",
      "source": [
        "A =True\n",
        "print(not A)"
      ],
      "metadata": {
        "colab": {
          "base_uri": "https://localhost:8080/"
        },
        "id": "3MR7wn-rLNua",
        "outputId": "66530d5f-0822-4aab-d796-e24905175d82"
      },
      "execution_count": null,
      "outputs": [
        {
          "output_type": "stream",
          "name": "stdout",
          "text": [
            "False\n"
          ]
        }
      ]
    },
    {
      "cell_type": "code",
      "source": [
        "START = True\n",
        "print(START)"
      ],
      "metadata": {
        "colab": {
          "base_uri": "https://localhost:8080/"
        },
        "id": "3banOgp8LSNr",
        "outputId": "42bebe87-2733-49bb-e456-4dcc7e7e098f"
      },
      "execution_count": null,
      "outputs": [
        {
          "output_type": "stream",
          "name": "stdout",
          "text": [
            "True\n"
          ]
        }
      ]
    },
    {
      "cell_type": "code",
      "source": [
        "START = True\n",
        "print(not START)"
      ],
      "metadata": {
        "colab": {
          "base_uri": "https://localhost:8080/"
        },
        "id": "zfH2WULnLev1",
        "outputId": "ef316afa-d665-4dea-b76c-948979b2990d"
      },
      "execution_count": null,
      "outputs": [
        {
          "output_type": "stream",
          "name": "stdout",
          "text": [
            "False\n"
          ]
        }
      ]
    },
    {
      "cell_type": "markdown",
      "source": [
        "# IF - ELSE CONDITION"
      ],
      "metadata": {
        "id": "sUdqTqy4Mt39"
      }
    },
    {
      "cell_type": "code",
      "source": [
        "raining = True\n",
        "if raining:   #True Condition\n",
        "  print(\"Since its raining\")\n",
        "  print(\"Lets work from home\")\n",
        "else:\n",
        "  print(\"Since its not raining\")\n",
        "  print(\"Lets work from office\")"
      ],
      "metadata": {
        "colab": {
          "base_uri": "https://localhost:8080/"
        },
        "id": "_yMy-QLxMxaZ",
        "outputId": "2362b033-3018-4371-d0ea-276c02729a6c"
      },
      "execution_count": null,
      "outputs": [
        {
          "output_type": "stream",
          "name": "stdout",
          "text": [
            "Since its raining\n",
            "Lets work from home\n"
          ]
        }
      ]
    },
    {
      "cell_type": "code",
      "source": [
        "raining = False\n",
        "if raining: #False Condition \n",
        "   print(\"Since its raining\")\n",
        "   print(\"Lets work from home\")\n",
        "else:\n",
        "     print(\"Since its not raining\")\n",
        "     print(\"Lets work from office\")"
      ],
      "metadata": {
        "colab": {
          "base_uri": "https://localhost:8080/"
        },
        "id": "9cJe_U0HWhE8",
        "outputId": "501ece17-0329-4c3f-98e9-a6320656ff3c"
      },
      "execution_count": null,
      "outputs": [
        {
          "output_type": "stream",
          "name": "stdout",
          "text": [
            "Since its not raining\n",
            "Lets work from office\n"
          ]
        }
      ]
    },
    {
      "cell_type": "code",
      "source": [
        "raining = True   #this is form of negation\n",
        "if not raining:\n",
        "  print(\"Since its not raining\")\n",
        "  print(\"Lets Work from office\")\n",
        "else:\n",
        "  print(\"Since its raining\")\n",
        "  print(\"Lets Work from home\")\n"
      ],
      "metadata": {
        "colab": {
          "base_uri": "https://localhost:8080/"
        },
        "id": "WCPyeWHjWuFe",
        "outputId": "688d5f37-2c1f-4bae-825b-ddae141f1d33"
      },
      "execution_count": null,
      "outputs": [
        {
          "output_type": "stream",
          "name": "stdout",
          "text": [
            "Since its raining\n",
            "Lets Work from home\n"
          ]
        }
      ]
    },
    {
      "cell_type": "code",
      "source": [
        "raining = False   #this is form of negation\n",
        "if not raining:\n",
        "  print(\"Since its not raining\")\n",
        "  print(\"Lets Work from office\")\n",
        "else:\n",
        "  print(\"Since its raining\")\n",
        "  print(\"Lets Work from home\")\n"
      ],
      "metadata": {
        "colab": {
          "base_uri": "https://localhost:8080/"
        },
        "id": "F0Z1aQHHctDv",
        "outputId": "995565c9-7609-46b6-8322-c3fa6bbd92bf"
      },
      "execution_count": null,
      "outputs": [
        {
          "output_type": "stream",
          "name": "stdout",
          "text": [
            "Since its not raining\n",
            "Lets Work from office\n"
          ]
        }
      ]
    },
    {
      "cell_type": "code",
      "source": [
        "Class_started = True\n",
        "if not Class_started :\n",
        "    print(\"since class not started\")\n",
        "    print(\"lets revise\")\n",
        "else :\n",
        "  print(\"since class is started\")\n",
        "  print(\"lets concentrate\")"
      ],
      "metadata": {
        "colab": {
          "base_uri": "https://localhost:8080/"
        },
        "id": "tUYBjRPUahDs",
        "outputId": "bb2d4b62-71b1-4672-b489-aeabd896e064"
      },
      "execution_count": null,
      "outputs": [
        {
          "output_type": "stream",
          "name": "stdout",
          "text": [
            "since class is started\n",
            "lets concentrate\n"
          ]
        }
      ]
    },
    {
      "cell_type": "code",
      "source": [
        "Class_started = False\n",
        "if not Class_started :\n",
        "  print(\"since class not started\")\n",
        "  print(\"lets revise\")\n",
        "else :\n",
        "  print(\"since class is started\")\n",
        "  print(\"lets concentrate\")"
      ],
      "metadata": {
        "colab": {
          "base_uri": "https://localhost:8080/"
        },
        "id": "08YA4XPiccxU",
        "outputId": "24718487-cc68-4e41-dfe0-b7047088759a"
      },
      "execution_count": null,
      "outputs": [
        {
          "output_type": "stream",
          "name": "stdout",
          "text": [
            "since class not started\n",
            "lets revise\n"
          ]
        }
      ]
    },
    {
      "cell_type": "code",
      "source": [
        "Raining = (input(\"hey its very raining today? \", bool[True-1/False-0]))"
      ],
      "metadata": {
        "colab": {
          "base_uri": "https://localhost:8080/",
          "height": 166
        },
        "id": "mshsTus0eY-l",
        "outputId": "bd7b3fd5-294e-4f2c-a766-b5a874ba00f6"
      },
      "execution_count": null,
      "outputs": [
        {
          "output_type": "error",
          "ename": "ZeroDivisionError",
          "evalue": "ignored",
          "traceback": [
            "\u001b[0;31m---------------------------------------------------------------------------\u001b[0m",
            "\u001b[0;31mZeroDivisionError\u001b[0m                         Traceback (most recent call last)",
            "\u001b[0;32m<ipython-input-27-47b6da4d3c6d>\u001b[0m in \u001b[0;36m<module>\u001b[0;34m\u001b[0m\n\u001b[0;32m----> 1\u001b[0;31m \u001b[0mRaining\u001b[0m \u001b[0;34m=\u001b[0m \u001b[0;34m(\u001b[0m\u001b[0minput\u001b[0m\u001b[0;34m(\u001b[0m\u001b[0;34m\"hey its very raining today? \"\u001b[0m\u001b[0;34m,\u001b[0m \u001b[0mbool\u001b[0m\u001b[0;34m[\u001b[0m\u001b[0;32mTrue\u001b[0m\u001b[0;34m-\u001b[0m\u001b[0;36m1\u001b[0m\u001b[0;34m/\u001b[0m\u001b[0;32mFalse\u001b[0m\u001b[0;34m-\u001b[0m\u001b[0;36m0\u001b[0m\u001b[0;34m]\u001b[0m\u001b[0;34m)\u001b[0m\u001b[0;34m)\u001b[0m\u001b[0;34m\u001b[0m\u001b[0;34m\u001b[0m\u001b[0m\n\u001b[0m",
            "\u001b[0;31mZeroDivisionError\u001b[0m: division by zero"
          ]
        }
      ]
    },
    {
      "cell_type": "markdown",
      "source": [
        "# AND Conditional Operators - Logical Operators\n",
        "vegetable | Salt   | Dish\n",
        "- | - | -\n",
        "True | True | True\n",
        "True | False | False\n",
        "False | True | False\n",
        "Flase | False | Flase"
      ],
      "metadata": {
        "id": "5djhuI_DhoWL"
      }
    },
    {
      "cell_type": "code",
      "source": [
        "vegetable_present = True\n",
        "salt_present = True\n",
        "\n",
        "if vegetable_present and salt_present :\n",
        "  print(\"Dish is very good\")\n",
        "else:\n",
        "   print(\"Dish is very bad\")\n",
        "   print(f\"if dish as vegetable present {vegetable_present}\")\n",
        "   print(f\"if dish as salt present {salt_present}\")"
      ],
      "metadata": {
        "colab": {
          "base_uri": "https://localhost:8080/"
        },
        "id": "ZuACJ4L8iAM2",
        "outputId": "c7b96033-04ef-4a44-ec34-7b6b3c7f82fa"
      },
      "execution_count": null,
      "outputs": [
        {
          "output_type": "stream",
          "name": "stdout",
          "text": [
            "Dish is very good\n"
          ]
        }
      ]
    },
    {
      "cell_type": "code",
      "source": [
        "vegetable_present = True\n",
        "salt_present = False\n",
        "\n",
        "if vegetable_present and salt_present :\n",
        "  print(\"Dish is very good\")\n",
        "else:\n",
        "   print(\"Dish is very bad\")\n",
        "   print(f\"if dish as vegetable present {vegetable_present}\")\n",
        "   print(f\"if dish as salt present {salt_present}\")"
      ],
      "metadata": {
        "colab": {
          "base_uri": "https://localhost:8080/"
        },
        "id": "9hHmwinxjRBX",
        "outputId": "faf8b787-771d-4401-9016-27f9f20a0bcb"
      },
      "execution_count": null,
      "outputs": [
        {
          "output_type": "stream",
          "name": "stdout",
          "text": [
            "Dish is very bad\n",
            "if dish as vegetable present True\n",
            "if dish as salt present False\n"
          ]
        }
      ]
    },
    {
      "cell_type": "code",
      "source": [
        "vegetable_present =   False\n",
        "salt_present = True\n",
        "\n",
        "if vegetable_present and salt_present :\n",
        "  print(\"Dish is very good\")\n",
        "else:\n",
        "   print(\"Dish is very bad\")\n",
        "   print(f\"if dish as vegetable present {vegetable_present}\")\n",
        "   print(f\"if dish as salt present {salt_present}\")"
      ],
      "metadata": {
        "colab": {
          "base_uri": "https://localhost:8080/"
        },
        "id": "SewkUQIFjTZ6",
        "outputId": "f397a40d-fcbd-4055-e265-1ac8bc92f6c6"
      },
      "execution_count": null,
      "outputs": [
        {
          "output_type": "stream",
          "name": "stdout",
          "text": [
            "Dish is very bad\n",
            "if dish as vegetable present False\n",
            "if dish as salt present True\n"
          ]
        }
      ]
    },
    {
      "cell_type": "code",
      "source": [
        "vegetable_present = False\n",
        "salt_present = False\n",
        "\n",
        "if vegetable_present and salt_present :\n",
        "  print(\"Dish is very good\")\n",
        "else:\n",
        "   print(\"Dish is very bad\")\n",
        "   print(f\"if dish as vegetable present {vegetable_present}\")\n",
        "   print(f\"if dish as salt present {salt_present}\")"
      ],
      "metadata": {
        "colab": {
          "base_uri": "https://localhost:8080/"
        },
        "id": "PRauRdxFjWZL",
        "outputId": "4713ab14-4e8d-4b17-8269-559c9a2bff19"
      },
      "execution_count": null,
      "outputs": [
        {
          "output_type": "stream",
          "name": "stdout",
          "text": [
            "Dish is very bad\n",
            "if dish as vegetable present False\n",
            "if dish as salt present False\n"
          ]
        }
      ]
    },
    {
      "cell_type": "markdown",
      "source": [
        "# OR Conditional Operators - Logical Operators\n"
      ],
      "metadata": {
        "id": "vk-pxrQ7WeWP"
      }
    },
    {
      "cell_type": "code",
      "source": [
        "I_have_bike = True\n",
        "I_have_car = True\n",
        "\n",
        "if I_have_bike or I_have_car:\n",
        "  print(\"I can travel for 100kms\")\n",
        "else:\n",
        "  print(\"I will be not able to travel\")"
      ],
      "metadata": {
        "colab": {
          "base_uri": "https://localhost:8080/"
        },
        "id": "8dmjp-SxWlRV",
        "outputId": "1bd46500-fa0a-4321-a7bc-33ee312d6a6f"
      },
      "execution_count": null,
      "outputs": [
        {
          "output_type": "stream",
          "name": "stdout",
          "text": [
            "I can travel for 100kms\n"
          ]
        }
      ]
    },
    {
      "cell_type": "code",
      "source": [
        "I_have_bike = True\n",
        "I_have_car = False\n",
        "\n",
        "if I_have_bike or I_have_car:\n",
        "  print(\"I can travel for 100kms\")\n",
        "else:\n",
        "  print(\"I will be not able to travel\")"
      ],
      "metadata": {
        "colab": {
          "base_uri": "https://localhost:8080/"
        },
        "id": "nAu95gVbXWAq",
        "outputId": "f6778197-66ef-4354-dc84-be95c194b38a"
      },
      "execution_count": null,
      "outputs": [
        {
          "output_type": "stream",
          "name": "stdout",
          "text": [
            "I can travel for 100kms\n"
          ]
        }
      ]
    },
    {
      "cell_type": "code",
      "source": [
        "I_have_bike = False\n",
        "I_have_car = True\n",
        "\n",
        "if I_have_bike or I_have_car:\n",
        "  print(\"I can travel for 100kms\")\n",
        "else:\n",
        "  print(\"I will be not able to travel\")"
      ],
      "metadata": {
        "colab": {
          "base_uri": "https://localhost:8080/"
        },
        "id": "uD8u1xN3XcAM",
        "outputId": "1b34eadf-68d0-4262-f536-d109d9370800"
      },
      "execution_count": null,
      "outputs": [
        {
          "output_type": "stream",
          "name": "stdout",
          "text": [
            "I can travel for 100kms\n"
          ]
        }
      ]
    },
    {
      "cell_type": "code",
      "source": [
        "I_have_bike = False\n",
        "I_have_car = False\n",
        "\n",
        "if I_have_bike or I_have_car:\n",
        "  print(\"I can travel for 100kms\")\n",
        "else:\n",
        "  print(\"I will be not able to travel\")"
      ],
      "metadata": {
        "colab": {
          "base_uri": "https://localhost:8080/"
        },
        "id": "S897Ov4MXe_F",
        "outputId": "bcacdf32-3575-49ab-db74-1932a7f354b7"
      },
      "execution_count": null,
      "outputs": [
        {
          "output_type": "stream",
          "name": "stdout",
          "text": [
            "I will be not able to travel\n"
          ]
        }
      ]
    },
    {
      "cell_type": "markdown",
      "source": [
        "attendance | project | eligible\n",
        "- | - | -\n",
        ">=50 | >=50 | eligible or True"
      ],
      "metadata": {
        "id": "YtjmEd4LbE03"
      }
    },
    {
      "cell_type": "code",
      "source": [
        "attendance = 50\n",
        "project = 70\n",
        "\n",
        "print(f\"the candidate met the eligible ? : {attendance>=50}\")\n",
        "print(f\"the candidate met the eligible ? : {project>=50}\")\n",
        "\n",
        "if attendance>=50 and project>=50:\n",
        "  print(\"the student is eligible\")\n",
        "else:\n",
        "  print(\"the student is not eligible\")"
      ],
      "metadata": {
        "colab": {
          "base_uri": "https://localhost:8080/"
        },
        "id": "bXp-xB7PbW4j",
        "outputId": "c0ffe6f0-4fda-4e4a-8c1a-bd61a25699cd"
      },
      "execution_count": null,
      "outputs": [
        {
          "output_type": "stream",
          "name": "stdout",
          "text": [
            "the candidate met the eligible ? : True\n",
            "the candidate met the eligible ? : True\n",
            "the student is eligible\n"
          ]
        }
      ]
    },
    {
      "cell_type": "code",
      "source": [
        "attendance = 90\n",
        "project = 40\n",
        "\n",
        "print(f\"the candidate met the eligible ? : {attendance>=50}\")\n",
        "print(f\"the candidate met the eligible ? : {project>=50}\")\n",
        "\n",
        "if attendance>=50 and project>=50:\n",
        "  print(\"the student is eligible\")\n",
        "else:\n",
        "  print(\"the student is not eligible\")"
      ],
      "metadata": {
        "colab": {
          "base_uri": "https://localhost:8080/"
        },
        "id": "FkEc771hcRe3",
        "outputId": "6e2fc336-33ce-46aa-cd3c-0523cc55d062"
      },
      "execution_count": null,
      "outputs": [
        {
          "output_type": "stream",
          "name": "stdout",
          "text": [
            "the candidate met the eligible ? : True\n",
            "the candidate met the eligible ? : False\n",
            "the student is not eligible\n"
          ]
        }
      ]
    },
    {
      "cell_type": "code",
      "source": [
        "attendance = 40\n",
        "project = 90\n",
        "\n",
        "print(f\"the candidate met the eligible ? : {attendance>=50}\")\n",
        "print(f\"the candidate met the eligible ? : {project>=50}\")\n",
        "\n",
        "if attendance>=50 and project>=50:\n",
        "  print(\"the student is eligible\")\n",
        "else:\n",
        "  print(\"the student is not eligible\")"
      ],
      "metadata": {
        "colab": {
          "base_uri": "https://localhost:8080/"
        },
        "id": "Zcp-oE8Ecw66",
        "outputId": "cb881a31-ae97-402f-ae35-0d719024aff2"
      },
      "execution_count": null,
      "outputs": [
        {
          "output_type": "stream",
          "name": "stdout",
          "text": [
            "the candidate met the eligible ? : False\n",
            "the candidate met the eligible ? : True\n",
            "the student is not eligible\n"
          ]
        }
      ]
    },
    {
      "cell_type": "code",
      "source": [
        "attendance = -90\n",
        "project = -90\n",
        "\n",
        "print(f\"the candidate met the eligible ? : {attendance>=50}\")\n",
        "print(f\"the candidate met the eligible ? : {project>=50}\")\n",
        "\n",
        "if attendance>=50 and project>=50:\n",
        "  print(\"the student is eligible\")\n",
        "else:\n",
        "  print(\"the student is not eligible\")"
      ],
      "metadata": {
        "colab": {
          "base_uri": "https://localhost:8080/"
        },
        "id": "PT24y6Q_ddnW",
        "outputId": "44536df4-6a2f-4a89-a88f-d4e1529a51f3"
      },
      "execution_count": null,
      "outputs": [
        {
          "output_type": "stream",
          "name": "stdout",
          "text": [
            "the candidate met the eligible ? : False\n",
            "the candidate met the eligible ? : False\n",
            "the student is not eligible\n"
          ]
        }
      ]
    },
    {
      "cell_type": "markdown",
      "source": [
        "Credit | Debit | Payment\n",
        "- | - | -\n",
        "True | False | True\n",
        "False | False | False"
      ],
      "metadata": {
        "id": "6b1VpBrbfnJI"
      }
    },
    {
      "cell_type": "code",
      "source": [
        "Credit = False\n",
        "Debit = False\n",
        "Upi = True\n",
        "\n",
        "if Credit or Debit or Upi:\n",
        "  print(\"Make for payment\")\n",
        "else:\n",
        "  print(\"cash on delivery\")"
      ],
      "metadata": {
        "colab": {
          "base_uri": "https://localhost:8080/"
        },
        "id": "5tE9qUTlf3A7",
        "outputId": "cd36c8ac-b418-4df4-da37-52f5c8ed33d4"
      },
      "execution_count": null,
      "outputs": [
        {
          "output_type": "stream",
          "name": "stdout",
          "text": [
            "Make for payment\n"
          ]
        }
      ]
    },
    {
      "cell_type": "code",
      "source": [
        "Credit = False\n",
        "Debit = False\n",
        "Upi = False\n",
        "\n",
        "if Credit or Debit or Upi:\n",
        "  print(\"Make for payment\")\n",
        "else:\n",
        "  print(\"cash on delivery\")"
      ],
      "metadata": {
        "colab": {
          "base_uri": "https://localhost:8080/"
        },
        "id": "D4Yy0EYFgF5e",
        "outputId": "d2478ef2-b21b-468a-af99-01c6f6b48666"
      },
      "execution_count": null,
      "outputs": [
        {
          "output_type": "stream",
          "name": "stdout",
          "text": [
            "cash on delivery\n"
          ]
        }
      ]
    },
    {
      "cell_type": "markdown",
      "source": [
        "# EQUALITY OPERATORS\n",
        "is,\n",
        "is not,\n",
        "equal==,\n",
        "!=,"
      ],
      "metadata": {
        "id": "H3QTikUSo8b0"
      }
    },
    {
      "cell_type": "code",
      "source": [
        "A = 1\n",
        "B = 1\n",
        "\n",
        "if A is B:\n",
        "  print(\"A is same as B\")\n",
        "else:\n",
        "  print(\"A is not same as B\")"
      ],
      "metadata": {
        "colab": {
          "base_uri": "https://localhost:8080/"
        },
        "id": "f2q3lgVNpEYx",
        "outputId": "dc7be260-019a-4823-a833-d66202211784"
      },
      "execution_count": null,
      "outputs": [
        {
          "output_type": "stream",
          "name": "stdout",
          "text": [
            "A is same as B\n"
          ]
        }
      ]
    },
    {
      "cell_type": "code",
      "source": [
        "A = 5.0\n",
        "B = 10/2\n",
        "print(A is B)\n"
      ],
      "metadata": {
        "colab": {
          "base_uri": "https://localhost:8080/"
        },
        "id": "bzSyxc-yVahS",
        "outputId": "0bde10da-e4ae-45cf-f1de-71ff41aa5e27"
      },
      "execution_count": 62,
      "outputs": [
        {
          "output_type": "stream",
          "name": "stdout",
          "text": [
            "False\n"
          ]
        }
      ]
    },
    {
      "cell_type": "code",
      "source": [
        "A = 5.0\n",
        "B = float(10/2)\n",
        "print(A is B)"
      ],
      "metadata": {
        "colab": {
          "base_uri": "https://localhost:8080/"
        },
        "id": "UBv-swYcZZr-",
        "outputId": "93270da7-3e97-4ee2-eef5-8c73fe25cc37"
      },
      "execution_count": 64,
      "outputs": [
        {
          "output_type": "stream",
          "name": "stdout",
          "text": [
            "False\n"
          ]
        }
      ]
    },
    {
      "cell_type": "code",
      "source": [
        "A = 1\n",
        "B = 2\n",
        "\n",
        "if A is B:\n",
        "  print(\"A is same as B\")\n",
        "else:\n",
        "  print(\"A is not same as B\")"
      ],
      "metadata": {
        "colab": {
          "base_uri": "https://localhost:8080/"
        },
        "id": "UAcDoiYEpiTE",
        "outputId": "e02eeb13-4d7d-40da-a934-e7e64eb3197e"
      },
      "execution_count": null,
      "outputs": [
        {
          "output_type": "stream",
          "name": "stdout",
          "text": [
            "A is not same as B\n"
          ]
        }
      ]
    },
    {
      "cell_type": "code",
      "source": [
        "A = 1\n",
        "B = 2\n",
        "\n",
        "if A is not B:\n",
        "  print(\"A is not same as B\")\n",
        "else:\n",
        "  print(\"A is  same as B\")"
      ],
      "metadata": {
        "colab": {
          "base_uri": "https://localhost:8080/"
        },
        "id": "GMgPpXOXpmzN",
        "outputId": "d44549ff-fccf-4732-ae80-6d34376e953b"
      },
      "execution_count": null,
      "outputs": [
        {
          "output_type": "stream",
          "name": "stdout",
          "text": [
            "A is not same as B\n"
          ]
        }
      ]
    },
    {
      "cell_type": "code",
      "source": [
        "A = 1\n",
        "B = 1\n",
        "\n",
        "if A == B:\n",
        "  print(\"A is same as B\")\n",
        "else:\n",
        "  print(\"A is not same as B\")"
      ],
      "metadata": {
        "colab": {
          "base_uri": "https://localhost:8080/"
        },
        "id": "sihd0f6lpxC3",
        "outputId": "a97fd372-163c-4165-8cf1-e44a4a1f147f"
      },
      "execution_count": null,
      "outputs": [
        {
          "output_type": "stream",
          "name": "stdout",
          "text": [
            "A is same as B\n"
          ]
        }
      ]
    },
    {
      "cell_type": "code",
      "source": [
        "A = 1\n",
        "B = 2\n",
        "\n",
        "if A != B:\n",
        "  print(\"A is not same as B\")\n",
        "else:\n",
        "  print(\"A is  same as B\")"
      ],
      "metadata": {
        "colab": {
          "base_uri": "https://localhost:8080/"
        },
        "id": "KH-ugW7pqBwt",
        "outputId": "dc392c80-0af5-4e74-f289-2cf7feac1d7f"
      },
      "execution_count": null,
      "outputs": [
        {
          "output_type": "stream",
          "name": "stdout",
          "text": [
            "A is not same as B\n"
          ]
        }
      ]
    },
    {
      "cell_type": "code",
      "source": [
        "id(A)"
      ],
      "metadata": {
        "colab": {
          "base_uri": "https://localhost:8080/"
        },
        "id": "MSUoulsGqGXG",
        "outputId": "4f375024-c983-4183-c89d-219b0f50a297"
      },
      "execution_count": null,
      "outputs": [
        {
          "output_type": "execute_result",
          "data": {
            "text/plain": [
              "11122592"
            ]
          },
          "metadata": {},
          "execution_count": 23
        }
      ]
    },
    {
      "cell_type": "code",
      "source": [
        "id(B)"
      ],
      "metadata": {
        "colab": {
          "base_uri": "https://localhost:8080/"
        },
        "id": "9tfYzrcUrkid",
        "outputId": "e7e172ad-55f2-4a6a-91e2-854dda87ac41"
      },
      "execution_count": null,
      "outputs": [
        {
          "output_type": "execute_result",
          "data": {
            "text/plain": [
              "11122624"
            ]
          },
          "metadata": {},
          "execution_count": 24
        }
      ]
    },
    {
      "cell_type": "code",
      "source": [
        "A = [\"Sunny\", \"Lolo\"]\n",
        "B = [\"Sunny\", \"Lolo\"]\n",
        "\n",
        "A == B\n",
        "A is B\n"
      ],
      "metadata": {
        "colab": {
          "base_uri": "https://localhost:8080/"
        },
        "id": "MVvE2obErmT4",
        "outputId": "99136b7d-01df-48ff-9fc9-bc94b7b5ed64"
      },
      "execution_count": null,
      "outputs": [
        {
          "output_type": "execute_result",
          "data": {
            "text/plain": [
              "False"
            ]
          },
          "metadata": {},
          "execution_count": 29
        }
      ]
    },
    {
      "cell_type": "code",
      "source": [
        "A is not B\n"
      ],
      "metadata": {
        "colab": {
          "base_uri": "https://localhost:8080/"
        },
        "id": "aWbWqqE6sKq3",
        "outputId": "d2b86320-bffe-4585-8abc-cfc538a7870b"
      },
      "execution_count": null,
      "outputs": [
        {
          "output_type": "execute_result",
          "data": {
            "text/plain": [
              "True"
            ]
          },
          "metadata": {},
          "execution_count": 31
        }
      ]
    },
    {
      "cell_type": "code",
      "source": [
        "A==B"
      ],
      "metadata": {
        "colab": {
          "base_uri": "https://localhost:8080/"
        },
        "id": "IxNNhMtosHnD",
        "outputId": "9ce03452-a63b-4c8b-bd12-d8bf1d152137"
      },
      "execution_count": null,
      "outputs": [
        {
          "output_type": "execute_result",
          "data": {
            "text/plain": [
              "True"
            ]
          },
          "metadata": {},
          "execution_count": 30
        }
      ]
    },
    {
      "cell_type": "code",
      "source": [
        "id(A)"
      ],
      "metadata": {
        "colab": {
          "base_uri": "https://localhost:8080/"
        },
        "id": "gJPLH5NArvWl",
        "outputId": "bfa48159-dd11-4a99-dac8-228eef843311"
      },
      "execution_count": null,
      "outputs": [
        {
          "output_type": "execute_result",
          "data": {
            "text/plain": [
              "140687614897360"
            ]
          },
          "metadata": {},
          "execution_count": 26
        }
      ]
    },
    {
      "cell_type": "code",
      "source": [
        "id(B)"
      ],
      "metadata": {
        "colab": {
          "base_uri": "https://localhost:8080/"
        },
        "id": "E27RUMqVrxn6",
        "outputId": "dfb7f774-7ef7-4448-f205-ac38591c4eb4"
      },
      "execution_count": null,
      "outputs": [
        {
          "output_type": "execute_result",
          "data": {
            "text/plain": [
              "140687533001776"
            ]
          },
          "metadata": {},
          "execution_count": 27
        }
      ]
    },
    {
      "cell_type": "code",
      "source": [
        "A = int(input(\"The value of A is: =\"))\n",
        "B = int(input(\"The value of B is: =\"))\n",
        "\n",
        "A is not B\n"
      ],
      "metadata": {
        "colab": {
          "base_uri": "https://localhost:8080/"
        },
        "id": "SBypgcQMrz97",
        "outputId": "4dd5aae7-570e-4e6d-822a-87075d9817f1"
      },
      "execution_count": null,
      "outputs": [
        {
          "name": "stdout",
          "output_type": "stream",
          "text": [
            "The value of A is: =2\n",
            "The value of B is: =2\n"
          ]
        },
        {
          "output_type": "execute_result",
          "data": {
            "text/plain": [
              "False"
            ]
          },
          "metadata": {},
          "execution_count": 39
        }
      ]
    },
    {
      "cell_type": "code",
      "source": [
        "A = int(input(\"The value of A is: =\"))\n",
        "B = 1\n",
        "A is B"
      ],
      "metadata": {
        "colab": {
          "base_uri": "https://localhost:8080/"
        },
        "id": "H4n7C0CDv8wV",
        "outputId": "6a921a70-efae-4557-9a5a-def3dd80f6cc"
      },
      "execution_count": null,
      "outputs": [
        {
          "name": "stdout",
          "output_type": "stream",
          "text": [
            "The value of A is: =1\n"
          ]
        },
        {
          "output_type": "execute_result",
          "data": {
            "text/plain": [
              "True"
            ]
          },
          "metadata": {},
          "execution_count": 41
        }
      ]
    },
    {
      "cell_type": "code",
      "source": [
        "name = input()\n",
        "\n",
        "if name == \"Sanjay Gowda\":\n",
        " print(\"He is the Data Scientist\")\n",
        "else:\n",
        "  print(\"none of the others\")"
      ],
      "metadata": {
        "colab": {
          "base_uri": "https://localhost:8080/"
        },
        "id": "4sybaCZqwMlA",
        "outputId": "e3e4f25b-c0dc-43d1-8a28-ba03f7bdc2c8"
      },
      "execution_count": null,
      "outputs": [
        {
          "output_type": "stream",
          "name": "stdout",
          "text": [
            "sanjay gowda\n",
            "none of the others\n"
          ]
        }
      ]
    },
    {
      "cell_type": "markdown",
      "source": [
        "# Comparision Operators"
      ],
      "metadata": {
        "id": "Z-_FUM2m-7lQ"
      }
    },
    {
      "cell_type": "code",
      "source": [
        "Passing_marks = 35\n",
        "Your_score = 35\n",
        "\n",
        "if Your_score >= Passing_marks:\n",
        "  print(\"Your passesd\")\n",
        "else:\n",
        "  print(\"You failed\")"
      ],
      "metadata": {
        "colab": {
          "base_uri": "https://localhost:8080/"
        },
        "id": "TNOP3vXs-9wg",
        "outputId": "6a10dd16-e176-4462-eea1-7b0f648a4a6e"
      },
      "execution_count": null,
      "outputs": [
        {
          "output_type": "stream",
          "name": "stdout",
          "text": [
            "Your passesd\n"
          ]
        }
      ]
    },
    {
      "cell_type": "code",
      "source": [
        "# nested If else statement\n",
        "Passing_marks = 35\n",
        "Your_score = 90\n",
        "Distinction = 75\n",
        "if Your_score > Passing_marks:\n",
        "  print(\"Your passesd\")\n",
        "  if Your_score > Distinction:\n",
        "    print(\"dad well appreciated!! and gave some gifts\")\n",
        "else:\n",
        "  print(\"You failed\")"
      ],
      "metadata": {
        "colab": {
          "base_uri": "https://localhost:8080/"
        },
        "id": "N-zBm3tjA-K4",
        "outputId": "8f86bb63-7638-4bd8-b4a5-1b317b7c72ac"
      },
      "execution_count": null,
      "outputs": [
        {
          "output_type": "stream",
          "name": "stdout",
          "text": [
            "Your passesd\n",
            "dad well appreciated!! and gave some gifts\n"
          ]
        }
      ]
    },
    {
      "cell_type": "code",
      "source": [
        "car = bool(int(input()))\n",
        "bike = bool(int(input()))\n",
        "print(car or bike)"
      ],
      "metadata": {
        "colab": {
          "base_uri": "https://localhost:8080/"
        },
        "id": "ZuMrvdLICOUU",
        "outputId": "f7ecfd08-f384-46bf-b54c-a57793814286"
      },
      "execution_count": null,
      "outputs": [
        {
          "output_type": "stream",
          "name": "stdout",
          "text": [
            "0\n",
            "0\n",
            "False\n"
          ]
        }
      ]
    },
    {
      "cell_type": "code",
      "source": [],
      "metadata": {
        "id": "cqSLZuwHIDBJ"
      },
      "execution_count": null,
      "outputs": []
    },
    {
      "cell_type": "code",
      "source": [
        "'spam' + \"spamspam\""
      ],
      "metadata": {
        "colab": {
          "base_uri": "https://localhost:8080/",
          "height": 35
        },
        "id": "PwIFc7FSd-de",
        "outputId": "d509f663-22ce-442c-c02e-cd2c22d8a9dc"
      },
      "execution_count": 65,
      "outputs": [
        {
          "output_type": "execute_result",
          "data": {
            "text/plain": [
              "'spamspamspam'"
            ],
            "application/vnd.google.colaboratory.intrinsic+json": {
              "type": "string"
            }
          },
          "metadata": {},
          "execution_count": 65
        }
      ]
    },
    {
      "cell_type": "code",
      "source": [
        "'spam'*3"
      ],
      "metadata": {
        "colab": {
          "base_uri": "https://localhost:8080/",
          "height": 35
        },
        "id": "Gi-yjqjgeEcm",
        "outputId": "121f38ba-bad3-46b1-b0ba-b30edc5005f6"
      },
      "execution_count": 66,
      "outputs": [
        {
          "output_type": "execute_result",
          "data": {
            "text/plain": [
              "'spamspamspam'"
            ],
            "application/vnd.google.colaboratory.intrinsic+json": {
              "type": "string"
            }
          },
          "metadata": {},
          "execution_count": 66
        }
      ]
    },
    {
      "cell_type": "code",
      "source": [],
      "metadata": {
        "id": "X3pUOyoZeI3F"
      },
      "execution_count": null,
      "outputs": []
    }
  ]
}