{
  "nbformat": 4,
  "nbformat_minor": 0,
  "metadata": {
    "colab": {
      "provenance": []
    },
    "kernelspec": {
      "name": "python3",
      "display_name": "Python 3"
    },
    "language_info": {
      "name": "python"
    }
  },
  "cells": [
    {
      "cell_type": "markdown",
      "source": [
        "# **Variable Case Sensitivity**"
      ],
      "metadata": {
        "id": "sqoqGBlfEskL"
      }
    },
    {
      "cell_type": "code",
      "execution_count": null,
      "metadata": {
        "id": "enKhDC_x6mfF"
      },
      "outputs": [],
      "source": [
        "TEN = 10\n",
        "ten =50"
      ]
    },
    {
      "cell_type": "code",
      "source": [
        "print(ten)"
      ],
      "metadata": {
        "colab": {
          "base_uri": "https://localhost:8080/"
        },
        "id": "R2XKewOLEZKX",
        "outputId": "cb80736c-262b-470b-9d08-e1a26eebf251"
      },
      "execution_count": null,
      "outputs": [
        {
          "output_type": "stream",
          "name": "stdout",
          "text": [
            "50\n"
          ]
        }
      ]
    },
    {
      "cell_type": "code",
      "source": [
        "print(Ten)"
      ],
      "metadata": {
        "colab": {
          "base_uri": "https://localhost:8080/",
          "height": 166
        },
        "id": "svF07GpUEkKv",
        "outputId": "91f63eea-e96c-467a-ab09-a3881cc43191"
      },
      "execution_count": null,
      "outputs": [
        {
          "output_type": "error",
          "ename": "NameError",
          "evalue": "ignored",
          "traceback": [
            "\u001b[0;31m---------------------------------------------------------------------------\u001b[0m",
            "\u001b[0;31mNameError\u001b[0m                                 Traceback (most recent call last)",
            "\u001b[0;32m<ipython-input-3-102da4055415>\u001b[0m in \u001b[0;36m<module>\u001b[0;34m\u001b[0m\n\u001b[0;32m----> 1\u001b[0;31m \u001b[0mprint\u001b[0m\u001b[0;34m(\u001b[0m\u001b[0mTen\u001b[0m\u001b[0;34m)\u001b[0m\u001b[0;34m\u001b[0m\u001b[0;34m\u001b[0m\u001b[0m\n\u001b[0m",
            "\u001b[0;31mNameError\u001b[0m: name 'Ten' is not defined"
          ]
        }
      ]
    },
    {
      "cell_type": "markdown",
      "source": [
        "# Reserved words in Python"
      ],
      "metadata": {
        "id": "lnvVksz_Fw7T"
      }
    },
    {
      "cell_type": "code",
      "source": [
        "print(\"Hi there!!\")"
      ],
      "metadata": {
        "colab": {
          "base_uri": "https://localhost:8080/"
        },
        "id": "aal0o6eMF0kg",
        "outputId": "a4b7f5b3-b9d0-4e08-b0b7-4ea23e5b8f39"
      },
      "execution_count": null,
      "outputs": [
        {
          "output_type": "stream",
          "name": "stdout",
          "text": [
            "Hi there!!\n"
          ]
        }
      ]
    },
    {
      "cell_type": "code",
      "source": [
        "print = \"Hi there Sanju!!\" # as a variable\n",
        "type(print)"
      ],
      "metadata": {
        "colab": {
          "base_uri": "https://localhost:8080/"
        },
        "id": "Nv10GhwaF3Ya",
        "outputId": "4447d4df-5315-40da-eed1-79b8a7d868ff"
      },
      "execution_count": null,
      "outputs": [
        {
          "output_type": "execute_result",
          "data": {
            "text/plain": [
              "str"
            ]
          },
          "metadata": {},
          "execution_count": 7
        }
      ]
    },
    {
      "cell_type": "code",
      "source": [
        "del print"
      ],
      "metadata": {
        "id": "yLCq7SDEGsK6"
      },
      "execution_count": null,
      "outputs": []
    },
    {
      "cell_type": "code",
      "source": [
        "print(\"Hi there\")"
      ],
      "metadata": {
        "colab": {
          "base_uri": "https://localhost:8080/"
        },
        "id": "FHg36oefF-sf",
        "outputId": "6a0910c4-74b8-4f6d-b909-c73c9670cb3a"
      },
      "execution_count": null,
      "outputs": [
        {
          "output_type": "stream",
          "name": "stdout",
          "text": [
            "Hi there\n"
          ]
        }
      ]
    },
    {
      "cell_type": "markdown",
      "source": [
        "# Multi assignment Variables"
      ],
      "metadata": {
        "id": "x4DBoiDBIdu0"
      }
    },
    {
      "cell_type": "code",
      "source": [
        "a ,b ,c = 21, 22, \"Sanju\"\n",
        "type(a)"
      ],
      "metadata": {
        "colab": {
          "base_uri": "https://localhost:8080/"
        },
        "id": "y-DyJGqVIh6d",
        "outputId": "16d0b34c-55fc-4a5e-d41a-75ff894eeca1"
      },
      "execution_count": null,
      "outputs": [
        {
          "output_type": "execute_result",
          "data": {
            "text/plain": [
              "int"
            ]
          },
          "metadata": {},
          "execution_count": 10
        }
      ]
    },
    {
      "cell_type": "code",
      "source": [
        "type(\"\"\"c\n",
        "     \"\"\")"
      ],
      "metadata": {
        "colab": {
          "base_uri": "https://localhost:8080/"
        },
        "id": "nlnI3PjwIsOo",
        "outputId": "a6fcffae-c292-420c-a018-dba597b8e3ba"
      },
      "execution_count": null,
      "outputs": [
        {
          "output_type": "execute_result",
          "data": {
            "text/plain": [
              "str"
            ]
          },
          "metadata": {},
          "execution_count": 11
        }
      ]
    },
    {
      "cell_type": "code",
      "source": [
        "a , b , c =50"
      ],
      "metadata": {
        "colab": {
          "base_uri": "https://localhost:8080/",
          "height": 166
        },
        "id": "Zl-Bi2mBIxpH",
        "outputId": "2e7f6798-96ed-404b-d5e2-22b2516135a2"
      },
      "execution_count": null,
      "outputs": [
        {
          "output_type": "error",
          "ename": "TypeError",
          "evalue": "ignored",
          "traceback": [
            "\u001b[0;31m---------------------------------------------------------------------------\u001b[0m",
            "\u001b[0;31mTypeError\u001b[0m                                 Traceback (most recent call last)",
            "\u001b[0;32m<ipython-input-12-3c62b0d1be37>\u001b[0m in \u001b[0;36m<module>\u001b[0;34m\u001b[0m\n\u001b[0;32m----> 1\u001b[0;31m \u001b[0ma\u001b[0m \u001b[0;34m,\u001b[0m \u001b[0mb\u001b[0m \u001b[0;34m,\u001b[0m \u001b[0mc\u001b[0m \u001b[0;34m=\u001b[0m\u001b[0;36m50\u001b[0m\u001b[0;34m\u001b[0m\u001b[0;34m\u001b[0m\u001b[0m\n\u001b[0m",
            "\u001b[0;31mTypeError\u001b[0m: cannot unpack non-iterable int object"
          ]
        }
      ]
    },
    {
      "cell_type": "code",
      "source": [
        "type(a,b)"
      ],
      "metadata": {
        "colab": {
          "base_uri": "https://localhost:8080/",
          "height": 166
        },
        "id": "h0wzyMxaJFE8",
        "outputId": "8f9d17cb-7f1d-4ae6-c9a9-af8611fcea15"
      },
      "execution_count": null,
      "outputs": [
        {
          "output_type": "error",
          "ename": "TypeError",
          "evalue": "ignored",
          "traceback": [
            "\u001b[0;31m---------------------------------------------------------------------------\u001b[0m",
            "\u001b[0;31mTypeError\u001b[0m                                 Traceback (most recent call last)",
            "\u001b[0;32m<ipython-input-13-de8c796b637e>\u001b[0m in \u001b[0;36m<module>\u001b[0;34m\u001b[0m\n\u001b[0;32m----> 1\u001b[0;31m \u001b[0mtype\u001b[0m\u001b[0;34m(\u001b[0m\u001b[0ma\u001b[0m\u001b[0;34m,\u001b[0m\u001b[0mb\u001b[0m\u001b[0;34m)\u001b[0m\u001b[0;34m\u001b[0m\u001b[0;34m\u001b[0m\u001b[0m\n\u001b[0m",
            "\u001b[0;31mTypeError\u001b[0m: type() takes 1 or 3 arguments"
          ]
        }
      ]
    },
    {
      "cell_type": "code",
      "source": [
        "print(type(a))\n",
        "print(type(b))"
      ],
      "metadata": {
        "colab": {
          "base_uri": "https://localhost:8080/"
        },
        "id": "eqBY4z6IJQ9Q",
        "outputId": "4ad77aa3-12c2-47b3-c7b5-0ab17ba23e83"
      },
      "execution_count": null,
      "outputs": [
        {
          "output_type": "stream",
          "name": "stdout",
          "text": [
            "<class 'int'>\n",
            "<class 'int'>\n"
          ]
        }
      ]
    },
    {
      "cell_type": "code",
      "source": [
        "type(a)\n",
        "type(b)"
      ],
      "metadata": {
        "colab": {
          "base_uri": "https://localhost:8080/"
        },
        "id": "70eHS69cJe8U",
        "outputId": "31b03ea6-8b52-4846-9917-a3bedb65c0ff"
      },
      "execution_count": null,
      "outputs": [
        {
          "output_type": "execute_result",
          "data": {
            "text/plain": [
              "int"
            ]
          },
          "metadata": {},
          "execution_count": 15
        }
      ]
    },
    {
      "cell_type": "code",
      "source": [
        "a = b =c = 80"
      ],
      "metadata": {
        "id": "UXhPQwstJjOx"
      },
      "execution_count": null,
      "outputs": []
    },
    {
      "cell_type": "code",
      "source": [
        "print(a,b,c)"
      ],
      "metadata": {
        "colab": {
          "base_uri": "https://localhost:8080/"
        },
        "id": "Nqd08RhPKiV2",
        "outputId": "c38c68fa-b6c2-48ad-f86e-f95a5b692f67"
      },
      "execution_count": null,
      "outputs": [
        {
          "output_type": "stream",
          "name": "stdout",
          "text": [
            "80 80 80\n"
          ]
        }
      ]
    },
    {
      "cell_type": "code",
      "source": [
        "a , b ,c"
      ],
      "metadata": {
        "colab": {
          "base_uri": "https://localhost:8080/"
        },
        "id": "0ihKAyiOKktB",
        "outputId": "f7865ec0-a9bf-4f51-ba7d-116c030f8b59"
      },
      "execution_count": null,
      "outputs": [
        {
          "output_type": "execute_result",
          "data": {
            "text/plain": [
              "(80, 80, 80)"
            ]
          },
          "metadata": {},
          "execution_count": 18
        }
      ]
    },
    {
      "cell_type": "code",
      "source": [
        "firstName, MiddleName, LastName = \"Sanjay\",\"Gowda\", \"A\""
      ],
      "metadata": {
        "id": "CBi7ab13QVuJ"
      },
      "execution_count": 1,
      "outputs": []
    },
    {
      "cell_type": "code",
      "source": [
        "print(f\"{firstName}.{MiddleName}@gmail.com\")"
      ],
      "metadata": {
        "colab": {
          "base_uri": "https://localhost:8080/"
        },
        "id": "FiTCSsrVQhth",
        "outputId": "4a8345ce-b2ee-4dff-e9cb-70d9a94aeb03"
      },
      "execution_count": 2,
      "outputs": [
        {
          "output_type": "stream",
          "name": "stdout",
          "text": [
            "Sanjay.Gowda@gmail.com\n"
          ]
        }
      ]
    },
    {
      "cell_type": "code",
      "source": [
        "Name, Age, Birth, weight = \"Sanju\" , \"22\" , \"22/01/2000\" , \"70\""
      ],
      "metadata": {
        "id": "sOzg0GOtR0ww"
      },
      "execution_count": 15,
      "outputs": []
    },
    {
      "cell_type": "code",
      "source": [
        "print(f\"\"\"My name is: {Name}\n",
        "      My age: {Age}\n",
        "      My Birth: {Birth}\n",
        "      My weight: {weight}\n",
        "\"\"\")"
      ],
      "metadata": {
        "colab": {
          "base_uri": "https://localhost:8080/"
        },
        "id": "tYmiAnaCSFh_",
        "outputId": "17324e94-b2ef-436d-e0cc-f6e8fd23a5da"
      },
      "execution_count": 16,
      "outputs": [
        {
          "output_type": "stream",
          "name": "stdout",
          "text": [
            "My name is: Sanju\n",
            "      My age: 22\n",
            "      My Birth: 22/01/2000\n",
            "      My weight: 70\n",
            "\n"
          ]
        }
      ]
    },
    {
      "cell_type": "markdown",
      "source": [
        "# USER INPUT METHOD\n",
        "\n"
      ],
      "metadata": {
        "id": "CkstbnOCNLPi"
      }
    },
    {
      "cell_type": "code",
      "source": [
        "name = input(\" Enter your Name: \")\n",
        "print(f\"you have entered: {name}\")"
      ],
      "metadata": {
        "colab": {
          "base_uri": "https://localhost:8080/"
        },
        "id": "w-EPf0BlNOjC",
        "outputId": "ec01a2d2-d466-44e8-936b-fc34173dba5e"
      },
      "execution_count": null,
      "outputs": [
        {
          "output_type": "stream",
          "name": "stdout",
          "text": [
            " Enter your Name: Sanjay\n",
            "you have entered: Sanjay\n"
          ]
        }
      ]
    },
    {
      "cell_type": "code",
      "source": [
        "A = input(\" Enter a value of A: \")\n",
        "B = input(\" Enter a value of B: \")\n",
        "\n",
        "print(f\"The Sum of two numbers A and B is: {A+B}  \")"
      ],
      "metadata": {
        "colab": {
          "base_uri": "https://localhost:8080/"
        },
        "id": "NHn8UYOCNf7Q",
        "outputId": "4f96db19-c21b-4532-9197-37664f08dc3d"
      },
      "execution_count": null,
      "outputs": [
        {
          "output_type": "stream",
          "name": "stdout",
          "text": [
            " Enter a value of A: 2\n",
            " Enter a value of B: 3\n",
            "The Sum of two numbers A and B is: 23  \n"
          ]
        }
      ]
    },
    {
      "cell_type": "code",
      "source": [
        "name = input(\"Name is: \")\n",
        "place = input(\"place is: \")\n",
        "dateofbirth = int(input(\"dateofbirth is: \"))\n",
        "age = 2022 - dateofbirth\n",
        "\n",
        "print(f\"\"\" My name is: {name},\n",
        "           My place is: {place},\n",
        "           My dateofbirth is: {dateofbirth},\n",
        "           My age is: {age}\"\"\")"
      ],
      "metadata": {
        "colab": {
          "base_uri": "https://localhost:8080/"
        },
        "id": "Pe8q8ZZkVTNR",
        "outputId": "d8698096-834b-4b50-c2f1-2ff37a0ba4e3"
      },
      "execution_count": 18,
      "outputs": [
        {
          "output_type": "stream",
          "name": "stdout",
          "text": [
            "Name is: Sanju\n",
            "place is: smg\n",
            "dateofbirth is: 2000\n",
            " My name is: Sanju,\n",
            "           My place is: smg,\n",
            "           My dateofbirth is: 2000,\n",
            "           My age is: 22\n"
          ]
        }
      ]
    },
    {
      "cell_type": "code",
      "source": [
        "name = input(\"Name is: \")\n",
        "place = input(\"place is: \")\n",
        "dateofbirth = input(\"dateofbirth is: \")\n",
        "age = 2022 - int(dateofbirth)\n",
        "\n",
        "print(f\"\"\" My name is: {name},\n",
        "           My place is: {place},\n",
        "           My dateofbirth is: {dateofbirth},\n",
        "           My age is: {age}\"\"\")"
      ],
      "metadata": {
        "colab": {
          "base_uri": "https://localhost:8080/"
        },
        "id": "7GEdd9YRWdRM",
        "outputId": "48394cd3-f241-4f84-adf7-2dae282b9f65"
      },
      "execution_count": 19,
      "outputs": [
        {
          "output_type": "stream",
          "name": "stdout",
          "text": [
            "Name is: Sanju\n",
            "place is: smg\n",
            "dateofbirth is: 2000\n",
            " My name is: Sanju,\n",
            "           My place is: smg,\n",
            "           My dateofbirth is: 2000,\n",
            "           My age is: 22\n"
          ]
        }
      ]
    },
    {
      "cell_type": "code",
      "source": [
        "name = input(\"Name is: \")\n",
        "place = input(\"place is: \")\n",
        "dateofbirth = input(\"dateofbirth is: \")\n",
        "currentyear = input(\"currentyear is: \")\n",
        "age = int(currentyear) - int(dateofbirth)\n",
        "\n",
        "print(f\"\"\" My name is: {name},\n",
        "           My place is: {place},\n",
        "           My dateofbirth is: {dateofbirth},\n",
        "           My age is: {age}\"\"\")"
      ],
      "metadata": {
        "colab": {
          "base_uri": "https://localhost:8080/"
        },
        "id": "a4doAvIqZSkM",
        "outputId": "605a5574-91b7-4563-a7e9-474b509646a5"
      },
      "execution_count": 20,
      "outputs": [
        {
          "output_type": "stream",
          "name": "stdout",
          "text": [
            "Name is: sanju\n",
            "place is: smg\n",
            "dateofbirth is: 2000\n",
            "currentyear is: 2022\n",
            " My name is: sanju,\n",
            "           My place is: smg,\n",
            "           My dateofbirth is: 2000,\n",
            "           My age is: 22\n"
          ]
        }
      ]
    },
    {
      "cell_type": "markdown",
      "source": [
        "# Type Conversion or Type Casting"
      ],
      "metadata": {
        "id": "1Z1-BekLcKA7"
      }
    },
    {
      "cell_type": "markdown",
      "source": [],
      "metadata": {
        "id": "3z9GeCt1bLne"
      }
    },
    {
      "cell_type": "code",
      "source": [
        "A = int(input(\"Enter a value of A: \"))\n",
        "B = int(input(\"Enter a value of B: \"))\n",
        "\n",
        "print(type(A),type(B))"
      ],
      "metadata": {
        "id": "LUFwzNnKRdu-",
        "colab": {
          "base_uri": "https://localhost:8080/"
        },
        "outputId": "09200610-6746-44f4-ffba-bf78d7323847"
      },
      "execution_count": null,
      "outputs": [
        {
          "output_type": "stream",
          "name": "stdout",
          "text": [
            "Enter a value of A: 234\n",
            "Enter a value of B: 66\n",
            "<class 'int'> <class 'int'>\n"
          ]
        }
      ]
    },
    {
      "cell_type": "code",
      "source": [
        "print(f\"The sum of A and B is {A+B}\")"
      ],
      "metadata": {
        "colab": {
          "base_uri": "https://localhost:8080/"
        },
        "id": "U2V034Z2bKmy",
        "outputId": "dc644a42-57d5-459b-cb35-03f205732fdc"
      },
      "execution_count": null,
      "outputs": [
        {
          "output_type": "stream",
          "name": "stdout",
          "text": [
            "The sum of A and B is 300\n"
          ]
        }
      ]
    },
    {
      "cell_type": "code",
      "source": [
        "A = float(input(\"The value of A is : \"))\n",
        "B = int(input(\"The value of B is: \"))\n",
        "\n",
        "print(f\"The sum of both A and B is: {A*B}\")"
      ],
      "metadata": {
        "colab": {
          "base_uri": "https://localhost:8080/"
        },
        "id": "HKW2tb03cVgv",
        "outputId": "83fe1817-54b8-43cc-c281-a70fb39b8032"
      },
      "execution_count": null,
      "outputs": [
        {
          "output_type": "stream",
          "name": "stdout",
          "text": [
            "The value of A is : 45.99\n",
            "The value of B is: 70\n",
            "The sum of both A and B is: 3219.3\n"
          ]
        }
      ]
    },
    {
      "cell_type": "markdown",
      "source": [
        "# Convert one data type to another data type by allowed variables"
      ],
      "metadata": {
        "id": "VLCFOyDvk76n"
      }
    },
    {
      "cell_type": "code",
      "source": [
        "# String to integer\n",
        "A = \"50\"\n",
        "print(f\"before the value of {type(A)} , the value of A is{A}\")\n",
        "A = int(A)\n",
        "\n",
        "print(f\"after the value of {type(A)} , the value of A is{A}\")"
      ],
      "metadata": {
        "colab": {
          "base_uri": "https://localhost:8080/"
        },
        "id": "QdWQGxZhlE4A",
        "outputId": "98a2e3b4-960a-40d7-90e9-94adfab7ddf1"
      },
      "execution_count": 3,
      "outputs": [
        {
          "output_type": "stream",
          "name": "stdout",
          "text": [
            "before the value of <class 'str'> , the value of A is50\n",
            "after the value of <class 'int'> , the value of A is50\n"
          ]
        }
      ]
    },
    {
      "cell_type": "code",
      "source": [
        "#float to integer\n",
        "A = 55.9\n",
        "print(f\"The value before takes as {type(A)} , the value of A is{A}\")\n",
        "A = int(A)\n",
        "print(f\"The value after takes as {type(A)}, the value of A is{A}\")"
      ],
      "metadata": {
        "colab": {
          "base_uri": "https://localhost:8080/"
        },
        "id": "0Alv-yP_lYm6",
        "outputId": "7d6d95ad-9a39-4755-85a5-6261ff6c76c3"
      },
      "execution_count": 4,
      "outputs": [
        {
          "output_type": "stream",
          "name": "stdout",
          "text": [
            "The value before takes as <class 'float'> , the value of A is55.9\n",
            "The value after takes as <class 'int'>, the value of A is55\n"
          ]
        }
      ]
    },
    {
      "cell_type": "code",
      "source": [
        "# Inside string we are passing Float means it will be through error"
      ],
      "metadata": {
        "id": "6jVFBglUl7Jq"
      },
      "execution_count": 5,
      "outputs": []
    },
    {
      "cell_type": "code",
      "source": [
        "#Integer to Float\n",
        "A = 55\n",
        "print(f\"The value before takes as {type(A)} , the value of A is{A}\")\n",
        "A = float(A)\n",
        "print(f\"The value after takes as {type(A)}, the value of A is{A}\")"
      ],
      "metadata": {
        "colab": {
          "base_uri": "https://localhost:8080/"
        },
        "id": "cErKMaxLnxPr",
        "outputId": "90b5942d-6b04-4d26-9f7c-0b384fac7b3b"
      },
      "execution_count": 6,
      "outputs": [
        {
          "output_type": "stream",
          "name": "stdout",
          "text": [
            "The value before takes as <class 'int'> , the value of A is55\n",
            "The value after takes as <class 'float'>, the value of A is55.0\n"
          ]
        }
      ]
    },
    {
      "cell_type": "code",
      "source": [
        "#integer to boolean\n",
        "A = 3\n",
        "print(f\"The value before takes as {type(A)} , the value of A is{A}\")\n",
        "A = bool(A)\n",
        "print(f\"The value after takes as {type(A)}, the value of A is{A}\")"
      ],
      "metadata": {
        "colab": {
          "base_uri": "https://localhost:8080/"
        },
        "id": "01D5ot-Gn3qA",
        "outputId": "fac9597a-9e3a-4662-8383-1d87f84d1669"
      },
      "execution_count": 7,
      "outputs": [
        {
          "output_type": "stream",
          "name": "stdout",
          "text": [
            "The value before takes as <class 'int'> , the value of A is3\n",
            "The value after takes as <class 'bool'>, the value of A isTrue\n"
          ]
        }
      ]
    },
    {
      "cell_type": "code",
      "source": [
        "#integer to boolean\n",
        "A = 0\n",
        "print(f\"The value before takes as {type(A)} , the value of A is{A}\")\n",
        "A = bool(A)\n",
        "print(f\"The value after takes as {type(A)}, the value of A is{A}\")"
      ],
      "metadata": {
        "colab": {
          "base_uri": "https://localhost:8080/"
        },
        "id": "67v2ZvTGoQAf",
        "outputId": "0ea35092-fb09-41c2-c72f-ce603c6a3c4e"
      },
      "execution_count": 8,
      "outputs": [
        {
          "output_type": "stream",
          "name": "stdout",
          "text": [
            "The value before takes as <class 'int'> , the value of A is0\n",
            "The value after takes as <class 'bool'>, the value of A isFalse\n"
          ]
        }
      ]
    },
    {
      "cell_type": "code",
      "source": [
        "#integer to boolean\n",
        "A = -88\n",
        "print(f\"The value before takes as {type(A)} , the value of A is{A}\")\n",
        "A = bool(A)\n",
        "print(f\"The value after takes as {type(A)}, the value of A is{A}\")"
      ],
      "metadata": {
        "colab": {
          "base_uri": "https://localhost:8080/"
        },
        "id": "xTJRlN51otgJ",
        "outputId": "963e4bcd-5e69-42f4-d6a2-f768b052eb49"
      },
      "execution_count": 9,
      "outputs": [
        {
          "output_type": "stream",
          "name": "stdout",
          "text": [
            "The value before takes as <class 'int'> , the value of A is-88\n",
            "The value after takes as <class 'bool'>, the value of A isTrue\n"
          ]
        }
      ]
    },
    {
      "cell_type": "code",
      "source": [
        "#string to boolean\n",
        "A = \"Sanjay\"\n",
        "print(f\"The value before takes as {type(A)} , the value of A is{A}\")\n",
        "A = bool(A)\n",
        "print(f\"The value after takes as {type(A)}, the value of A is{A}\")"
      ],
      "metadata": {
        "colab": {
          "base_uri": "https://localhost:8080/"
        },
        "id": "falP34gdo032",
        "outputId": "e6344e47-7de6-4a6e-f988-0583a9f01323"
      },
      "execution_count": 10,
      "outputs": [
        {
          "output_type": "stream",
          "name": "stdout",
          "text": [
            "The value before takes as <class 'str'> , the value of A isSanjay\n",
            "The value after takes as <class 'bool'>, the value of A isTrue\n"
          ]
        }
      ]
    },
    {
      "cell_type": "code",
      "source": [
        "#string to boolean\n",
        "A = \"False\"\n",
        "print(f\"The value before takes as {type(A)} , the value of A is{A}\")\n",
        "A = bool(A)\n",
        "print(f\"The value after takes as {type(A)}, the value of A is{A}\")"
      ],
      "metadata": {
        "colab": {
          "base_uri": "https://localhost:8080/"
        },
        "id": "NmNRiQOgpFDp",
        "outputId": "7249e1e2-ea70-4cf0-c2fb-d436227ce7ad"
      },
      "execution_count": 11,
      "outputs": [
        {
          "output_type": "stream",
          "name": "stdout",
          "text": [
            "The value before takes as <class 'str'> , the value of A isFalse\n",
            "The value after takes as <class 'bool'>, the value of A isTrue\n"
          ]
        }
      ]
    },
    {
      "cell_type": "code",
      "source": [
        "#string to boolean\n",
        "A = \"True\"\n",
        "print(f\"The value before takes as {type(A)} , the value of A is{A}\")\n",
        "A = bool(A)\n",
        "print(f\"The value after takes as {type(A)}, the value of A is{A}\")"
      ],
      "metadata": {
        "colab": {
          "base_uri": "https://localhost:8080/"
        },
        "id": "l-IpfTChpPZC",
        "outputId": "8c14e1b9-3fc2-4f10-8fe5-4bc94f46605c"
      },
      "execution_count": 12,
      "outputs": [
        {
          "output_type": "stream",
          "name": "stdout",
          "text": [
            "The value before takes as <class 'str'> , the value of A isTrue\n",
            "The value after takes as <class 'bool'>, the value of A isTrue\n"
          ]
        }
      ]
    },
    {
      "cell_type": "code",
      "source": [
        "#string to boolean\n",
        "A = \"\"\n",
        "print(f\"The value before takes as {type(A)} , the value of A is{A}\")\n",
        "A = bool(A)\n",
        "print(f\"The value after takes as {type(A)}, the value of A is{A}\")"
      ],
      "metadata": {
        "colab": {
          "base_uri": "https://localhost:8080/"
        },
        "id": "IJrzp8wApTv2",
        "outputId": "7afa3797-e050-4fef-c595-075adb6ec3b4"
      },
      "execution_count": 13,
      "outputs": [
        {
          "output_type": "stream",
          "name": "stdout",
          "text": [
            "The value before takes as <class 'str'> , the value of A is\n",
            "The value after takes as <class 'bool'>, the value of A isFalse\n"
          ]
        }
      ]
    },
    {
      "cell_type": "code",
      "source": [
        "#string to boolean\n",
        "A = \"\"\n",
        "print(f\"The value before takes as {type(A)} , the value of A is{A}\")\n",
        "A = int(A)\n",
        "print(f\"The value after takes as {type(A)}, the value of A is{A}\")"
      ],
      "metadata": {
        "colab": {
          "base_uri": "https://localhost:8080/",
          "height": 235
        },
        "id": "lQdYno5npab4",
        "outputId": "1698a9cb-2e58-45d0-89e8-a776441fe660"
      },
      "execution_count": 14,
      "outputs": [
        {
          "output_type": "stream",
          "name": "stdout",
          "text": [
            "The value before takes as <class 'str'> , the value of A is\n"
          ]
        },
        {
          "output_type": "error",
          "ename": "ValueError",
          "evalue": "ignored",
          "traceback": [
            "\u001b[0;31m---------------------------------------------------------------------------\u001b[0m",
            "\u001b[0;31mValueError\u001b[0m                                Traceback (most recent call last)",
            "\u001b[0;32m<ipython-input-14-21d6b7f4bc6f>\u001b[0m in \u001b[0;36m<module>\u001b[0;34m\u001b[0m\n\u001b[1;32m      2\u001b[0m \u001b[0mA\u001b[0m \u001b[0;34m=\u001b[0m \u001b[0;34m\"\"\u001b[0m\u001b[0;34m\u001b[0m\u001b[0;34m\u001b[0m\u001b[0m\n\u001b[1;32m      3\u001b[0m \u001b[0mprint\u001b[0m\u001b[0;34m(\u001b[0m\u001b[0;34mf\"The value before takes as {type(A)} , the value of A is{A}\"\u001b[0m\u001b[0;34m)\u001b[0m\u001b[0;34m\u001b[0m\u001b[0;34m\u001b[0m\u001b[0m\n\u001b[0;32m----> 4\u001b[0;31m \u001b[0mA\u001b[0m \u001b[0;34m=\u001b[0m \u001b[0mint\u001b[0m\u001b[0;34m(\u001b[0m\u001b[0mA\u001b[0m\u001b[0;34m)\u001b[0m\u001b[0;34m\u001b[0m\u001b[0;34m\u001b[0m\u001b[0m\n\u001b[0m\u001b[1;32m      5\u001b[0m \u001b[0mprint\u001b[0m\u001b[0;34m(\u001b[0m\u001b[0;34mf\"The value after takes as {type(A)}, the value of A is{A}\"\u001b[0m\u001b[0;34m)\u001b[0m\u001b[0;34m\u001b[0m\u001b[0;34m\u001b[0m\u001b[0m\n",
            "\u001b[0;31mValueError\u001b[0m: invalid literal for int() with base 10: ''"
          ]
        }
      ]
    },
    {
      "cell_type": "code",
      "source": [
        "#string to boolean\n",
        "A = \"  \"\n",
        "print(f\"The value before takes as {type(A)} , the value of A is{A}\")\n",
        "A = bool(A)\n",
        "print(f\"The value after takes as {type(A)}, the value of A is{A}\")"
      ],
      "metadata": {
        "id": "QxwQpLc3re9Q",
        "colab": {
          "base_uri": "https://localhost:8080/"
        },
        "outputId": "fc978e55-f5b7-49d7-f13b-5c3146365ab3"
      },
      "execution_count": 21,
      "outputs": [
        {
          "output_type": "stream",
          "name": "stdout",
          "text": [
            "The value before takes as <class 'str'> , the value of A is  \n",
            "The value after takes as <class 'bool'>, the value of A isTrue\n"
          ]
        }
      ]
    },
    {
      "cell_type": "markdown",
      "source": [
        "# MEMORY BLOCK"
      ],
      "metadata": {
        "id": "aO5cvz7FeipB"
      }
    },
    {
      "cell_type": "code",
      "source": [
        "a = 22\n",
        "b = 34\n",
        "c = 22"
      ],
      "metadata": {
        "id": "cLPU3rVXemvl"
      },
      "execution_count": 22,
      "outputs": []
    },
    {
      "cell_type": "code",
      "source": [
        "id(a)"
      ],
      "metadata": {
        "colab": {
          "base_uri": "https://localhost:8080/"
        },
        "id": "MMS3zhxNer3l",
        "outputId": "3bf1f798-9edd-495b-ba33-481c803124ea"
      },
      "execution_count": 23,
      "outputs": [
        {
          "output_type": "execute_result",
          "data": {
            "text/plain": [
              "11123264"
            ]
          },
          "metadata": {},
          "execution_count": 23
        }
      ]
    },
    {
      "cell_type": "code",
      "source": [
        "id(b)"
      ],
      "metadata": {
        "colab": {
          "base_uri": "https://localhost:8080/"
        },
        "id": "LdrHilMues9u",
        "outputId": "a6c67b0a-ddc4-4833-db43-59e31dea1c9c"
      },
      "execution_count": 24,
      "outputs": [
        {
          "output_type": "execute_result",
          "data": {
            "text/plain": [
              "11123648"
            ]
          },
          "metadata": {},
          "execution_count": 24
        }
      ]
    },
    {
      "cell_type": "code",
      "source": [
        "id(c)"
      ],
      "metadata": {
        "colab": {
          "base_uri": "https://localhost:8080/"
        },
        "id": "N1F4hB8Uewns",
        "outputId": "ba924e73-e5f0-4516-e0f9-8dd06848b139"
      },
      "execution_count": 25,
      "outputs": [
        {
          "output_type": "execute_result",
          "data": {
            "text/plain": [
              "11123264"
            ]
          },
          "metadata": {},
          "execution_count": 25
        }
      ]
    },
    {
      "cell_type": "code",
      "source": [
        "a = 22\n",
        "b = 34\n",
        "c = 22.0\n",
        "print(id(a),id(b),id(c))"
      ],
      "metadata": {
        "colab": {
          "base_uri": "https://localhost:8080/"
        },
        "id": "DV5IuYyqeyu-",
        "outputId": "aeea2e20-a61d-4ef0-a157-10ce025d25ef"
      },
      "execution_count": 28,
      "outputs": [
        {
          "output_type": "stream",
          "name": "stdout",
          "text": [
            "11123264 11123648 140174638733808\n"
          ]
        }
      ]
    },
    {
      "cell_type": "code",
      "source": [
        "id(a)"
      ],
      "metadata": {
        "colab": {
          "base_uri": "https://localhost:8080/"
        },
        "id": "jGDyYNVNheiu",
        "outputId": "1cdc5a11-cd04-4465-8f4d-b0c29364640d"
      },
      "execution_count": 27,
      "outputs": [
        {
          "output_type": "execute_result",
          "data": {
            "text/plain": [
              "140174638733968"
            ]
          },
          "metadata": {},
          "execution_count": 27
        }
      ]
    },
    {
      "cell_type": "code",
      "source": [],
      "metadata": {
        "id": "naSEsHNChgll"
      },
      "execution_count": null,
      "outputs": []
    }
  ]
}