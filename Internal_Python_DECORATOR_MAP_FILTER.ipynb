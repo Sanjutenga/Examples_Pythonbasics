{
 "cells": [
  {
   "cell_type": "code",
   "execution_count": 10,
   "id": "5faac332",
   "metadata": {},
   "outputs": [],
   "source": [
    "def test1(): \n",
    "    a = 5 + 6\n",
    "    return a"
   ]
  },
  {
   "cell_type": "code",
   "execution_count": 11,
   "id": "a6d515b3",
   "metadata": {},
   "outputs": [
    {
     "data": {
      "text/plain": [
       "11"
      ]
     },
     "execution_count": 11,
     "metadata": {},
     "output_type": "execute_result"
    }
   ],
   "source": [
    "test1()"
   ]
  },
  {
   "cell_type": "code",
   "execution_count": 12,
   "id": "c439b743",
   "metadata": {},
   "outputs": [],
   "source": [
    "def test2(a,b):\n",
    "    c =  a+b\n",
    "    return c"
   ]
  },
  {
   "cell_type": "code",
   "execution_count": 13,
   "id": "f2279a46",
   "metadata": {},
   "outputs": [
    {
     "data": {
      "text/plain": [
       "9"
      ]
     },
     "execution_count": 13,
     "metadata": {},
     "output_type": "execute_result"
    }
   ],
   "source": [
    "test2(9,0)"
   ]
  },
  {
   "cell_type": "code",
   "execution_count": 14,
   "id": "6780c996",
   "metadata": {},
   "outputs": [
    {
     "data": {
      "text/plain": [
       "12"
      ]
     },
     "execution_count": 14,
     "metadata": {},
     "output_type": "execute_result"
    }
   ],
   "source": [
    "test2(5,7)"
   ]
  },
  {
   "cell_type": "code",
   "execution_count": 15,
   "id": "f768c60d",
   "metadata": {},
   "outputs": [
    {
     "data": {
      "text/plain": [
       "'sanjaygowda'"
      ]
     },
     "execution_count": 15,
     "metadata": {},
     "output_type": "execute_result"
    }
   ],
   "source": [
    "test2(\"sanjay\",\"gowda\")"
   ]
  },
  {
   "cell_type": "code",
   "execution_count": 16,
   "id": "9acc8594",
   "metadata": {},
   "outputs": [
    {
     "data": {
      "text/plain": [
       "'foughtgowda'"
      ]
     },
     "execution_count": 16,
     "metadata": {},
     "output_type": "execute_result"
    }
   ],
   "source": [
    "test2(b = \"gowda\", a = \"fought\")   # no orders also it will be give"
   ]
  },
  {
   "cell_type": "code",
   "execution_count": 17,
   "id": "c5474048",
   "metadata": {},
   "outputs": [],
   "source": [
    "def tets1(*args):  # we can pass multiple arguments\n",
    "    return args"
   ]
  },
  {
   "cell_type": "code",
   "execution_count": 18,
   "id": "13938f7c",
   "metadata": {},
   "outputs": [
    {
     "data": {
      "text/plain": [
       "(1, 2, 3, 4, 45, 'sanju')"
      ]
     },
     "execution_count": 18,
     "metadata": {},
     "output_type": "execute_result"
    }
   ],
   "source": [
    "tets1(1,2,3,4,45,\"sanju\")"
   ]
  },
  {
   "cell_type": "code",
   "execution_count": 19,
   "id": "ba40fdbd",
   "metadata": {},
   "outputs": [
    {
     "data": {
      "text/plain": [
       "tuple"
      ]
     },
     "execution_count": 19,
     "metadata": {},
     "output_type": "execute_result"
    }
   ],
   "source": [
    "type(tets1())  # it will check tuple"
   ]
  },
  {
   "cell_type": "code",
   "execution_count": 20,
   "id": "9556b730",
   "metadata": {},
   "outputs": [
    {
     "data": {
      "text/plain": [
       "([4, 5, 4, 5, 4, 4], True, (43, 5, 3, 54, 3), 'sanju')"
      ]
     },
     "execution_count": 20,
     "metadata": {},
     "output_type": "execute_result"
    }
   ],
   "source": [
    "tets1([4,5,4,5,4,4],True,(43,5,3,54,3),\"sanju\")"
   ]
  },
  {
   "cell_type": "code",
   "execution_count": 21,
   "id": "bd468730",
   "metadata": {},
   "outputs": [
    {
     "data": {
      "text/plain": [
       "tuple"
      ]
     },
     "execution_count": 21,
     "metadata": {},
     "output_type": "execute_result"
    }
   ],
   "source": [
    "type(tets1())"
   ]
  },
  {
   "cell_type": "code",
   "execution_count": 22,
   "id": "9e2be9a1",
   "metadata": {},
   "outputs": [],
   "source": [
    "def test(*args):\n",
    "    return list(args)"
   ]
  },
  {
   "cell_type": "code",
   "execution_count": 23,
   "id": "658a6ffd",
   "metadata": {},
   "outputs": [
    {
     "data": {
      "text/plain": [
       "[3, 4, 32, 4, 3, 4, [3, 4, 3, 4, 3], (4, 3, 45, 3)]"
      ]
     },
     "execution_count": 23,
     "metadata": {},
     "output_type": "execute_result"
    }
   ],
   "source": [
    "test(3,4,32,4,3,4,[3,4,3,4,3],(4,3,45,3,))  # it will returns with list"
   ]
  },
  {
   "cell_type": "code",
   "execution_count": 24,
   "id": "aa2b9fa2",
   "metadata": {},
   "outputs": [],
   "source": [
    "def test(*args):\n",
    "    return list(args)"
   ]
  },
  {
   "cell_type": "code",
   "execution_count": 25,
   "id": "3e93d707",
   "metadata": {},
   "outputs": [
    {
     "data": {
      "text/plain": [
       "['sanju', [43, 5, 3, 5, 3, 5], True, (42, 4, 2, 43, 4)]"
      ]
     },
     "execution_count": 25,
     "metadata": {},
     "output_type": "execute_result"
    }
   ],
   "source": [
    "test(\"sanju\",[43,5,3,5,3,5,],True,(42,4,2,43,4))"
   ]
  },
  {
   "cell_type": "code",
   "execution_count": 26,
   "id": "c746b37d",
   "metadata": {},
   "outputs": [],
   "source": [
    "def test(*args):\n",
    "    l = []\n",
    "    for i in args:\n",
    "        l.append(i)\n",
    "    return l"
   ]
  },
  {
   "cell_type": "code",
   "execution_count": 27,
   "id": "056a955e",
   "metadata": {},
   "outputs": [
    {
     "data": {
      "text/plain": [
       "[332, 4, 3, 4, 3, 5, [4, 4, 3, 4, 3, 43], 'sanju']"
      ]
     },
     "execution_count": 27,
     "metadata": {},
     "output_type": "execute_result"
    }
   ],
   "source": [
    "test(332,4,3,4,3,5,[4,4,3,4,3,43],\"sanju\")"
   ]
  },
  {
   "cell_type": "code",
   "execution_count": 28,
   "id": "0c67db75",
   "metadata": {},
   "outputs": [],
   "source": [
    "def test(*args):   # converts into list\n",
    "    l1 = []\n",
    "    for i in args:\n",
    "        l1.append(i)\n",
    "    return(l1)\n",
    "        "
   ]
  },
  {
   "cell_type": "code",
   "execution_count": 29,
   "id": "b1e9eb90",
   "metadata": {},
   "outputs": [
    {
     "data": {
      "text/plain": [
       "[4, 3, 4, 32, 4, [5, 3, 54, 3, 43, 4, 4], 'sanju', (43.43, 4, 3, 4, 3)]"
      ]
     },
     "execution_count": 29,
     "metadata": {},
     "output_type": "execute_result"
    }
   ],
   "source": [
    "test(4,3,4,32,4,[5,3,54,3,43,4,4],\"sanju\",(43.43,4,3,4,3))"
   ]
  },
  {
   "cell_type": "code",
   "execution_count": 30,
   "id": "f37a5000",
   "metadata": {},
   "outputs": [
    {
     "data": {
      "text/plain": [
       "[4, 354, 3, 45, True, [4, 2, 4, 2, 4]]"
      ]
     },
     "execution_count": 30,
     "metadata": {},
     "output_type": "execute_result"
    }
   ],
   "source": [
    "test(4,354,3,45,True,[4,2,4,2,4])"
   ]
  },
  {
   "cell_type": "code",
   "execution_count": 31,
   "id": "5bc4622a",
   "metadata": {},
   "outputs": [],
   "source": [
    "def test(*sanju):   # we can pass n number of inputs or multiple arguments\n",
    "    l1 = []\n",
    "    for i in sanju:\n",
    "        l1.append(i)\n",
    "    return l1"
   ]
  },
  {
   "cell_type": "code",
   "execution_count": 32,
   "id": "d231089b",
   "metadata": {},
   "outputs": [
    {
     "data": {
      "text/plain": [
       "[43, 4, 3, 4, 3, [43, 3, 4, 3, 4], 'sanju']"
      ]
     },
     "execution_count": 32,
     "metadata": {},
     "output_type": "execute_result"
    }
   ],
   "source": [
    "test(43,4,3,4,3,[43,3,4,3,4],\"sanju\")"
   ]
  },
  {
   "cell_type": "code",
   "execution_count": 33,
   "id": "c5a06f55",
   "metadata": {},
   "outputs": [
    {
     "data": {
      "text/plain": [
       "[43, 4, 324, 3, 4, [43, 4, 3, 4, 3], (343, 4, 3, 4), {'sanju': 45, 'test': 56}]"
      ]
     },
     "execution_count": 33,
     "metadata": {},
     "output_type": "execute_result"
    }
   ],
   "source": [
    "test(43,4,324,3,4,[43,4,3,4,3],(343,4,3,4,),{\"sanju\":45,\"test\":56})"
   ]
  },
  {
   "cell_type": "code",
   "execution_count": 34,
   "id": "7ab7a23f",
   "metadata": {},
   "outputs": [],
   "source": [
    "def test(*args):\n",
    "    return args"
   ]
  },
  {
   "cell_type": "code",
   "execution_count": 35,
   "id": "73eb3f91",
   "metadata": {},
   "outputs": [
    {
     "data": {
      "text/plain": [
       "(43, 45, 3, 4, [3, 54, 3, 4], 'sanju')"
      ]
     },
     "execution_count": 35,
     "metadata": {},
     "output_type": "execute_result"
    }
   ],
   "source": [
    "test(43,45,3,4,[3,54,3,4,],\"sanju\")  # it will always returns tuple"
   ]
  },
  {
   "cell_type": "code",
   "execution_count": 36,
   "id": "82b378ca",
   "metadata": {},
   "outputs": [],
   "source": [
    "l = [5,3,53,5,3,5]"
   ]
  },
  {
   "cell_type": "code",
   "execution_count": 37,
   "id": "c6dec4bb",
   "metadata": {},
   "outputs": [],
   "source": [
    "l[0] = 99"
   ]
  },
  {
   "cell_type": "code",
   "execution_count": 38,
   "id": "07aa0246",
   "metadata": {},
   "outputs": [
    {
     "data": {
      "text/plain": [
       "[99, 3, 53, 5, 3, 5]"
      ]
     },
     "execution_count": 38,
     "metadata": {},
     "output_type": "execute_result"
    }
   ],
   "source": [
    "l"
   ]
  },
  {
   "cell_type": "code",
   "execution_count": 39,
   "id": "bc17caf8",
   "metadata": {},
   "outputs": [],
   "source": [
    "t = (43,5,3,5,3,5,)"
   ]
  },
  {
   "cell_type": "code",
   "execution_count": 40,
   "id": "f6ece0d9",
   "metadata": {},
   "outputs": [
    {
     "ename": "TypeError",
     "evalue": "'tuple' object does not support item assignment",
     "output_type": "error",
     "traceback": [
      "\u001b[1;31m---------------------------------------------------------------------------\u001b[0m",
      "\u001b[1;31mTypeError\u001b[0m                                 Traceback (most recent call last)",
      "\u001b[1;32m~\\AppData\\Local\\Temp\\ipykernel_17608\\1458345879.py\u001b[0m in \u001b[0;36m<module>\u001b[1;34m\u001b[0m\n\u001b[1;32m----> 1\u001b[1;33m \u001b[0mt\u001b[0m\u001b[1;33m[\u001b[0m\u001b[1;36m0\u001b[0m\u001b[1;33m]\u001b[0m \u001b[1;33m=\u001b[0m \u001b[1;36m90\u001b[0m   \u001b[1;31m#tuple is immutablity not an mutability\u001b[0m\u001b[1;33m\u001b[0m\u001b[1;33m\u001b[0m\u001b[0m\n\u001b[0m",
      "\u001b[1;31mTypeError\u001b[0m: 'tuple' object does not support item assignment"
     ]
    }
   ],
   "source": [
    "t[0] = 90   #tuple is immutablity not an mutability"
   ]
  },
  {
   "cell_type": "code",
   "execution_count": 41,
   "id": "98b1d76e",
   "metadata": {},
   "outputs": [],
   "source": [
    "s = {4,32.5,5,54,545,4,444,4,44,444}  # set is an ordered format"
   ]
  },
  {
   "cell_type": "code",
   "execution_count": 42,
   "id": "0cdaf796",
   "metadata": {},
   "outputs": [
    {
     "data": {
      "text/plain": [
       "{4, 5, 32.5, 44, 54, 444, 545}"
      ]
     },
     "execution_count": 42,
     "metadata": {},
     "output_type": "execute_result"
    }
   ],
   "source": [
    "s"
   ]
  },
  {
   "cell_type": "code",
   "execution_count": 43,
   "id": "88a4e371",
   "metadata": {},
   "outputs": [
    {
     "data": {
      "text/plain": [
       "set"
      ]
     },
     "execution_count": 43,
     "metadata": {},
     "output_type": "execute_result"
    }
   ],
   "source": [
    "type(s)"
   ]
  },
  {
   "cell_type": "code",
   "execution_count": 44,
   "id": "9524dc98",
   "metadata": {},
   "outputs": [],
   "source": [
    "s = {4,5,34,5,3}"
   ]
  },
  {
   "cell_type": "code",
   "execution_count": 45,
   "id": "cdfd5647",
   "metadata": {},
   "outputs": [
    {
     "data": {
      "text/plain": [
       "set"
      ]
     },
     "execution_count": 45,
     "metadata": {},
     "output_type": "execute_result"
    }
   ],
   "source": [
    "type(s)"
   ]
  },
  {
   "cell_type": "code",
   "execution_count": 46,
   "id": "47cbd3af",
   "metadata": {},
   "outputs": [],
   "source": [
    "d = {}  # If it is empty means it will be dictionary"
   ]
  },
  {
   "cell_type": "code",
   "execution_count": 47,
   "id": "9597fe24",
   "metadata": {},
   "outputs": [
    {
     "data": {
      "text/plain": [
       "dict"
      ]
     },
     "execution_count": 47,
     "metadata": {},
     "output_type": "execute_result"
    }
   ],
   "source": [
    "type(d)"
   ]
  },
  {
   "cell_type": "code",
   "execution_count": 48,
   "id": "cd62b3cd",
   "metadata": {},
   "outputs": [],
   "source": [
    "d = {43,5,3,5,5}  # this is the difference"
   ]
  },
  {
   "cell_type": "code",
   "execution_count": 49,
   "id": "c5b4c52a",
   "metadata": {},
   "outputs": [
    {
     "data": {
      "text/plain": [
       "set"
      ]
     },
     "execution_count": 49,
     "metadata": {},
     "output_type": "execute_result"
    }
   ],
   "source": [
    "type(d)"
   ]
  },
  {
   "cell_type": "code",
   "execution_count": 50,
   "id": "f4b29871",
   "metadata": {},
   "outputs": [],
   "source": [
    "d = {\"key1\":80,\"key2\" : \"sanju\"}"
   ]
  },
  {
   "cell_type": "code",
   "execution_count": 51,
   "id": "e99630c5",
   "metadata": {},
   "outputs": [
    {
     "data": {
      "text/plain": [
       "{'key1': 80, 'key2': 'sanju'}"
      ]
     },
     "execution_count": 51,
     "metadata": {},
     "output_type": "execute_result"
    }
   ],
   "source": [
    "d"
   ]
  },
  {
   "cell_type": "code",
   "execution_count": 52,
   "id": "4a0b7f42",
   "metadata": {},
   "outputs": [],
   "source": [
    "d2 = {654645:\"sanju\"}   # it will take key wise value as int"
   ]
  },
  {
   "cell_type": "code",
   "execution_count": 53,
   "id": "16aa3ec4",
   "metadata": {},
   "outputs": [
    {
     "data": {
      "text/plain": [
       "{654645: 'sanju'}"
      ]
     },
     "execution_count": 53,
     "metadata": {},
     "output_type": "execute_result"
    }
   ],
   "source": [
    "d2"
   ]
  },
  {
   "cell_type": "code",
   "execution_count": 54,
   "id": "fb45cd62",
   "metadata": {},
   "outputs": [
    {
     "ename": "SyntaxError",
     "evalue": "invalid syntax (186065164.py, line 1)",
     "output_type": "error",
     "traceback": [
      "\u001b[1;36m  File \u001b[1;32m\"C:\\Users\\bhavi\\AppData\\Local\\Temp\\ipykernel_17608\\186065164.py\"\u001b[1;36m, line \u001b[1;32m1\u001b[0m\n\u001b[1;33m    d = {$ :\"sanju\"}\u001b[0m\n\u001b[1;37m         ^\u001b[0m\n\u001b[1;31mSyntaxError\u001b[0m\u001b[1;31m:\u001b[0m invalid syntax\n"
     ]
    }
   ],
   "source": [
    "d = {$ :\"sanju\"}"
   ]
  },
  {
   "cell_type": "code",
   "execution_count": 55,
   "id": "5a709722",
   "metadata": {},
   "outputs": [],
   "source": [
    "d = {\"sanju\":\"sanju\"}"
   ]
  },
  {
   "cell_type": "code",
   "execution_count": 56,
   "id": "f587a8fe",
   "metadata": {},
   "outputs": [
    {
     "data": {
      "text/plain": [
       "{'sanju': 'sanju'}"
      ]
     },
     "execution_count": 56,
     "metadata": {},
     "output_type": "execute_result"
    }
   ],
   "source": [
    "d"
   ]
  },
  {
   "cell_type": "code",
   "execution_count": 57,
   "id": "c23ae03e",
   "metadata": {},
   "outputs": [
    {
     "ename": "TypeError",
     "evalue": "unhashable type: 'list'",
     "output_type": "error",
     "traceback": [
      "\u001b[1;31m---------------------------------------------------------------------------\u001b[0m",
      "\u001b[1;31mTypeError\u001b[0m                                 Traceback (most recent call last)",
      "\u001b[1;32m~\\AppData\\Local\\Temp\\ipykernel_17608\\1505049937.py\u001b[0m in \u001b[0;36m<module>\u001b[1;34m\u001b[0m\n\u001b[1;32m----> 1\u001b[1;33m \u001b[0md\u001b[0m \u001b[1;33m=\u001b[0m \u001b[1;33m{\u001b[0m\u001b[1;33m[\u001b[0m\u001b[1;36m4\u001b[0m\u001b[1;33m,\u001b[0m\u001b[1;36m3\u001b[0m\u001b[1;33m,\u001b[0m\u001b[1;36m5\u001b[0m\u001b[1;33m,\u001b[0m\u001b[1;36m3\u001b[0m\u001b[1;33m,\u001b[0m\u001b[1;36m45\u001b[0m\u001b[1;33m,\u001b[0m\u001b[1;36m4\u001b[0m\u001b[1;33m]\u001b[0m\u001b[1;33m:\u001b[0m\u001b[1;34m\"sanju\"\u001b[0m\u001b[1;33m}\u001b[0m  \u001b[1;31m# key it will be not permittable\u001b[0m\u001b[1;33m\u001b[0m\u001b[1;33m\u001b[0m\u001b[0m\n\u001b[0m",
      "\u001b[1;31mTypeError\u001b[0m: unhashable type: 'list'"
     ]
    }
   ],
   "source": [
    "d = {[4,3,5,3,45,4]:\"sanju\"}  # key it will be not permittable"
   ]
  },
  {
   "cell_type": "code",
   "execution_count": 58,
   "id": "ae89afb5",
   "metadata": {},
   "outputs": [],
   "source": [
    "d = {(3,4,3,4,3,5,3): \"sanju\"}"
   ]
  },
  {
   "cell_type": "code",
   "execution_count": 59,
   "id": "584f5591",
   "metadata": {},
   "outputs": [
    {
     "data": {
      "text/plain": [
       "{(3, 4, 3, 4, 3, 5, 3): 'sanju'}"
      ]
     },
     "execution_count": 59,
     "metadata": {},
     "output_type": "execute_result"
    }
   ],
   "source": [
    "d"
   ]
  },
  {
   "cell_type": "code",
   "execution_count": 60,
   "id": "34696384",
   "metadata": {},
   "outputs": [],
   "source": [
    "d = {\"name    \":\"sanju\",\"name\":\"gowda\",\"roasd\":\"int\",\"    name\":\"rwiewiojeio\"}   #If we use duplicate keys itijn will return int0o single"
   ]
  },
  {
   "cell_type": "code",
   "execution_count": 61,
   "id": "f4922c11",
   "metadata": {},
   "outputs": [
    {
     "data": {
      "text/plain": [
       "{'name    ': 'sanju',\n",
       " 'name': 'gowda',\n",
       " 'roasd': 'int',\n",
       " '    name': 'rwiewiojeio'}"
      ]
     },
     "execution_count": 61,
     "metadata": {},
     "output_type": "execute_result"
    }
   ],
   "source": [
    "d   # it will be takes latest value of key if its duplicating"
   ]
  },
  {
   "cell_type": "code",
   "execution_count": 62,
   "id": "7345412b",
   "metadata": {},
   "outputs": [],
   "source": [
    "d = {\"name\":\"sanju\",\"name\":\"gowda\",\"roasd\":\"int\",\"name\":\"rwiewiojeio\"}"
   ]
  },
  {
   "cell_type": "code",
   "execution_count": 63,
   "id": "b0e5f4ef",
   "metadata": {},
   "outputs": [
    {
     "data": {
      "text/plain": [
       "{'name': 'rwiewiojeio', 'roasd': 'int'}"
      ]
     },
     "execution_count": 63,
     "metadata": {},
     "output_type": "execute_result"
    }
   ],
   "source": [
    "d   # now there is no space so it will be gives latest record of output"
   ]
  },
  {
   "cell_type": "code",
   "execution_count": 64,
   "id": "34872645",
   "metadata": {},
   "outputs": [],
   "source": [
    "d = {\"key1\":565874, \"courses\": {\"fsds\":\"sanju\",\"fsds1\":\"sanju1\",\"fsds2\":\"sanju2\"}}  #It will executes key as a dict and values inside the dict"
   ]
  },
  {
   "cell_type": "code",
   "execution_count": 65,
   "id": "7391241e",
   "metadata": {},
   "outputs": [
    {
     "data": {
      "text/plain": [
       "{'key1': 565874,\n",
       " 'courses': {'fsds': 'sanju', 'fsds1': 'sanju1', 'fsds2': 'sanju2'}}"
      ]
     },
     "execution_count": 65,
     "metadata": {},
     "output_type": "execute_result"
    }
   ],
   "source": [
    "d   # we can create dict inside dict\n"
   ]
  },
  {
   "cell_type": "code",
   "execution_count": 66,
   "id": "c45e209b",
   "metadata": {},
   "outputs": [],
   "source": [
    "l = [3,5,3,5,4]"
   ]
  },
  {
   "cell_type": "code",
   "execution_count": 67,
   "id": "7558c0f3",
   "metadata": {},
   "outputs": [
    {
     "data": {
      "text/plain": [
       "5"
      ]
     },
     "execution_count": 67,
     "metadata": {},
     "output_type": "execute_result"
    }
   ],
   "source": [
    "l[1]"
   ]
  },
  {
   "cell_type": "code",
   "execution_count": 68,
   "id": "3ef8cd99",
   "metadata": {},
   "outputs": [],
   "source": [
    "d = {\"key1\":565874, \"courses\": {\"fsds\":\"sanju\",\"fsds1\":\"sanju1\",\"fsds2\":\"sanju2\"}} # {\"fsds\":\"sanju\",\"fsds1\":\"sanju1\",\"fsds2\":\"sanju2\"} complete value assign to key courses"
   ]
  },
  {
   "cell_type": "code",
   "execution_count": 69,
   "id": "ef8fc5bb",
   "metadata": {},
   "outputs": [
    {
     "data": {
      "text/plain": [
       "565874"
      ]
     },
     "execution_count": 69,
     "metadata": {},
     "output_type": "execute_result"
    }
   ],
   "source": [
    "d[\"key1\"]  # We did not pass index type"
   ]
  },
  {
   "cell_type": "code",
   "execution_count": 70,
   "id": "5d892bda",
   "metadata": {},
   "outputs": [
    {
     "data": {
      "text/plain": [
       "{'fsds': 'sanju', 'fsds1': 'sanju1', 'fsds2': 'sanju2'}"
      ]
     },
     "execution_count": 70,
     "metadata": {},
     "output_type": "execute_result"
    }
   ],
   "source": [
    "d[\"courses\"]"
   ]
  },
  {
   "cell_type": "code",
   "execution_count": 71,
   "id": "e5cfe9f7",
   "metadata": {},
   "outputs": [
    {
     "data": {
      "text/plain": [
       "'sanju2'"
      ]
     },
     "execution_count": 71,
     "metadata": {},
     "output_type": "execute_result"
    }
   ],
   "source": [
    "d[\"courses\"][\"fsds2\"]  #we did not get like thisv d[0]  d[1] like index"
   ]
  },
  {
   "cell_type": "code",
   "execution_count": 72,
   "id": "5b748f8f",
   "metadata": {},
   "outputs": [
    {
     "data": {
      "text/plain": [
       "dict_keys(['key1', 'courses'])"
      ]
     },
     "execution_count": 72,
     "metadata": {},
     "output_type": "execute_result"
    }
   ],
   "source": [
    "d.keys()"
   ]
  },
  {
   "cell_type": "code",
   "execution_count": 73,
   "id": "cea58c5f",
   "metadata": {},
   "outputs": [
    {
     "data": {
      "text/plain": [
       "dict_values([565874, {'fsds': 'sanju', 'fsds1': 'sanju1', 'fsds2': 'sanju2'}])"
      ]
     },
     "execution_count": 73,
     "metadata": {},
     "output_type": "execute_result"
    }
   ],
   "source": [
    "d.values()"
   ]
  },
  {
   "cell_type": "code",
   "execution_count": 74,
   "id": "d3a092ff",
   "metadata": {},
   "outputs": [
    {
     "data": {
      "text/plain": [
       "dict_items([('key1', 565874), ('courses', {'fsds': 'sanju', 'fsds1': 'sanju1', 'fsds2': 'sanju2'})])"
      ]
     },
     "execution_count": 74,
     "metadata": {},
     "output_type": "execute_result"
    }
   ],
   "source": [
    "d.items()   # Both keys and value pair"
   ]
  },
  {
   "cell_type": "code",
   "execution_count": 75,
   "id": "be6c9c4b",
   "metadata": {},
   "outputs": [],
   "source": [
    "d = {\"key1\":565874, \"courses\": {\"fsds\":\"sanju\",\"fsds1\":\"sanju1\",\"fsds2\":\"sanju2\"}}"
   ]
  },
  {
   "cell_type": "code",
   "execution_count": 76,
   "id": "efa86ff3",
   "metadata": {},
   "outputs": [
    {
     "data": {
      "text/plain": [
       "['sanju', 'sanju1', 'sanju2']"
      ]
     },
     "execution_count": 76,
     "metadata": {},
     "output_type": "execute_result"
    }
   ],
   "source": [
    "list(d[\"courses\"].values())"
   ]
  },
  {
   "cell_type": "code",
   "execution_count": 77,
   "id": "98b91e5e",
   "metadata": {},
   "outputs": [
    {
     "data": {
      "text/plain": [
       "['fsds', 'fsds1', 'fsds2']"
      ]
     },
     "execution_count": 77,
     "metadata": {},
     "output_type": "execute_result"
    }
   ],
   "source": [
    "list(d[\"courses\"].keys())"
   ]
  },
  {
   "cell_type": "code",
   "execution_count": 78,
   "id": "8a2f4e65",
   "metadata": {},
   "outputs": [
    {
     "data": {
      "text/plain": [
       "('fsds', 'fsds1', 'fsds2')"
      ]
     },
     "execution_count": 78,
     "metadata": {},
     "output_type": "execute_result"
    }
   ],
   "source": [
    "tuple(d[\"courses\"].keys())"
   ]
  },
  {
   "cell_type": "code",
   "execution_count": 79,
   "id": "3d724c00",
   "metadata": {},
   "outputs": [],
   "source": [
    "d = {\"key1\":565874, \"courses\": {\"fsds\":\"sanju\",\"fsds1\":\"sanju1\",\"fsds2\":\"sanju2\"}}"
   ]
  },
  {
   "cell_type": "code",
   "execution_count": 80,
   "id": "7ba2d576",
   "metadata": {},
   "outputs": [],
   "source": [
    "l = []\n",
    "for i in d.keys():\n",
    "    if type(d[i]) == dict:\n",
    "        l.append(list(d[i]))"
   ]
  },
  {
   "cell_type": "code",
   "execution_count": 81,
   "id": "f90d513f",
   "metadata": {},
   "outputs": [
    {
     "data": {
      "text/plain": [
       "[['fsds', 'fsds1', 'fsds2']]"
      ]
     },
     "execution_count": 81,
     "metadata": {},
     "output_type": "execute_result"
    }
   ],
   "source": [
    "l"
   ]
  },
  {
   "cell_type": "code",
   "execution_count": 82,
   "id": "193f9c99",
   "metadata": {},
   "outputs": [],
   "source": [
    "l = []\n",
    "for i in d.keys():\n",
    "    if type(d[i]) == dict:\n",
    "        l.append(list(d[i]))"
   ]
  },
  {
   "cell_type": "code",
   "execution_count": 83,
   "id": "bdd089dc",
   "metadata": {},
   "outputs": [
    {
     "data": {
      "text/plain": [
       "[['fsds', 'fsds1', 'fsds2']]"
      ]
     },
     "execution_count": 83,
     "metadata": {},
     "output_type": "execute_result"
    }
   ],
   "source": [
    "l"
   ]
  },
  {
   "cell_type": "code",
   "execution_count": 84,
   "id": "7135d657",
   "metadata": {},
   "outputs": [],
   "source": [
    "l = []\n",
    "for i in d.keys():\n",
    "    if type(d[i]) == dict:\n",
    "        l.append(list(d[i].values()))"
   ]
  },
  {
   "cell_type": "code",
   "execution_count": 85,
   "id": "f6e7fe53",
   "metadata": {},
   "outputs": [
    {
     "data": {
      "text/plain": [
       "[['sanju', 'sanju1', 'sanju2']]"
      ]
     },
     "execution_count": 85,
     "metadata": {},
     "output_type": "execute_result"
    }
   ],
   "source": [
    "l"
   ]
  },
  {
   "cell_type": "code",
   "execution_count": 86,
   "id": "a189f710",
   "metadata": {},
   "outputs": [
    {
     "ename": "AttributeError",
     "evalue": "'int' object has no attribute 'values'",
     "output_type": "error",
     "traceback": [
      "\u001b[1;31m---------------------------------------------------------------------------\u001b[0m",
      "\u001b[1;31mAttributeError\u001b[0m                            Traceback (most recent call last)",
      "\u001b[1;32m~\\AppData\\Local\\Temp\\ipykernel_17608\\3108461717.py\u001b[0m in \u001b[0;36m<module>\u001b[1;34m\u001b[0m\n\u001b[0;32m      1\u001b[0m \u001b[0ml\u001b[0m \u001b[1;33m=\u001b[0m \u001b[1;33m[\u001b[0m\u001b[1;33m]\u001b[0m\u001b[1;33m\u001b[0m\u001b[1;33m\u001b[0m\u001b[0m\n\u001b[0;32m      2\u001b[0m \u001b[1;32mfor\u001b[0m \u001b[0mi\u001b[0m \u001b[1;32min\u001b[0m \u001b[0md\u001b[0m\u001b[1;33m.\u001b[0m\u001b[0mkeys\u001b[0m\u001b[1;33m(\u001b[0m\u001b[1;33m)\u001b[0m\u001b[1;33m:\u001b[0m\u001b[1;33m\u001b[0m\u001b[1;33m\u001b[0m\u001b[0m\n\u001b[1;32m----> 3\u001b[1;33m     \u001b[0ml\u001b[0m\u001b[1;33m.\u001b[0m\u001b[0mappend\u001b[0m\u001b[1;33m(\u001b[0m\u001b[0mlist\u001b[0m\u001b[1;33m(\u001b[0m\u001b[0md\u001b[0m\u001b[1;33m[\u001b[0m\u001b[0mi\u001b[0m\u001b[1;33m]\u001b[0m\u001b[1;33m.\u001b[0m\u001b[0mvalues\u001b[0m\u001b[1;33m(\u001b[0m\u001b[1;33m)\u001b[0m\u001b[1;33m)\u001b[0m\u001b[1;33m)\u001b[0m\u001b[1;33m\u001b[0m\u001b[1;33m\u001b[0m\u001b[0m\n\u001b[0m",
      "\u001b[1;31mAttributeError\u001b[0m: 'int' object has no attribute 'values'"
     ]
    }
   ],
   "source": [
    "l = []\n",
    "for i in d.keys():\n",
    "    l.append(list(d[i].values()))"
   ]
  },
  {
   "cell_type": "code",
   "execution_count": 87,
   "id": "250dde1d",
   "metadata": {},
   "outputs": [],
   "source": [
    "d = {\"key1\":565874, \"courses\": {\"fsds\":\"sanju\",\"fsds1\":\"sanju1\",\"fsds2\":\"sanju2\"}}  #[[]] only values"
   ]
  },
  {
   "cell_type": "code",
   "execution_count": 88,
   "id": "33f51af8",
   "metadata": {},
   "outputs": [],
   "source": [
    "l = []\n",
    "for i in d.keys():\n",
    "    if type(d[i])  == dict:\n",
    "        l.append(list(d[i].values()))"
   ]
  },
  {
   "cell_type": "code",
   "execution_count": 89,
   "id": "aa1258d8",
   "metadata": {},
   "outputs": [
    {
     "data": {
      "text/plain": [
       "[['sanju', 'sanju1', 'sanju2']]"
      ]
     },
     "execution_count": 89,
     "metadata": {},
     "output_type": "execute_result"
    }
   ],
   "source": [
    "l"
   ]
  },
  {
   "cell_type": "code",
   "execution_count": 90,
   "id": "47a95f8a",
   "metadata": {},
   "outputs": [],
   "source": [
    "l = []\n",
    "for i in d.keys():\n",
    "    if type(d[i]) == dict:\n",
    "        l.append(list(d.keys()))"
   ]
  },
  {
   "cell_type": "code",
   "execution_count": 91,
   "id": "0bc512c2",
   "metadata": {},
   "outputs": [
    {
     "data": {
      "text/plain": [
       "[['key1', 'courses']]"
      ]
     },
     "execution_count": 91,
     "metadata": {},
     "output_type": "execute_result"
    }
   ],
   "source": [
    "l"
   ]
  },
  {
   "cell_type": "code",
   "execution_count": 92,
   "id": "50ed1c6a",
   "metadata": {},
   "outputs": [],
   "source": [
    "d = {\"key1\":565874, \"courses\": {\"fsds\":\"sanju\",\"fsds1\":\"sanju1\",\"fsds2\":\"sanju2\"}}"
   ]
  },
  {
   "cell_type": "code",
   "execution_count": 93,
   "id": "5458c1df",
   "metadata": {},
   "outputs": [],
   "source": [
    "l = []\n",
    "for i in d.keys():\n",
    "    if type(d[i]) == dict:\n",
    "        l.append(list(d[i].items()))"
   ]
  },
  {
   "cell_type": "code",
   "execution_count": 94,
   "id": "b480eaa4",
   "metadata": {},
   "outputs": [
    {
     "data": {
      "text/plain": [
       "[[('fsds', 'sanju'), ('fsds1', 'sanju1'), ('fsds2', 'sanju2')]]"
      ]
     },
     "execution_count": 94,
     "metadata": {},
     "output_type": "execute_result"
    }
   ],
   "source": [
    "l"
   ]
  },
  {
   "cell_type": "code",
   "execution_count": 95,
   "id": "b7bad557",
   "metadata": {},
   "outputs": [],
   "source": [
    "d = {\"key1\":565874, \"courses\": {\"fsds\":\"sanju\",\"fsds1\":\"sanju1\",\"fsds2\":\"sanju2\"}}"
   ]
  },
  {
   "cell_type": "code",
   "execution_count": 96,
   "id": "70e60986",
   "metadata": {},
   "outputs": [],
   "source": [
    "l = []\n",
    "for i in d.keys():\n",
    "    if type(d[i]) == dict:\n",
    "        l.append(list(d[i].values()))"
   ]
  },
  {
   "cell_type": "code",
   "execution_count": 97,
   "id": "de814d7f",
   "metadata": {},
   "outputs": [
    {
     "data": {
      "text/plain": [
       "[['sanju', 'sanju1', 'sanju2']]"
      ]
     },
     "execution_count": 97,
     "metadata": {},
     "output_type": "execute_result"
    }
   ],
   "source": [
    "l"
   ]
  },
  {
   "cell_type": "code",
   "execution_count": 98,
   "id": "9afc4a93",
   "metadata": {},
   "outputs": [],
   "source": [
    "l = []\n",
    "for i in d.keys():\n",
    "    if type(d[i]) == dict:\n",
    "        l.append(list(d[i].values()))"
   ]
  },
  {
   "cell_type": "code",
   "execution_count": 99,
   "id": "bdc32fbb",
   "metadata": {},
   "outputs": [
    {
     "data": {
      "text/plain": [
       "[['sanju', 'sanju1', 'sanju2']]"
      ]
     },
     "execution_count": 99,
     "metadata": {},
     "output_type": "execute_result"
    }
   ],
   "source": [
    "l"
   ]
  },
  {
   "cell_type": "code",
   "execution_count": 100,
   "id": "b46e7a9d",
   "metadata": {},
   "outputs": [],
   "source": [
    "d = {\"key1\":565874, \"courses\": {\"fsds\":\"sanju\",\"fsds1\":\"sanju1\",\"fsds2\":\"sanju2\"}}"
   ]
  },
  {
   "cell_type": "code",
   "execution_count": 101,
   "id": "71fe66f8",
   "metadata": {},
   "outputs": [],
   "source": [
    "l = []\n",
    "for i in d.keys():\n",
    "    if type(d[i]) == dict:\n",
    "        l.append(list(d[i].values()))"
   ]
  },
  {
   "cell_type": "code",
   "execution_count": 102,
   "id": "da77d0bb",
   "metadata": {},
   "outputs": [
    {
     "data": {
      "text/plain": [
       "[['sanju', 'sanju1', 'sanju2']]"
      ]
     },
     "execution_count": 102,
     "metadata": {},
     "output_type": "execute_result"
    }
   ],
   "source": [
    "l"
   ]
  },
  {
   "cell_type": "code",
   "execution_count": 103,
   "id": "12fb7400",
   "metadata": {},
   "outputs": [],
   "source": [
    "d = {\"key1\":565874, \"courses\": {\"fsds\":\"sanju\",\"fsds1\":\"sanju1\",\"fsds2\":\"sanju2\"}}"
   ]
  },
  {
   "cell_type": "code",
   "execution_count": 104,
   "id": "30275c4f",
   "metadata": {},
   "outputs": [],
   "source": [
    "l = []\n",
    "for i in d.keys():\n",
    "    if type(d[i]) == dict:\n",
    "        l.append(list(d[i].values()))"
   ]
  },
  {
   "cell_type": "code",
   "execution_count": 105,
   "id": "ecd9c6ad",
   "metadata": {},
   "outputs": [
    {
     "data": {
      "text/plain": [
       "[['sanju', 'sanju1', 'sanju2']]"
      ]
     },
     "execution_count": 105,
     "metadata": {},
     "output_type": "execute_result"
    }
   ],
   "source": [
    "l"
   ]
  },
  {
   "cell_type": "code",
   "execution_count": 106,
   "id": "2ecf7dbb",
   "metadata": {},
   "outputs": [],
   "source": [
    "d = {\"key1\":565874, \"courses\": {\"fsds\":\"sanju\",\"fsds1\":\"sanju1\",\"fsds2\":\"sanju2\"},\"mailid\": {\"mail1\":\"sanju@gmail\",\"mail2\":\"sanju22@gmail\",\"fsds2\":\"sanju2@gmail.com\"}}"
   ]
  },
  {
   "cell_type": "code",
   "execution_count": 107,
   "id": "6f023fdf",
   "metadata": {},
   "outputs": [],
   "source": [
    "l = []\n",
    "for i in d.keys():\n",
    "    if type(d[i]) == dict:\n",
    "        l.append(list(d[i].values()))"
   ]
  },
  {
   "cell_type": "code",
   "execution_count": 108,
   "id": "88b563d4",
   "metadata": {},
   "outputs": [
    {
     "data": {
      "text/plain": [
       "[['sanju', 'sanju1', 'sanju2'],\n",
       " ['sanju@gmail', 'sanju22@gmail', 'sanju2@gmail.com']]"
      ]
     },
     "execution_count": 108,
     "metadata": {},
     "output_type": "execute_result"
    }
   ],
   "source": [
    "l"
   ]
  },
  {
   "cell_type": "code",
   "execution_count": 109,
   "id": "892abc44",
   "metadata": {},
   "outputs": [],
   "source": [
    "def test(d):\n",
    "    l = []\n",
    "    for i in d.keys():\n",
    "        if type(d[i]) == dict:\n",
    "            l.append(list(d[i].values()))\n",
    "            return l"
   ]
  },
  {
   "cell_type": "code",
   "execution_count": 110,
   "id": "1bc4bdaf",
   "metadata": {},
   "outputs": [
    {
     "data": {
      "text/plain": [
       "[['sanju', 'sanju1', 'sanju2']]"
      ]
     },
     "execution_count": 110,
     "metadata": {},
     "output_type": "execute_result"
    }
   ],
   "source": [
    "test(d)"
   ]
  },
  {
   "cell_type": "code",
   "execution_count": 111,
   "id": "9e60889d",
   "metadata": {},
   "outputs": [
    {
     "data": {
      "text/plain": [
       "[['sanju', 'sanju1', 'sanju2']]"
      ]
     },
     "execution_count": 111,
     "metadata": {},
     "output_type": "execute_result"
    }
   ],
   "source": [
    "test(d)"
   ]
  },
  {
   "cell_type": "code",
   "execution_count": 112,
   "id": "f43a3b04",
   "metadata": {},
   "outputs": [],
   "source": [
    "d1 = {\"key1\":565874, \"courses\": {\"fsds\":\"sanju\",\"fsds1\":\"sanju1\",\"fsds2\":\"sanju2\"},\"mailid\": {\"mail1\":\"sanju@gmail\",\"mail2\":\"sanju22@gmail\",\"fsds2\":\"sanju2@gmail.com\"}}"
   ]
  },
  {
   "cell_type": "code",
   "execution_count": 113,
   "id": "1e81d7ac",
   "metadata": {},
   "outputs": [],
   "source": [
    "l = []\n",
    "for i in d.keys():\n",
    "    if type(d[i]) == dict:\n",
    "        l.append(list(d[i]))"
   ]
  },
  {
   "cell_type": "code",
   "execution_count": 114,
   "id": "c6b1900f",
   "metadata": {},
   "outputs": [
    {
     "data": {
      "text/plain": [
       "[['fsds', 'fsds1', 'fsds2'], ['mail1', 'mail2', 'fsds2']]"
      ]
     },
     "execution_count": 114,
     "metadata": {},
     "output_type": "execute_result"
    }
   ],
   "source": [
    "l"
   ]
  },
  {
   "cell_type": "code",
   "execution_count": 115,
   "id": "cc65be51",
   "metadata": {},
   "outputs": [],
   "source": [
    "def test(d):\n",
    "    l = []\n",
    "    for i in d.keys():\n",
    "        if type(d[i]) == dict:\n",
    "            l.append(list(d[i].values()))\n",
    "    return l "
   ]
  },
  {
   "cell_type": "code",
   "execution_count": 116,
   "id": "3eb7d9d9",
   "metadata": {},
   "outputs": [
    {
     "data": {
      "text/plain": [
       "[['sanju', 'sanju1', 'sanju2'],\n",
       " ['sanju@gmail', 'sanju22@gmail', 'sanju2@gmail.com']]"
      ]
     },
     "execution_count": 116,
     "metadata": {},
     "output_type": "execute_result"
    }
   ],
   "source": [
    "test(d1)   # some indentation we need to check"
   ]
  },
  {
   "cell_type": "code",
   "execution_count": 117,
   "id": "227bd77e",
   "metadata": {},
   "outputs": [],
   "source": [
    "d1[\"score\"] = {34,3,4,3,5,3,43}   # adding new key value pair"
   ]
  },
  {
   "cell_type": "code",
   "execution_count": 118,
   "id": "bf7ab3ee",
   "metadata": {},
   "outputs": [
    {
     "data": {
      "text/plain": [
       "{'key1': 565874,\n",
       " 'courses': {'fsds': 'sanju', 'fsds1': 'sanju1', 'fsds2': 'sanju2'},\n",
       " 'mailid': {'mail1': 'sanju@gmail',\n",
       "  'mail2': 'sanju22@gmail',\n",
       "  'fsds2': 'sanju2@gmail.com'},\n",
       " 'score': {3, 4, 5, 34, 43}}"
      ]
     },
     "execution_count": 118,
     "metadata": {},
     "output_type": "execute_result"
    }
   ],
   "source": [
    "d1"
   ]
  },
  {
   "cell_type": "code",
   "execution_count": 119,
   "id": "878e7754",
   "metadata": {},
   "outputs": [],
   "source": [
    "d1[\"marks\"] = {45,6,4,6,4,5,}"
   ]
  },
  {
   "cell_type": "code",
   "execution_count": 120,
   "id": "4d448c54",
   "metadata": {},
   "outputs": [
    {
     "data": {
      "text/plain": [
       "{'key1': 565874,\n",
       " 'courses': {'fsds': 'sanju', 'fsds1': 'sanju1', 'fsds2': 'sanju2'},\n",
       " 'mailid': {'mail1': 'sanju@gmail',\n",
       "  'mail2': 'sanju22@gmail',\n",
       "  'fsds2': 'sanju2@gmail.com'},\n",
       " 'score': {3, 4, 5, 34, 43},\n",
       " 'marks': {4, 5, 6, 45}}"
      ]
     },
     "execution_count": 120,
     "metadata": {},
     "output_type": "execute_result"
    }
   ],
   "source": [
    "d1"
   ]
  },
  {
   "cell_type": "code",
   "execution_count": 121,
   "id": "e9a41797",
   "metadata": {},
   "outputs": [],
   "source": [
    "d1['key1'] = 45356346  # updating the exist value because key is an unique"
   ]
  },
  {
   "cell_type": "code",
   "execution_count": 122,
   "id": "a010df4f",
   "metadata": {},
   "outputs": [
    {
     "data": {
      "text/plain": [
       "{'key1': 45356346,\n",
       " 'courses': {'fsds': 'sanju', 'fsds1': 'sanju1', 'fsds2': 'sanju2'},\n",
       " 'mailid': {'mail1': 'sanju@gmail',\n",
       "  'mail2': 'sanju22@gmail',\n",
       "  'fsds2': 'sanju2@gmail.com'},\n",
       " 'score': {3, 4, 5, 34, 43},\n",
       " 'marks': {4, 5, 6, 45}}"
      ]
     },
     "execution_count": 122,
     "metadata": {},
     "output_type": "execute_result"
    }
   ],
   "source": [
    "d1"
   ]
  },
  {
   "cell_type": "code",
   "execution_count": 123,
   "id": "86372858",
   "metadata": {},
   "outputs": [],
   "source": [
    "del d   # for deleting entire dictionary"
   ]
  },
  {
   "cell_type": "code",
   "execution_count": 124,
   "id": "2479f621",
   "metadata": {},
   "outputs": [
    {
     "ename": "NameError",
     "evalue": "name 'd' is not defined",
     "output_type": "error",
     "traceback": [
      "\u001b[1;31m---------------------------------------------------------------------------\u001b[0m",
      "\u001b[1;31mNameError\u001b[0m                                 Traceback (most recent call last)",
      "\u001b[1;32m~\\AppData\\Local\\Temp\\ipykernel_17608\\3161387801.py\u001b[0m in \u001b[0;36m<module>\u001b[1;34m\u001b[0m\n\u001b[1;32m----> 1\u001b[1;33m \u001b[0md\u001b[0m\u001b[1;33m\u001b[0m\u001b[1;33m\u001b[0m\u001b[0m\n\u001b[0m",
      "\u001b[1;31mNameError\u001b[0m: name 'd' is not defined"
     ]
    }
   ],
   "source": [
    "d"
   ]
  },
  {
   "cell_type": "code",
   "execution_count": 125,
   "id": "730db405",
   "metadata": {},
   "outputs": [
    {
     "data": {
      "text/plain": [
       "{'key1': 45356346,\n",
       " 'courses': {'fsds': 'sanju', 'fsds1': 'sanju1', 'fsds2': 'sanju2'},\n",
       " 'mailid': {'mail1': 'sanju@gmail',\n",
       "  'mail2': 'sanju22@gmail',\n",
       "  'fsds2': 'sanju2@gmail.com'},\n",
       " 'score': {3, 4, 5, 34, 43},\n",
       " 'marks': {4, 5, 6, 45}}"
      ]
     },
     "execution_count": 125,
     "metadata": {},
     "output_type": "execute_result"
    }
   ],
   "source": [
    "d1"
   ]
  },
  {
   "cell_type": "code",
   "execution_count": 126,
   "id": "d44429d2",
   "metadata": {},
   "outputs": [],
   "source": [
    "del d1['key1']  # delete particular key"
   ]
  },
  {
   "cell_type": "code",
   "execution_count": 127,
   "id": "7416aed8",
   "metadata": {},
   "outputs": [
    {
     "data": {
      "text/plain": [
       "{'courses': {'fsds': 'sanju', 'fsds1': 'sanju1', 'fsds2': 'sanju2'},\n",
       " 'mailid': {'mail1': 'sanju@gmail',\n",
       "  'mail2': 'sanju22@gmail',\n",
       "  'fsds2': 'sanju2@gmail.com'},\n",
       " 'score': {3, 4, 5, 34, 43},\n",
       " 'marks': {4, 5, 6, 45}}"
      ]
     },
     "execution_count": 127,
     "metadata": {},
     "output_type": "execute_result"
    }
   ],
   "source": [
    "d1"
   ]
  },
  {
   "cell_type": "code",
   "execution_count": 128,
   "id": "1edc63e9",
   "metadata": {},
   "outputs": [
    {
     "data": {
      "text/plain": [
       "{3, 4, 5, 34, 43}"
      ]
     },
     "execution_count": 128,
     "metadata": {},
     "output_type": "execute_result"
    }
   ],
   "source": [
    "d1.pop('score')  # popping of particular keys with value pair"
   ]
  },
  {
   "cell_type": "code",
   "execution_count": 129,
   "id": "7a860463",
   "metadata": {},
   "outputs": [
    {
     "data": {
      "text/plain": [
       "{'courses': {'fsds': 'sanju', 'fsds1': 'sanju1', 'fsds2': 'sanju2'},\n",
       " 'mailid': {'mail1': 'sanju@gmail',\n",
       "  'mail2': 'sanju22@gmail',\n",
       "  'fsds2': 'sanju2@gmail.com'},\n",
       " 'marks': {4, 5, 6, 45}}"
      ]
     },
     "execution_count": 129,
     "metadata": {},
     "output_type": "execute_result"
    }
   ],
   "source": [
    "d1"
   ]
  },
  {
   "cell_type": "code",
   "execution_count": 130,
   "id": "4959a84f",
   "metadata": {},
   "outputs": [],
   "source": [
    "del d1['marks']"
   ]
  },
  {
   "cell_type": "code",
   "execution_count": 131,
   "id": "f7faddb7",
   "metadata": {},
   "outputs": [
    {
     "data": {
      "text/plain": [
       "{'courses': {'fsds': 'sanju', 'fsds1': 'sanju1', 'fsds2': 'sanju2'},\n",
       " 'mailid': {'mail1': 'sanju@gmail',\n",
       "  'mail2': 'sanju22@gmail',\n",
       "  'fsds2': 'sanju2@gmail.com'}}"
      ]
     },
     "execution_count": 131,
     "metadata": {},
     "output_type": "execute_result"
    }
   ],
   "source": [
    "d1"
   ]
  },
  {
   "cell_type": "code",
   "execution_count": 132,
   "id": "6e9ae612",
   "metadata": {},
   "outputs": [
    {
     "data": {
      "text/plain": [
       "{'mail1': 'sanju@gmail', 'mail2': 'sanju22@gmail', 'fsds2': 'sanju2@gmail.com'}"
      ]
     },
     "execution_count": 132,
     "metadata": {},
     "output_type": "execute_result"
    }
   ],
   "source": [
    "d1.pop('mailid')"
   ]
  },
  {
   "cell_type": "code",
   "execution_count": 133,
   "id": "3483738d",
   "metadata": {},
   "outputs": [
    {
     "data": {
      "text/plain": [
       "{'courses': {'fsds': 'sanju', 'fsds1': 'sanju1', 'fsds2': 'sanju2'}}"
      ]
     },
     "execution_count": 133,
     "metadata": {},
     "output_type": "execute_result"
    }
   ],
   "source": [
    "d1"
   ]
  },
  {
   "cell_type": "code",
   "execution_count": 134,
   "id": "2cafddcc",
   "metadata": {},
   "outputs": [],
   "source": [
    "def test(*sanju):\n",
    "    l = []\n",
    "    for i in sanju:\n",
    "        l.append(i)\n",
    "    return l\n",
    "    "
   ]
  },
  {
   "cell_type": "code",
   "execution_count": 135,
   "id": "cf0ea3f9",
   "metadata": {},
   "outputs": [
    {
     "data": {
      "text/plain": [
       "[34, 34, 534, 5, [353, 435, 354, 345]]"
      ]
     },
     "execution_count": 135,
     "metadata": {},
     "output_type": "execute_result"
    }
   ],
   "source": [
    "test(34,34,534,5,[353,435,354,345,])"
   ]
  },
  {
   "cell_type": "code",
   "execution_count": 136,
   "id": "809766e6",
   "metadata": {},
   "outputs": [
    {
     "data": {
      "text/plain": [
       "[4, 5, 34, 54, 4]"
      ]
     },
     "execution_count": 136,
     "metadata": {},
     "output_type": "execute_result"
    }
   ],
   "source": [
    "test(4,5,34,54,4,)"
   ]
  },
  {
   "cell_type": "code",
   "execution_count": 137,
   "id": "358b9a56",
   "metadata": {},
   "outputs": [],
   "source": [
    "def test(*args):\n",
    "    l = []\n",
    "    for i in args:\n",
    "        l.append(i)\n",
    "    print(l)"
   ]
  },
  {
   "cell_type": "code",
   "execution_count": 138,
   "id": "cda0f4b9",
   "metadata": {},
   "outputs": [
    {
     "name": "stdout",
     "output_type": "stream",
     "text": [
      "[4, 65, 43, 6, 43, 54, [54, 54, 45, 5]]\n"
     ]
    }
   ],
   "source": [
    "test(4,65,43,6,43,54,[54,54,45,5])"
   ]
  },
  {
   "cell_type": "code",
   "execution_count": 139,
   "id": "3cb0b5ea",
   "metadata": {},
   "outputs": [
    {
     "name": "stdout",
     "output_type": "stream",
     "text": [
      "[]\n"
     ]
    },
    {
     "data": {
      "text/plain": [
       "NoneType"
      ]
     },
     "execution_count": 139,
     "metadata": {},
     "output_type": "execute_result"
    }
   ],
   "source": [
    "type(test())   # None"
   ]
  },
  {
   "cell_type": "code",
   "execution_count": 140,
   "id": "061ff820",
   "metadata": {},
   "outputs": [],
   "source": [
    "def test(*args):   # docstring\n",
    "    \"\"\"huighi ugjgiorejgioj\"\"\"\n",
    "    l = []\n",
    "    for i in args:\n",
    "        l.append(i)\n",
    "    return l"
   ]
  },
  {
   "cell_type": "code",
   "execution_count": 141,
   "id": "f1369f64",
   "metadata": {},
   "outputs": [
    {
     "data": {
      "text/plain": [
       "[4, 3, 53, 45, 3]"
      ]
     },
     "execution_count": 141,
     "metadata": {},
     "output_type": "execute_result"
    }
   ],
   "source": [
    "test(4,3,53,45,3)"
   ]
  },
  {
   "cell_type": "code",
   "execution_count": 142,
   "id": "279ac8e6",
   "metadata": {},
   "outputs": [
    {
     "data": {
      "text/plain": [
       "list"
      ]
     },
     "execution_count": 142,
     "metadata": {},
     "output_type": "execute_result"
    }
   ],
   "source": [
    "type(test())"
   ]
  },
  {
   "cell_type": "code",
   "execution_count": 143,
   "id": "8e958abc",
   "metadata": {},
   "outputs": [],
   "source": [
    "def test(**kwargs):   # I pass the key and value pair and return as dict\n",
    "    return kwargs "
   ]
  },
  {
   "cell_type": "code",
   "execution_count": 144,
   "id": "c857f558",
   "metadata": {},
   "outputs": [
    {
     "data": {
      "text/plain": [
       "{'a': 90, 'b': 80, 'sanju': 90}"
      ]
     },
     "execution_count": 144,
     "metadata": {},
     "output_type": "execute_result"
    }
   ],
   "source": [
    "test(a = 90,b =80,sanju = 90)   # In kwargs we need to pass like variables and we need to assign the variables = values"
   ]
  },
  {
   "cell_type": "code",
   "execution_count": 145,
   "id": "47f229e9",
   "metadata": {},
   "outputs": [
    {
     "data": {
      "text/plain": [
       "dict"
      ]
     },
     "execution_count": 145,
     "metadata": {},
     "output_type": "execute_result"
    }
   ],
   "source": [
    "type(test())"
   ]
  },
  {
   "cell_type": "code",
   "execution_count": 146,
   "id": "b7019c72",
   "metadata": {},
   "outputs": [
    {
     "data": {
      "text/plain": [
       "{'a': 70, 'sanjuu': 50, 'b': 40}"
      ]
     },
     "execution_count": 146,
     "metadata": {},
     "output_type": "execute_result"
    }
   ],
   "source": [
    "test(a = 70, sanjuu = 50,b = 40)"
   ]
  },
  {
   "cell_type": "code",
   "execution_count": 147,
   "id": "1452157e",
   "metadata": {},
   "outputs": [
    {
     "data": {
      "text/plain": [
       "{'eagle': 'sanju', 'a': 90}"
      ]
     },
     "execution_count": 147,
     "metadata": {},
     "output_type": "execute_result"
    }
   ],
   "source": [
    "test(eagle = \"sanju\",a =90)"
   ]
  },
  {
   "cell_type": "code",
   "execution_count": 148,
   "id": "37460374",
   "metadata": {},
   "outputs": [
    {
     "data": {
      "text/plain": [
       "{'a': 'rponf', 'b': 90, 'c': True}"
      ]
     },
     "execution_count": 148,
     "metadata": {},
     "output_type": "execute_result"
    }
   ],
   "source": [
    "test(a = \"rponf\" ,b =90, c = True)"
   ]
  },
  {
   "cell_type": "code",
   "execution_count": 149,
   "id": "6dde71d2",
   "metadata": {},
   "outputs": [
    {
     "data": {
      "text/plain": [
       "{'a': [5, 5, 3, 5, 3, 5], 'b': 'sanju'}"
      ]
     },
     "execution_count": 149,
     "metadata": {},
     "output_type": "execute_result"
    }
   ],
   "source": [
    "test(a = [5,5,3,5,3,5], b = \"sanju\")"
   ]
  },
  {
   "cell_type": "code",
   "execution_count": 150,
   "id": "6b753088",
   "metadata": {},
   "outputs": [
    {
     "data": {
      "text/plain": [
       "dict"
      ]
     },
     "execution_count": 150,
     "metadata": {},
     "output_type": "execute_result"
    }
   ],
   "source": [
    "type(test())"
   ]
  },
  {
   "cell_type": "code",
   "execution_count": 151,
   "id": "fc5b3607",
   "metadata": {},
   "outputs": [],
   "source": [
    "def test(**kwargs):\n",
    "    return kwargs"
   ]
  },
  {
   "cell_type": "code",
   "execution_count": 152,
   "id": "96f9fbf9",
   "metadata": {},
   "outputs": [
    {
     "ename": "SyntaxError",
     "evalue": "expression cannot contain assignment, perhaps you meant \"==\"? (559379195.py, line 1)",
     "output_type": "error",
     "traceback": [
      "\u001b[1;36m  File \u001b[1;32m\"C:\\Users\\bhavi\\AppData\\Local\\Temp\\ipykernel_17608\\559379195.py\"\u001b[1;36m, line \u001b[1;32m1\u001b[0m\n\u001b[1;33m    test(56 = \"sanju\",a =(3,54,3,45))\u001b[0m\n\u001b[1;37m         ^\u001b[0m\n\u001b[1;31mSyntaxError\u001b[0m\u001b[1;31m:\u001b[0m expression cannot contain assignment, perhaps you meant \"==\"?\n"
     ]
    }
   ],
   "source": [
    "test(56 = \"sanju\",a =(3,54,3,45))"
   ]
  },
  {
   "cell_type": "code",
   "execution_count": 153,
   "id": "7fefe163",
   "metadata": {},
   "outputs": [
    {
     "ename": "TypeError",
     "evalue": "test() takes 0 positional arguments but 1 was given",
     "output_type": "error",
     "traceback": [
      "\u001b[1;31m---------------------------------------------------------------------------\u001b[0m",
      "\u001b[1;31mTypeError\u001b[0m                                 Traceback (most recent call last)",
      "\u001b[1;32m~\\AppData\\Local\\Temp\\ipykernel_17608\\511251979.py\u001b[0m in \u001b[0;36m<module>\u001b[1;34m\u001b[0m\n\u001b[1;32m----> 1\u001b[1;33m \u001b[0mtest\u001b[0m\u001b[1;33m(\u001b[0m\u001b[1;36m0\u001b[0m \u001b[1;33m==\u001b[0m \u001b[1;36m0\u001b[0m\u001b[1;33m,\u001b[0m\u001b[0ma\u001b[0m \u001b[1;33m=\u001b[0m\u001b[1;34m\"sanju\"\u001b[0m\u001b[1;33m)\u001b[0m\u001b[1;33m\u001b[0m\u001b[1;33m\u001b[0m\u001b[0m\n\u001b[0m",
      "\u001b[1;31mTypeError\u001b[0m: test() takes 0 positional arguments but 1 was given"
     ]
    }
   ],
   "source": [
    "test(0 == 0,a =\"sanju\")"
   ]
  },
  {
   "cell_type": "code",
   "execution_count": 154,
   "id": "ddb90566",
   "metadata": {},
   "outputs": [
    {
     "data": {
      "text/plain": [
       "{'a': 90, 'b': 'sanju', 'c': [4, 56, 43, 54]}"
      ]
     },
     "execution_count": 154,
     "metadata": {},
     "output_type": "execute_result"
    }
   ],
   "source": [
    "test(a = 90,b = \"sanju\",c = [4,56,43,54])"
   ]
  },
  {
   "cell_type": "code",
   "execution_count": 155,
   "id": "91036653",
   "metadata": {},
   "outputs": [],
   "source": [
    "def test(a = 90):\n",
    "    return a\n",
    "def test1(b):\n",
    "    return b\n",
    "    \n",
    "def test2(func):\n",
    "    return func(\"sanju\")"
   ]
  },
  {
   "cell_type": "code",
   "execution_count": 156,
   "id": "0d23849f",
   "metadata": {},
   "outputs": [
    {
     "data": {
      "text/plain": [
       "'sanju'"
      ]
     },
     "execution_count": 156,
     "metadata": {},
     "output_type": "execute_result"
    }
   ],
   "source": [
    "test2(test)  # returns with sanju"
   ]
  },
  {
   "cell_type": "code",
   "execution_count": 157,
   "id": "427f7986",
   "metadata": {},
   "outputs": [
    {
     "data": {
      "text/plain": [
       "90"
      ]
     },
     "execution_count": 157,
     "metadata": {},
     "output_type": "execute_result"
    }
   ],
   "source": [
    "test1(test())"
   ]
  },
  {
   "cell_type": "code",
   "execution_count": 158,
   "id": "87d25123",
   "metadata": {},
   "outputs": [
    {
     "data": {
      "text/plain": [
       "'sanju'"
      ]
     },
     "execution_count": 158,
     "metadata": {},
     "output_type": "execute_result"
    }
   ],
   "source": [
    "test2(test1)"
   ]
  },
  {
   "cell_type": "code",
   "execution_count": 159,
   "id": "63332a8c",
   "metadata": {},
   "outputs": [],
   "source": [
    "def test(a = 90):\n",
    "    return a\n",
    "def test1(b):\n",
    "    return \"boo\"\n",
    "    \n",
    "def test2(func):\n",
    "    return func(\"sanju\")"
   ]
  },
  {
   "cell_type": "code",
   "execution_count": 160,
   "id": "c59fa8a9",
   "metadata": {},
   "outputs": [
    {
     "data": {
      "text/plain": [
       "'boo'"
      ]
     },
     "execution_count": 160,
     "metadata": {},
     "output_type": "execute_result"
    }
   ],
   "source": [
    "test2(test1)"
   ]
  },
  {
   "cell_type": "code",
   "execution_count": 161,
   "id": "48413152",
   "metadata": {},
   "outputs": [],
   "source": [
    "def test(a = 90):\n",
    "    return a\n",
    "def test1(*args):\n",
    "    return \"boo\"\n",
    "    \n",
    "def test2(func):\n",
    "    return func(\"sanju\")"
   ]
  },
  {
   "cell_type": "code",
   "execution_count": 162,
   "id": "c9d1ecb1",
   "metadata": {},
   "outputs": [
    {
     "data": {
      "text/plain": [
       "'boo'"
      ]
     },
     "execution_count": 162,
     "metadata": {},
     "output_type": "execute_result"
    }
   ],
   "source": [
    "test2(test1)"
   ]
  },
  {
   "cell_type": "code",
   "execution_count": 163,
   "id": "e37e1724",
   "metadata": {},
   "outputs": [],
   "source": [
    "def test1(a):  # global\n",
    "    print(\"sanju\")\n",
    "    \n",
    "    def test12():   # local\n",
    "        print(\"rodo\")\n",
    "        \n",
    "    def test13():   # local\n",
    "        print(\"loo\")\n",
    "    \n",
    "    if a == \"sanju\":\n",
    "        return test12()\n",
    "    elif a == \"gowda\":\n",
    "        return test13()"
   ]
  },
  {
   "cell_type": "code",
   "execution_count": 164,
   "id": "82a2b4a8",
   "metadata": {},
   "outputs": [
    {
     "name": "stdout",
     "output_type": "stream",
     "text": [
      "sanju\n",
      "rodo\n"
     ]
    }
   ],
   "source": [
    "test1(\"sanju\")  # If we call function inside a functionn also only giving return which we call"
   ]
  },
  {
   "cell_type": "code",
   "execution_count": 165,
   "id": "f16d17d4",
   "metadata": {},
   "outputs": [
    {
     "name": "stdout",
     "output_type": "stream",
     "text": [
      "sanju\n",
      "loo\n"
     ]
    }
   ],
   "source": [
    "test1(\"gowda\")  # If we call functiin inside function also it will return"
   ]
  },
  {
   "cell_type": "code",
   "execution_count": 166,
   "id": "7d101610",
   "metadata": {},
   "outputs": [],
   "source": [
    "def test11():  # global \n",
    "    def test12(): # local\n",
    "        print(\"this is message of test\")\n",
    "    return test12()       "
   ]
  },
  {
   "cell_type": "code",
   "execution_count": 167,
   "id": "7ca109ff",
   "metadata": {},
   "outputs": [
    {
     "name": "stdout",
     "output_type": "stream",
     "text": [
      "this is message of test\n"
     ]
    }
   ],
   "source": [
    "test11()"
   ]
  },
  {
   "cell_type": "code",
   "execution_count": 168,
   "id": "6756983e",
   "metadata": {},
   "outputs": [
    {
     "ename": "NameError",
     "evalue": "name 'test15' is not defined",
     "output_type": "error",
     "traceback": [
      "\u001b[1;31m---------------------------------------------------------------------------\u001b[0m",
      "\u001b[1;31mNameError\u001b[0m                                 Traceback (most recent call last)",
      "\u001b[1;32m~\\AppData\\Local\\Temp\\ipykernel_17608\\2206195347.py\u001b[0m in \u001b[0;36m<module>\u001b[1;34m\u001b[0m\n\u001b[1;32m----> 1\u001b[1;33m \u001b[1;33m@\u001b[0m\u001b[0mtest15\u001b[0m   \u001b[1;31m# decorator\u001b[0m\u001b[1;33m\u001b[0m\u001b[1;33m\u001b[0m\u001b[0m\n\u001b[0m\u001b[0;32m      2\u001b[0m \u001b[1;32mdef\u001b[0m \u001b[0mtest14\u001b[0m\u001b[1;33m(\u001b[0m\u001b[1;33m*\u001b[0m\u001b[0margs\u001b[0m\u001b[1;33m)\u001b[0m\u001b[1;33m:\u001b[0m\u001b[1;33m\u001b[0m\u001b[1;33m\u001b[0m\u001b[0m\n\u001b[0;32m      3\u001b[0m     \u001b[0mprint\u001b[0m\u001b[1;33m(\u001b[0m\u001b[1;34m\"Hello\"\u001b[0m\u001b[1;33m)\u001b[0m\u001b[1;33m\u001b[0m\u001b[1;33m\u001b[0m\u001b[0m\n",
      "\u001b[1;31mNameError\u001b[0m: name 'test15' is not defined"
     ]
    }
   ],
   "source": [
    "@test15   # decorator\n",
    "def test14(*args):\n",
    "    print(\"Hello\")"
   ]
  },
  {
   "cell_type": "code",
   "execution_count": 169,
   "id": "e384ee88",
   "metadata": {},
   "outputs": [],
   "source": [
    "def test15(func):\n",
    "    def test16():\n",
    "        print(\"rounding\")\n",
    "        func()\n",
    "    return test16()"
   ]
  },
  {
   "cell_type": "code",
   "execution_count": 170,
   "id": "067b6d59",
   "metadata": {},
   "outputs": [
    {
     "ename": "NameError",
     "evalue": "name 'test14' is not defined",
     "output_type": "error",
     "traceback": [
      "\u001b[1;31m---------------------------------------------------------------------------\u001b[0m",
      "\u001b[1;31mNameError\u001b[0m                                 Traceback (most recent call last)",
      "\u001b[1;32m~\\AppData\\Local\\Temp\\ipykernel_17608\\2036201092.py\u001b[0m in \u001b[0;36m<module>\u001b[1;34m\u001b[0m\n\u001b[1;32m----> 1\u001b[1;33m \u001b[0mtest15\u001b[0m\u001b[1;33m(\u001b[0m\u001b[0mtest14\u001b[0m\u001b[1;33m)\u001b[0m\u001b[1;33m\u001b[0m\u001b[1;33m\u001b[0m\u001b[0m\n\u001b[0m",
      "\u001b[1;31mNameError\u001b[0m: name 'test14' is not defined"
     ]
    }
   ],
   "source": [
    "test15(test14)"
   ]
  },
  {
   "cell_type": "code",
   "execution_count": 171,
   "id": "e563067c",
   "metadata": {},
   "outputs": [],
   "source": [
    "def test11(func):  # global \n",
    "    def test12(): # local\n",
    "        print(\"this is message of test\")\n",
    "    return test12()  "
   ]
  },
  {
   "cell_type": "code",
   "execution_count": 172,
   "id": "f62270e4",
   "metadata": {},
   "outputs": [
    {
     "name": "stdout",
     "output_type": "stream",
     "text": [
      "this is message of test\n"
     ]
    }
   ],
   "source": [
    "test11(test15)"
   ]
  },
  {
   "cell_type": "code",
   "execution_count": 173,
   "id": "ff1a518e",
   "metadata": {},
   "outputs": [
    {
     "ename": "NameError",
     "evalue": "name 'test14' is not defined",
     "output_type": "error",
     "traceback": [
      "\u001b[1;31m---------------------------------------------------------------------------\u001b[0m",
      "\u001b[1;31mNameError\u001b[0m                                 Traceback (most recent call last)",
      "\u001b[1;32m~\\AppData\\Local\\Temp\\ipykernel_17608\\3151253611.py\u001b[0m in \u001b[0;36m<module>\u001b[1;34m\u001b[0m\n\u001b[1;32m----> 1\u001b[1;33m \u001b[0mtest11\u001b[0m\u001b[1;33m(\u001b[0m\u001b[0mtest14\u001b[0m\u001b[1;33m)\u001b[0m\u001b[1;33m\u001b[0m\u001b[1;33m\u001b[0m\u001b[0m\n\u001b[0m",
      "\u001b[1;31mNameError\u001b[0m: name 'test14' is not defined"
     ]
    }
   ],
   "source": [
    "test11(test14)"
   ]
  },
  {
   "cell_type": "code",
   "execution_count": 174,
   "id": "79cc95f0",
   "metadata": {},
   "outputs": [],
   "source": [
    "def test15():\n",
    "    def test16():\n",
    "        print(\"rounding\")\n",
    "        func()\n",
    "    return test16()"
   ]
  },
  {
   "cell_type": "code",
   "execution_count": 175,
   "id": "99deafcd",
   "metadata": {},
   "outputs": [
    {
     "name": "stdout",
     "output_type": "stream",
     "text": [
      "rounding\n"
     ]
    },
    {
     "ename": "NameError",
     "evalue": "name 'func' is not defined",
     "output_type": "error",
     "traceback": [
      "\u001b[1;31m---------------------------------------------------------------------------\u001b[0m",
      "\u001b[1;31mNameError\u001b[0m                                 Traceback (most recent call last)",
      "\u001b[1;32m~\\AppData\\Local\\Temp\\ipykernel_17608\\3181251971.py\u001b[0m in \u001b[0;36m<module>\u001b[1;34m\u001b[0m\n\u001b[1;32m----> 1\u001b[1;33m \u001b[0mtest15\u001b[0m\u001b[1;33m(\u001b[0m\u001b[1;33m)\u001b[0m\u001b[1;33m\u001b[0m\u001b[1;33m\u001b[0m\u001b[0m\n\u001b[0m",
      "\u001b[1;32m~\\AppData\\Local\\Temp\\ipykernel_17608\\3303258785.py\u001b[0m in \u001b[0;36mtest15\u001b[1;34m()\u001b[0m\n\u001b[0;32m      3\u001b[0m         \u001b[0mprint\u001b[0m\u001b[1;33m(\u001b[0m\u001b[1;34m\"rounding\"\u001b[0m\u001b[1;33m)\u001b[0m\u001b[1;33m\u001b[0m\u001b[1;33m\u001b[0m\u001b[0m\n\u001b[0;32m      4\u001b[0m         \u001b[0mfunc\u001b[0m\u001b[1;33m(\u001b[0m\u001b[1;33m)\u001b[0m\u001b[1;33m\u001b[0m\u001b[1;33m\u001b[0m\u001b[0m\n\u001b[1;32m----> 5\u001b[1;33m     \u001b[1;32mreturn\u001b[0m \u001b[0mtest16\u001b[0m\u001b[1;33m(\u001b[0m\u001b[1;33m)\u001b[0m\u001b[1;33m\u001b[0m\u001b[1;33m\u001b[0m\u001b[0m\n\u001b[0m",
      "\u001b[1;32m~\\AppData\\Local\\Temp\\ipykernel_17608\\3303258785.py\u001b[0m in \u001b[0;36mtest16\u001b[1;34m()\u001b[0m\n\u001b[0;32m      2\u001b[0m     \u001b[1;32mdef\u001b[0m \u001b[0mtest16\u001b[0m\u001b[1;33m(\u001b[0m\u001b[1;33m)\u001b[0m\u001b[1;33m:\u001b[0m\u001b[1;33m\u001b[0m\u001b[1;33m\u001b[0m\u001b[0m\n\u001b[0;32m      3\u001b[0m         \u001b[0mprint\u001b[0m\u001b[1;33m(\u001b[0m\u001b[1;34m\"rounding\"\u001b[0m\u001b[1;33m)\u001b[0m\u001b[1;33m\u001b[0m\u001b[1;33m\u001b[0m\u001b[0m\n\u001b[1;32m----> 4\u001b[1;33m         \u001b[0mfunc\u001b[0m\u001b[1;33m(\u001b[0m\u001b[1;33m)\u001b[0m\u001b[1;33m\u001b[0m\u001b[1;33m\u001b[0m\u001b[0m\n\u001b[0m\u001b[0;32m      5\u001b[0m     \u001b[1;32mreturn\u001b[0m \u001b[0mtest16\u001b[0m\u001b[1;33m(\u001b[0m\u001b[1;33m)\u001b[0m\u001b[1;33m\u001b[0m\u001b[1;33m\u001b[0m\u001b[0m\n",
      "\u001b[1;31mNameError\u001b[0m: name 'func' is not defined"
     ]
    }
   ],
   "source": [
    "test15()"
   ]
  },
  {
   "cell_type": "code",
   "execution_count": 176,
   "id": "01f30695",
   "metadata": {},
   "outputs": [],
   "source": [
    "def test15(func):  # DECORATOR IS MAINLY ADDING NEW FUNCTIONS TO AN EXISTING OBJECT WITHOUT CHANGING THE STRUCTURE\n",
    "    def test16():\n",
    "        print(\"rounding\")\n",
    "        func()\n",
    "    return test16"
   ]
  },
  {
   "cell_type": "code",
   "execution_count": 177,
   "id": "f9defd14",
   "metadata": {},
   "outputs": [
    {
     "ename": "NameError",
     "evalue": "name 'test14' is not defined",
     "output_type": "error",
     "traceback": [
      "\u001b[1;31m---------------------------------------------------------------------------\u001b[0m",
      "\u001b[1;31mNameError\u001b[0m                                 Traceback (most recent call last)",
      "\u001b[1;32m~\\AppData\\Local\\Temp\\ipykernel_17608\\2036201092.py\u001b[0m in \u001b[0;36m<module>\u001b[1;34m\u001b[0m\n\u001b[1;32m----> 1\u001b[1;33m \u001b[0mtest15\u001b[0m\u001b[1;33m(\u001b[0m\u001b[0mtest14\u001b[0m\u001b[1;33m)\u001b[0m\u001b[1;33m\u001b[0m\u001b[1;33m\u001b[0m\u001b[0m\n\u001b[0m",
      "\u001b[1;31mNameError\u001b[0m: name 'test14' is not defined"
     ]
    }
   ],
   "source": [
    "test15(test14)"
   ]
  },
  {
   "cell_type": "code",
   "execution_count": 178,
   "id": "47c2faab",
   "metadata": {},
   "outputs": [],
   "source": [
    "def test1(func):\n",
    "    def test2():\n",
    "        print(\"Decorator\")\n",
    "        func()\n",
    "    return test2()\n",
    "    "
   ]
  },
  {
   "cell_type": "code",
   "execution_count": 179,
   "id": "292c03ed",
   "metadata": {},
   "outputs": [],
   "source": [
    "def test20():\n",
    "    print(\"Hello\")"
   ]
  },
  {
   "cell_type": "code",
   "execution_count": 180,
   "id": "ca1e7818",
   "metadata": {},
   "outputs": [
    {
     "name": "stdout",
     "output_type": "stream",
     "text": [
      "Decorator\n",
      "Hello\n"
     ]
    }
   ],
   "source": [
    "test1(test20)"
   ]
  },
  {
   "cell_type": "code",
   "execution_count": 181,
   "id": "1be92a96",
   "metadata": {},
   "outputs": [],
   "source": [
    "import os   # WE called cuurent working directory is here but this function only we can call in test20(), it will prints in next function this is called Decorator\n",
    "\n",
    "def test1(func):\n",
    "    def test2():\n",
    "        print(\"Decorator\")\n",
    "        func()\n",
    "        print(os.getcwd())   \n",
    "    return test2   # Important ()\n",
    "    "
   ]
  },
  {
   "cell_type": "code",
   "execution_count": 182,
   "id": "b4d43bb2",
   "metadata": {},
   "outputs": [],
   "source": [
    "@test1    # MULTIPLE DECORATORS\n",
    "@test15\n",
    "def test22():\n",
    "    print(\"koo\")"
   ]
  },
  {
   "cell_type": "code",
   "execution_count": 183,
   "id": "b5bfcb67",
   "metadata": {},
   "outputs": [
    {
     "name": "stdout",
     "output_type": "stream",
     "text": [
      "Decorator\n",
      "rounding\n",
      "koo\n",
      "C:\\Users\\bhavi\\PythonFull\n"
     ]
    }
   ],
   "source": [
    "test22()"
   ]
  },
  {
   "cell_type": "code",
   "execution_count": 184,
   "id": "12a4d25a",
   "metadata": {},
   "outputs": [],
   "source": [
    "def test11(func):\n",
    "    def test12(a = 90,b = 10):\n",
    "        func()\n",
    "        print(a+b)\n",
    "    return test12  # 'NoneType' object is not callable\n",
    "        "
   ]
  },
  {
   "cell_type": "code",
   "execution_count": 185,
   "id": "edd78c8f",
   "metadata": {},
   "outputs": [],
   "source": [
    "@test1  # Multiple Decorator\n",
    "@test11\n",
    "def test13():\n",
    "    print(\"HIIII\")"
   ]
  },
  {
   "cell_type": "code",
   "execution_count": 186,
   "id": "3bb84962",
   "metadata": {},
   "outputs": [
    {
     "name": "stdout",
     "output_type": "stream",
     "text": [
      "Decorator\n",
      "HIIII\n",
      "100\n",
      "C:\\Users\\bhavi\\PythonFull\n"
     ]
    }
   ],
   "source": [
    "test13()"
   ]
  },
  {
   "cell_type": "code",
   "execution_count": 187,
   "id": "c8dbd521",
   "metadata": {},
   "outputs": [
    {
     "name": "stdout",
     "output_type": "stream",
     "text": [
      "Hello\n",
      "9.004634618759155\n"
     ]
    }
   ],
   "source": [
    "#  write the function to execute the time for function\n",
    "import time\n",
    "\n",
    "start = time.time()\n",
    "print(\"Hello\")\n",
    "time.sleep(9)\n",
    "end = time.time()\n",
    "print(end - start)"
   ]
  },
  {
   "cell_type": "code",
   "execution_count": 188,
   "id": "1b8eab91",
   "metadata": {},
   "outputs": [
    {
     "data": {
      "text/plain": [
       "1668482987.751697"
      ]
     },
     "execution_count": 188,
     "metadata": {},
     "output_type": "execute_result"
    }
   ],
   "source": [
    "time.time()"
   ]
  },
  {
   "cell_type": "code",
   "execution_count": 189,
   "id": "ab85d573",
   "metadata": {},
   "outputs": [],
   "source": [
    "import time\n",
    "def test(func):\n",
    "    def test34():\n",
    "        print(\"this is execution of time\")\n",
    "        start = time.time()\n",
    "        func()\n",
    "        print(func())\n",
    "        time.sleep(9)\n",
    "        end = time.time()\n",
    "        print(end - start)\n",
    "    return test34"
   ]
  },
  {
   "cell_type": "code",
   "execution_count": 190,
   "id": "7d6d962d",
   "metadata": {},
   "outputs": [],
   "source": [
    "@test\n",
    "def test12():\n",
    "    l = [2,3,2,4,2,4]\n",
    "    l1 = []\n",
    "    for i in l:\n",
    "        if type(i)  == int:\n",
    "            l1.append(i)\n",
    "    return l1"
   ]
  },
  {
   "cell_type": "code",
   "execution_count": 191,
   "id": "b11d7db2",
   "metadata": {},
   "outputs": [
    {
     "name": "stdout",
     "output_type": "stream",
     "text": [
      "this is execution of time\n",
      "[2, 3, 2, 4, 2, 4]\n",
      "9.015176773071289\n"
     ]
    }
   ],
   "source": [
    "test12()"
   ]
  },
  {
   "cell_type": "code",
   "execution_count": 192,
   "id": "dd6dd371",
   "metadata": {},
   "outputs": [],
   "source": [
    "@test\n",
    "def test23(a = 90,b =90):\n",
    "    return a + b"
   ]
  },
  {
   "cell_type": "code",
   "execution_count": 193,
   "id": "958b2e51",
   "metadata": {},
   "outputs": [
    {
     "name": "stdout",
     "output_type": "stream",
     "text": [
      "this is execution of time\n",
      "180\n",
      "9.009939432144165\n"
     ]
    }
   ],
   "source": [
    "test23()"
   ]
  },
  {
   "cell_type": "code",
   "execution_count": 194,
   "id": "d68244c0",
   "metadata": {},
   "outputs": [
    {
     "data": {
      "text/plain": [
       "1668483005.8866901"
      ]
     },
     "execution_count": 194,
     "metadata": {},
     "output_type": "execute_result"
    }
   ],
   "source": [
    "time.time()"
   ]
  },
  {
   "cell_type": "code",
   "execution_count": 3,
   "id": "610b8574",
   "metadata": {},
   "outputs": [],
   "source": [
    "amazon = [(\"watch\", 5000),(\"phone\",10000),(\"laptop\",50000),(\"shirt\",1000)]  # i [0]  i [1]"
   ]
  },
  {
   "cell_type": "code",
   "execution_count": null,
   "id": "a25b37e9",
   "metadata": {},
   "outputs": [],
   "source": [
    "a = input(\"enter items\")\n",
    "b = int(input(\"enter no of quantary\"))\n",
    "for i in amazon:\n",
    "    if i[0] == a:\n",
    "        price = b * i[1]\n",
    "        print(price)\n",
    "        break\n",
    "    elif i[0] != 0:\n",
    "        print(\"item not available\")\n",
    "    "
   ]
  },
  {
   "cell_type": "code",
   "execution_count": 4,
   "id": "12eb137a",
   "metadata": {},
   "outputs": [],
   "source": [
    "l_item = []\n",
    "l_price = []\n",
    "for i, j in amazon:\n",
    "    l_item.append(i)\n",
    "    l_price.append(i)"
   ]
  },
  {
   "cell_type": "code",
   "execution_count": 5,
   "id": "79e56907",
   "metadata": {},
   "outputs": [
    {
     "data": {
      "text/plain": [
       "['watch', 'phone', 'laptop', 'shirt']"
      ]
     },
     "execution_count": 5,
     "metadata": {},
     "output_type": "execute_result"
    }
   ],
   "source": [
    "l_item"
   ]
  },
  {
   "cell_type": "code",
   "execution_count": 6,
   "id": "93900120",
   "metadata": {},
   "outputs": [
    {
     "data": {
      "text/plain": [
       "['watch', 'phone', 'laptop', 'shirt']"
      ]
     },
     "execution_count": 6,
     "metadata": {},
     "output_type": "execute_result"
    }
   ],
   "source": [
    "l_price"
   ]
  },
  {
   "cell_type": "code",
   "execution_count": null,
   "id": "5d8acf5c",
   "metadata": {},
   "outputs": [],
   "source": [
    "price = 0\n",
    "while True:\n",
    "    a = input(\"enter items\")\n",
    "    b = int(input(\"enter no of quantary\"))\n",
    "    if a in l_item:\n",
    "        print(\"calculate the price\")\n",
    "for i in amazon:\n",
    "    if i[0] == a:\n",
    "        price = price +  b * i[1]\n",
    "        print(price)\n",
    "    else:\n",
    "        break\n",
    "    print(price)\n",
    "        \n",
    "    \n",
    "    "
   ]
  },
  {
   "cell_type": "code",
   "execution_count": 22,
   "id": "a29c0970",
   "metadata": {},
   "outputs": [],
   "source": [
    "def test(fun):\n",
    "    def test1():\n",
    "        print(\"start of function\")\n",
    "      \n",
    "        print(\"function is executed\")\n",
    "        fun()\n",
    "        print(fun())\n",
    "        return(fun())\n",
    "    return test1"
   ]
  },
  {
   "cell_type": "code",
   "execution_count": 23,
   "id": "785f79cc",
   "metadata": {},
   "outputs": [],
   "source": [
    "@test   # Decorator execute by adding new functionality to existing object without changing structure\n",
    "def test2():\n",
    "    return 5+6"
   ]
  },
  {
   "cell_type": "code",
   "execution_count": 24,
   "id": "aafbc151",
   "metadata": {},
   "outputs": [
    {
     "name": "stdout",
     "output_type": "stream",
     "text": [
      "start of function\n",
      "function is executed\n",
      "11\n"
     ]
    },
    {
     "data": {
      "text/plain": [
       "11"
      ]
     },
     "execution_count": 24,
     "metadata": {},
     "output_type": "execute_result"
    }
   ],
   "source": [
    "test2()"
   ]
  },
  {
   "cell_type": "code",
   "execution_count": 25,
   "id": "f91343c4",
   "metadata": {},
   "outputs": [
    {
     "name": "stdout",
     "output_type": "stream",
     "text": [
      "start of function\n",
      "function is executed\n",
      "11\n"
     ]
    },
    {
     "data": {
      "text/plain": [
       "int"
      ]
     },
     "execution_count": 25,
     "metadata": {},
     "output_type": "execute_result"
    }
   ],
   "source": [
    "type(test2())"
   ]
  },
  {
   "cell_type": "code",
   "execution_count": 26,
   "id": "947a5b88",
   "metadata": {},
   "outputs": [
    {
     "name": "stdout",
     "output_type": "stream",
     "text": [
      "start of function\n",
      "function is executed\n",
      "11\n"
     ]
    },
    {
     "data": {
      "text/plain": [
       "<function __main__.test.<locals>.test1()>"
      ]
     },
     "execution_count": 26,
     "metadata": {},
     "output_type": "execute_result"
    }
   ],
   "source": [
    "test(test2())"
   ]
  },
  {
   "cell_type": "code",
   "execution_count": 27,
   "id": "c00c8446",
   "metadata": {},
   "outputs": [],
   "source": [
    "def test(fun):\n",
    "    def test1():\n",
    "        print(\"start of function\")\n",
    "      \n",
    "        print(\"function is executed\")\n",
    "        fun()\n",
    "        #print(fun())  just check by commenting\n",
    "        print(fun())\n",
    "    return test1"
   ]
  },
  {
   "cell_type": "code",
   "execution_count": 2,
   "id": "661d03f1",
   "metadata": {},
   "outputs": [],
   "source": [
    "@test\n",
    "def testing():\n",
    "    return 5+90"
   ]
  },
  {
   "cell_type": "code",
   "execution_count": 3,
   "id": "aaca2d3d",
   "metadata": {},
   "outputs": [
    {
     "name": "stdout",
     "output_type": "stream",
     "text": [
      "start of function\n",
      "function is executed\n",
      "95\n"
     ]
    },
    {
     "ename": "TypeError",
     "evalue": "unsupported operand type(s) for +: 'NoneType' and 'int'",
     "output_type": "error",
     "traceback": [
      "\u001b[1;31m---------------------------------------------------------------------------\u001b[0m",
      "\u001b[1;31mTypeError\u001b[0m                                 Traceback (most recent call last)",
      "\u001b[1;32m~\\AppData\\Local\\Temp\\ipykernel_88\\879315816.py\u001b[0m in \u001b[0;36m<module>\u001b[1;34m\u001b[0m\n\u001b[1;32m----> 1\u001b[1;33m \u001b[0mtesting\u001b[0m\u001b[1;33m(\u001b[0m\u001b[1;33m)\u001b[0m \u001b[1;33m+\u001b[0m\u001b[1;36m90\u001b[0m\u001b[1;33m\u001b[0m\u001b[1;33m\u001b[0m\u001b[0m\n\u001b[0m",
      "\u001b[1;31mTypeError\u001b[0m: unsupported operand type(s) for +: 'NoneType' and 'int'"
     ]
    }
   ],
   "source": [
    "testing() +90"
   ]
  },
  {
   "cell_type": "code",
   "execution_count": 4,
   "id": "7d6628fa",
   "metadata": {},
   "outputs": [
    {
     "name": "stdout",
     "output_type": "stream",
     "text": [
      "start of function\n",
      "function is executed\n",
      "95\n"
     ]
    },
    {
     "data": {
      "text/plain": [
       "NoneType"
      ]
     },
     "execution_count": 4,
     "metadata": {},
     "output_type": "execute_result"
    }
   ],
   "source": [
    "type(testing())"
   ]
  },
  {
   "cell_type": "code",
   "execution_count": 5,
   "id": "05e13e7b",
   "metadata": {},
   "outputs": [],
   "source": [
    "def testing():\n",
    "    return 5+90"
   ]
  },
  {
   "cell_type": "code",
   "execution_count": 6,
   "id": "c84bfb5c",
   "metadata": {},
   "outputs": [
    {
     "data": {
      "text/plain": [
       "int"
      ]
     },
     "execution_count": 6,
     "metadata": {},
     "output_type": "execute_result"
    }
   ],
   "source": [
    "type(testing())"
   ]
  },
  {
   "cell_type": "code",
   "execution_count": null,
   "id": "add9e622",
   "metadata": {},
   "outputs": [],
   "source": [
    "testing() + 79"
   ]
  },
  {
   "cell_type": "code",
   "execution_count": 7,
   "id": "678ee7c8",
   "metadata": {},
   "outputs": [],
   "source": [
    "def test(fun):\n",
    "    def test1():\n",
    "        print(\"start of function\")\n",
    "      \n",
    "        print(\"function is executed\")\n",
    "        fun()\n",
    "        #print(fun())  just check by commenting\n",
    "        print(fun())\n",
    "        return(fun())   # To return as Datatype without NONETYPE RETURN(FUN())\n",
    "    return test1"
   ]
  },
  {
   "cell_type": "code",
   "execution_count": 8,
   "id": "bca04c62",
   "metadata": {},
   "outputs": [],
   "source": [
    "@test\n",
    "def testing():\n",
    "    return 55+90"
   ]
  },
  {
   "cell_type": "code",
   "execution_count": 9,
   "id": "559a363f",
   "metadata": {},
   "outputs": [
    {
     "name": "stdout",
     "output_type": "stream",
     "text": [
      "start of function\n",
      "function is executed\n",
      "145\n"
     ]
    },
    {
     "data": {
      "text/plain": [
       "145"
      ]
     },
     "execution_count": 9,
     "metadata": {},
     "output_type": "execute_result"
    }
   ],
   "source": [
    "testing()"
   ]
  },
  {
   "cell_type": "code",
   "execution_count": 10,
   "id": "ba7a02da",
   "metadata": {},
   "outputs": [
    {
     "name": "stdout",
     "output_type": "stream",
     "text": [
      "start of function\n",
      "function is executed\n",
      "145\n"
     ]
    },
    {
     "data": {
      "text/plain": [
       "int"
      ]
     },
     "execution_count": 10,
     "metadata": {},
     "output_type": "execute_result"
    }
   ],
   "source": [
    "type(testing())  # Now we ARE getting primitive datatype rather than NONE"
   ]
  },
  {
   "cell_type": "code",
   "execution_count": 11,
   "id": "067d7c25",
   "metadata": {},
   "outputs": [
    {
     "name": "stdout",
     "output_type": "stream",
     "text": [
      "start of function\n",
      "function is executed\n",
      "145\n"
     ]
    },
    {
     "data": {
      "text/plain": [
       "235"
      ]
     },
     "execution_count": 11,
     "metadata": {},
     "output_type": "execute_result"
    }
   ],
   "source": [
    "testing() + 90    # Wrapper   # Return"
   ]
  },
  {
   "cell_type": "code",
   "execution_count": 1,
   "id": "4fb6e28d",
   "metadata": {},
   "outputs": [
    {
     "name": "stdout",
     "output_type": "stream",
     "text": [
      "90\n"
     ]
    }
   ],
   "source": [
    "print(90)"
   ]
  },
  {
   "cell_type": "code",
   "execution_count": 44,
   "id": "2eb949d7",
   "metadata": {},
   "outputs": [],
   "source": [
    "\n",
    "def sanju(func):\n",
    "    def test2():\n",
    "        print(45+90)\n",
    "        func()\n",
    "        print(func())\n",
    "        return(func())\n",
    "    return test2()\n",
    "        "
   ]
  },
  {
   "cell_type": "code",
   "execution_count": 45,
   "id": "53942ac0",
   "metadata": {},
   "outputs": [
    {
     "name": "stdout",
     "output_type": "stream",
     "text": [
      "135\n",
      "8\n"
     ]
    }
   ],
   "source": [
    "@sanju\n",
    "def testing33():\n",
    "    return 4+4   # 8"
   ]
  },
  {
   "cell_type": "code",
   "execution_count": 46,
   "id": "a16e7041",
   "metadata": {},
   "outputs": [
    {
     "data": {
      "text/plain": [
       "int"
      ]
     },
     "execution_count": 46,
     "metadata": {},
     "output_type": "execute_result"
    }
   ],
   "source": [
    "type(testing33)"
   ]
  },
  {
   "cell_type": "code",
   "execution_count": 69,
   "id": "97193e4c",
   "metadata": {},
   "outputs": [],
   "source": [
    "def test4(func):\n",
    "    def test5():\n",
    "        print(\"this is the messsage\")\n",
    "        func()\n",
    "        print(func())\n",
    "        return(func())\n",
    "    return test5()"
   ]
  },
  {
   "cell_type": "code",
   "execution_count": 70,
   "id": "a69958ae",
   "metadata": {},
   "outputs": [
    {
     "name": "stdout",
     "output_type": "stream",
     "text": [
      "this is the messsage\n",
      "10\n"
     ]
    }
   ],
   "source": [
    "@test4\n",
    "def tet():\n",
    "    return 5+5"
   ]
  },
  {
   "cell_type": "code",
   "execution_count": 71,
   "id": "58565a42",
   "metadata": {},
   "outputs": [
    {
     "data": {
      "text/plain": [
       "int"
      ]
     },
     "execution_count": 71,
     "metadata": {},
     "output_type": "execute_result"
    }
   ],
   "source": [
    "type(tet)"
   ]
  },
  {
   "cell_type": "code",
   "execution_count": 132,
   "id": "7b1a85ba",
   "metadata": {},
   "outputs": [],
   "source": [
    "def sanjay(func):\n",
    "    def tango():\n",
    "        for i in range(0,9):\n",
    "            print(i)\n",
    "        func()\n",
    "        print(func())\n",
    "        return(func())\n",
    "    return tango()"
   ]
  },
  {
   "cell_type": "code",
   "execution_count": 133,
   "id": "3ce8e572",
   "metadata": {},
   "outputs": [
    {
     "name": "stdout",
     "output_type": "stream",
     "text": [
      "0\n",
      "1\n",
      "2\n",
      "3\n",
      "4\n",
      "5\n",
      "6\n",
      "7\n",
      "8\n",
      "96\n"
     ]
    }
   ],
   "source": [
    "@sanjay\n",
    "def test90():   # test 90 will move to argument\n",
    "    return 6+90"
   ]
  },
  {
   "cell_type": "code",
   "execution_count": 134,
   "id": "562b7cc5",
   "metadata": {},
   "outputs": [
    {
     "data": {
      "text/plain": [
       "int"
      ]
     },
     "execution_count": 134,
     "metadata": {},
     "output_type": "execute_result"
    }
   ],
   "source": [
    "type(test90)"
   ]
  },
  {
   "cell_type": "code",
   "execution_count": 167,
   "id": "bf9dd2b8",
   "metadata": {},
   "outputs": [
    {
     "ename": "IndentationError",
     "evalue": "unindent does not match any outer indentation level (<tokenize>, line 4)",
     "output_type": "error",
     "traceback": [
      "\u001b[1;36m  File \u001b[1;32m\"<tokenize>\"\u001b[1;36m, line \u001b[1;32m4\u001b[0m\n\u001b[1;33m    for i in range(0,n):\u001b[0m\n\u001b[1;37m    ^\u001b[0m\n\u001b[1;31mIndentationError\u001b[0m\u001b[1;31m:\u001b[0m unindent does not match any outer indentation level\n"
     ]
    }
   ],
   "source": [
    "def test55(func):\n",
    "        def test3(n):\n",
    "           n =90\n",
    "    for i in range(0,n):\n",
    "        for j in range(0,i+1):\n",
    "             print(\"@\", end = \"\")\n",
    "        print(\"\\n\")\n",
    "        func()\n",
    "        print(func())\n",
    "        return func()\n",
    "        return test3()"
   ]
  },
  {
   "cell_type": "code",
   "execution_count": 149,
   "id": "75f5124d",
   "metadata": {},
   "outputs": [],
   "source": [
    "@test55\n",
    "def tr():\n",
    "    return 2*2"
   ]
  },
  {
   "cell_type": "code",
   "execution_count": 150,
   "id": "1a2b9cd0",
   "metadata": {},
   "outputs": [
    {
     "ename": "TypeError",
     "evalue": "'NoneType' object is not callable",
     "output_type": "error",
     "traceback": [
      "\u001b[1;31m---------------------------------------------------------------------------\u001b[0m",
      "\u001b[1;31mTypeError\u001b[0m                                 Traceback (most recent call last)",
      "\u001b[1;32m~\\AppData\\Local\\Temp\\ipykernel_17876\\3939837913.py\u001b[0m in \u001b[0;36m<module>\u001b[1;34m\u001b[0m\n\u001b[1;32m----> 1\u001b[1;33m \u001b[0mtr\u001b[0m\u001b[1;33m(\u001b[0m\u001b[1;33m)\u001b[0m\u001b[1;33m\u001b[0m\u001b[1;33m\u001b[0m\u001b[0m\n\u001b[0m",
      "\u001b[1;31mTypeError\u001b[0m: 'NoneType' object is not callable"
     ]
    }
   ],
   "source": [
    "tr()"
   ]
  },
  {
   "cell_type": "code",
   "execution_count": 268,
   "id": "3be8c25a",
   "metadata": {},
   "outputs": [],
   "source": [
    "def test2(func):\n",
    "    def test(a,b):\n",
    "        print(\"this is message\")\n",
    "        func(a,b)\n",
    "        print(func(a,b))\n",
    "        return func(a,b)\n",
    "    return test"
   ]
  },
  {
   "cell_type": "code",
   "execution_count": 269,
   "id": "71383346",
   "metadata": {},
   "outputs": [],
   "source": [
    "@test2\n",
    "def tig(a,b):\n",
    "    return a+b"
   ]
  },
  {
   "cell_type": "code",
   "execution_count": 270,
   "id": "d1670454",
   "metadata": {},
   "outputs": [
    {
     "name": "stdout",
     "output_type": "stream",
     "text": [
      "this is message\n",
      "9\n"
     ]
    },
    {
     "data": {
      "text/plain": [
       "9"
      ]
     },
     "execution_count": 270,
     "metadata": {},
     "output_type": "execute_result"
    }
   ],
   "source": [
    "tig(9,0)"
   ]
  },
  {
   "cell_type": "code",
   "execution_count": 224,
   "id": "d36eb214",
   "metadata": {},
   "outputs": [
    {
     "name": "stdout",
     "output_type": "stream",
     "text": [
      "this is message\n",
      "sunnykoo\n"
     ]
    },
    {
     "data": {
      "text/plain": [
       "'sunnykoo'"
      ]
     },
     "execution_count": 224,
     "metadata": {},
     "output_type": "execute_result"
    }
   ],
   "source": [
    "tig(\"sunny\",\"koo\")"
   ]
  },
  {
   "cell_type": "code",
   "execution_count": 250,
   "id": "64cc0f58",
   "metadata": {},
   "outputs": [],
   "source": [
    "def test2(func):\n",
    "    def test(*args):\n",
    "        print(\"this is message\")\n",
    "        func(*args)\n",
    "        print(*args)\n",
    "        return func(*args)\n",
    "    return test"
   ]
  },
  {
   "cell_type": "code",
   "execution_count": 251,
   "id": "331b7b84",
   "metadata": {},
   "outputs": [],
   "source": [
    "@test2\n",
    "def te(a,b):\n",
    "    return a+b"
   ]
  },
  {
   "cell_type": "code",
   "execution_count": 252,
   "id": "36a5bfdc",
   "metadata": {},
   "outputs": [
    {
     "name": "stdout",
     "output_type": "stream",
     "text": [
      "this is message\n",
      "sam mam\n"
     ]
    },
    {
     "data": {
      "text/plain": [
       "'sammam'"
      ]
     },
     "execution_count": 252,
     "metadata": {},
     "output_type": "execute_result"
    }
   ],
   "source": [
    "te(\"sam\",\"mam\")"
   ]
  },
  {
   "cell_type": "code",
   "execution_count": 265,
   "id": "9dd141e6",
   "metadata": {},
   "outputs": [],
   "source": [
    "def test2(func):\n",
    "    def tr(*args):\n",
    "        func(*args)\n",
    "        print(*args)\n",
    "        print(\"this is msg\")\n",
    "        return func(*args)\n",
    "    return tr"
   ]
  },
  {
   "cell_type": "code",
   "execution_count": 266,
   "id": "26097c3c",
   "metadata": {},
   "outputs": [],
   "source": [
    "@test2\n",
    "def ty(a,b,c,d):\n",
    "    return a+b+c+d"
   ]
  },
  {
   "cell_type": "code",
   "execution_count": 267,
   "id": "7af151be",
   "metadata": {},
   "outputs": [
    {
     "name": "stdout",
     "output_type": "stream",
     "text": [
      "8 9 0 80\n",
      "this is msg\n"
     ]
    },
    {
     "data": {
      "text/plain": [
       "97"
      ]
     },
     "execution_count": 267,
     "metadata": {},
     "output_type": "execute_result"
    }
   ],
   "source": [
    "ty(8,9,0,80)"
   ]
  },
  {
   "cell_type": "code",
   "execution_count": 274,
   "id": "5416ebb1",
   "metadata": {},
   "outputs": [],
   "source": [
    "def tri(func):\n",
    "    def rr(a,b):\n",
    "        func(a,b)\n",
    "        print(\"this is messsge\")\n",
    "        print(func(a,b))\n",
    "    return rr\n",
    "        "
   ]
  },
  {
   "cell_type": "code",
   "execution_count": 275,
   "id": "a92c7911",
   "metadata": {},
   "outputs": [],
   "source": [
    "@tri\n",
    "def rag(a,b):\n",
    "    return a+b "
   ]
  },
  {
   "cell_type": "code",
   "execution_count": 276,
   "id": "db5b7b91",
   "metadata": {},
   "outputs": [
    {
     "name": "stdout",
     "output_type": "stream",
     "text": [
      "this is messsge\n",
      "15\n"
     ]
    }
   ],
   "source": [
    "rag(8,7)"
   ]
  },
  {
   "cell_type": "code",
   "execution_count": 295,
   "id": "d1395034",
   "metadata": {},
   "outputs": [],
   "source": [
    "def test3(func):\n",
    "    def rr(*args):\n",
    "        func(*args)\n",
    "        print(*args)\n",
    "        print(\"this is message\")\n",
    "        return func(*args)\n",
    "    return rr"
   ]
  },
  {
   "cell_type": "code",
   "execution_count": 296,
   "id": "7f10b21b",
   "metadata": {},
   "outputs": [],
   "source": [
    "@test3\n",
    "def tt(a,b):\n",
    "    return a+b"
   ]
  },
  {
   "cell_type": "code",
   "execution_count": 297,
   "id": "f3219ad6",
   "metadata": {},
   "outputs": [
    {
     "name": "stdout",
     "output_type": "stream",
     "text": [
      "4 7\n",
      "this is message\n"
     ]
    },
    {
     "data": {
      "text/plain": [
       "11"
      ]
     },
     "execution_count": 297,
     "metadata": {},
     "output_type": "execute_result"
    }
   ],
   "source": [
    "tt(4,7)"
   ]
  },
  {
   "cell_type": "code",
   "execution_count": 298,
   "id": "37eca61e",
   "metadata": {},
   "outputs": [],
   "source": [
    "@test3\n",
    "def tt1(**kwargs):\n",
    "    return kwargs"
   ]
  },
  {
   "cell_type": "code",
   "execution_count": 299,
   "id": "f90370a6",
   "metadata": {},
   "outputs": [
    {
     "ename": "TypeError",
     "evalue": "rr() got an unexpected keyword argument 'a'",
     "output_type": "error",
     "traceback": [
      "\u001b[1;31m---------------------------------------------------------------------------\u001b[0m",
      "\u001b[1;31mTypeError\u001b[0m                                 Traceback (most recent call last)",
      "\u001b[1;32m~\\AppData\\Local\\Temp\\ipykernel_17876\\1393491148.py\u001b[0m in \u001b[0;36m<module>\u001b[1;34m\u001b[0m\n\u001b[1;32m----> 1\u001b[1;33m \u001b[0mtt1\u001b[0m\u001b[1;33m(\u001b[0m\u001b[0ma\u001b[0m \u001b[1;33m=\u001b[0m \u001b[1;36m90\u001b[0m\u001b[1;33m,\u001b[0m\u001b[0mb\u001b[0m \u001b[1;33m=\u001b[0m\u001b[1;36m80\u001b[0m\u001b[1;33m)\u001b[0m\u001b[1;33m\u001b[0m\u001b[1;33m\u001b[0m\u001b[0m\n\u001b[0m",
      "\u001b[1;31mTypeError\u001b[0m: rr() got an unexpected keyword argument 'a'"
     ]
    }
   ],
   "source": [
    "tt1(a = 90,b =80)"
   ]
  },
  {
   "cell_type": "code",
   "execution_count": 318,
   "id": "c846f98c",
   "metadata": {},
   "outputs": [],
   "source": [
    "def test31(func):\n",
    "    def rr(*args,**kwargs):\n",
    "        func(*args,**kwargs)\n",
    "        print(func(*args,**kwargs))\n",
    "        print(\"this is message\")\n",
    "        return func(*args,**kwargs)\n",
    "    return rr"
   ]
  },
  {
   "cell_type": "code",
   "execution_count": 319,
   "id": "fec4f35a",
   "metadata": {},
   "outputs": [],
   "source": [
    "@test31\n",
    "def tt1(**kwargs):\n",
    "    return kwargs"
   ]
  },
  {
   "cell_type": "code",
   "execution_count": 320,
   "id": "6a4c16fa",
   "metadata": {},
   "outputs": [
    {
     "name": "stdout",
     "output_type": "stream",
     "text": [
      "{'a': 90, 'b': 80}\n",
      "this is message\n"
     ]
    },
    {
     "data": {
      "text/plain": [
       "{'a': 90, 'b': 80}"
      ]
     },
     "execution_count": 320,
     "metadata": {},
     "output_type": "execute_result"
    }
   ],
   "source": [
    "tt1(a = 90,b =80)"
   ]
  },
  {
   "cell_type": "code",
   "execution_count": 322,
   "id": "22630065",
   "metadata": {},
   "outputs": [],
   "source": [
    "def test22(func): \n",
    "    def tight(*args,**kwargs):    # WRAPPER FUNCTIONN WHERE ARGUMENT WILL BE CALLED\n",
    "        func(*args,**kwargs)\n",
    "        print(\"This is message\")\n",
    "        print(func(*args,**kwargs))\n",
    "        return func(*args,**kwargs)\n",
    "    return tight()"
   ]
  },
  {
   "cell_type": "code",
   "execution_count": 323,
   "id": "9354fe3e",
   "metadata": {},
   "outputs": [],
   "source": [
    "def tr(*args):\n",
    "    return args"
   ]
  },
  {
   "cell_type": "code",
   "execution_count": 324,
   "id": "342756dd",
   "metadata": {},
   "outputs": [
    {
     "data": {
      "text/plain": [
       "(3, 42)"
      ]
     },
     "execution_count": 324,
     "metadata": {},
     "output_type": "execute_result"
    }
   ],
   "source": [
    "tr(3,42)  #  *args means returns to tuple"
   ]
  },
  {
   "cell_type": "code",
   "execution_count": 326,
   "id": "96c42b07",
   "metadata": {},
   "outputs": [
    {
     "data": {
      "text/plain": [
       "tuple"
      ]
     },
     "execution_count": 326,
     "metadata": {},
     "output_type": "execute_result"
    }
   ],
   "source": [
    "type(tr())"
   ]
  },
  {
   "cell_type": "code",
   "execution_count": 327,
   "id": "b3e2e11b",
   "metadata": {},
   "outputs": [],
   "source": [
    "def tee(**kwargs):\n",
    "    return kwargs"
   ]
  },
  {
   "cell_type": "code",
   "execution_count": 328,
   "id": "67770f96",
   "metadata": {},
   "outputs": [
    {
     "data": {
      "text/plain": [
       "{'a': 90, 'b': 90}"
      ]
     },
     "execution_count": 328,
     "metadata": {},
     "output_type": "execute_result"
    }
   ],
   "source": [
    "tee(a = 90,b =90)    # kwargs returns to an dict"
   ]
  },
  {
   "cell_type": "code",
   "execution_count": 329,
   "id": "d1e3bcfd",
   "metadata": {},
   "outputs": [
    {
     "data": {
      "text/plain": [
       "dict"
      ]
     },
     "execution_count": 329,
     "metadata": {},
     "output_type": "execute_result"
    }
   ],
   "source": [
    "type(tee())"
   ]
  },
  {
   "cell_type": "code",
   "execution_count": 330,
   "id": "075ef480",
   "metadata": {},
   "outputs": [],
   "source": [
    "def test(a,b):\n",
    "    return a*b"
   ]
  },
  {
   "cell_type": "code",
   "execution_count": 331,
   "id": "2b345e4b",
   "metadata": {},
   "outputs": [
    {
     "data": {
      "text/plain": [
       "0"
      ]
     },
     "execution_count": 331,
     "metadata": {},
     "output_type": "execute_result"
    }
   ],
   "source": [
    "test(9,0)"
   ]
  },
  {
   "cell_type": "code",
   "execution_count": 333,
   "id": "24675e1f",
   "metadata": {},
   "outputs": [
    {
     "data": {
      "text/plain": [
       "<function __main__.<lambda>(a, b)>"
      ]
     },
     "execution_count": 333,
     "metadata": {},
     "output_type": "execute_result"
    }
   ],
   "source": [
    "lambda a,b : a*b   # simmilar type of signature"
   ]
  },
  {
   "cell_type": "code",
   "execution_count": 334,
   "id": "87e5b977",
   "metadata": {},
   "outputs": [
    {
     "data": {
      "text/plain": [
       "<function __main__.test(a, b)>"
      ]
     },
     "execution_count": 334,
     "metadata": {},
     "output_type": "execute_result"
    }
   ],
   "source": [
    "test"
   ]
  },
  {
   "cell_type": "code",
   "execution_count": 339,
   "id": "4a9cb295",
   "metadata": {},
   "outputs": [],
   "source": [
    "c = lambda a,b : a+b   # LAMBDA FUNCTION"
   ]
  },
  {
   "cell_type": "code",
   "execution_count": 337,
   "id": "10f65893",
   "metadata": {},
   "outputs": [
    {
     "data": {
      "text/plain": [
       "24"
      ]
     },
     "execution_count": 337,
     "metadata": {},
     "output_type": "execute_result"
    }
   ],
   "source": [
    "c(4,6)"
   ]
  },
  {
   "cell_type": "code",
   "execution_count": 340,
   "id": "3819db14",
   "metadata": {},
   "outputs": [
    {
     "data": {
      "text/plain": [
       "'sanjugowda'"
      ]
     },
     "execution_count": 340,
     "metadata": {},
     "output_type": "execute_result"
    }
   ],
   "source": [
    "c(\"sanju\",\"gowda\")"
   ]
  },
  {
   "cell_type": "code",
   "execution_count": 341,
   "id": "cd885cd5",
   "metadata": {},
   "outputs": [],
   "source": [
    "d = lambda a,b,c,d : a*b*c/d"
   ]
  },
  {
   "cell_type": "code",
   "execution_count": 342,
   "id": "98fd0815",
   "metadata": {},
   "outputs": [
    {
     "data": {
      "text/plain": [
       "38.4"
      ]
     },
     "execution_count": 342,
     "metadata": {},
     "output_type": "execute_result"
    }
   ],
   "source": [
    "d(4,6,8,5)"
   ]
  },
  {
   "cell_type": "code",
   "execution_count": 343,
   "id": "641eef2e",
   "metadata": {},
   "outputs": [],
   "source": [
    "c = lambda  *args : args"
   ]
  },
  {
   "cell_type": "code",
   "execution_count": 344,
   "id": "7713c6fd",
   "metadata": {},
   "outputs": [
    {
     "data": {
      "text/plain": [
       "()"
      ]
     },
     "execution_count": 344,
     "metadata": {},
     "output_type": "execute_result"
    }
   ],
   "source": [
    "c()"
   ]
  },
  {
   "cell_type": "code",
   "execution_count": 345,
   "id": "c6dbf2a0",
   "metadata": {},
   "outputs": [
    {
     "data": {
      "text/plain": [
       "(6, 764, 5)"
      ]
     },
     "execution_count": 345,
     "metadata": {},
     "output_type": "execute_result"
    }
   ],
   "source": [
    "c(6,764,5)   # It will return in tupples"
   ]
  },
  {
   "cell_type": "code",
   "execution_count": 346,
   "id": "dcd986bb",
   "metadata": {},
   "outputs": [],
   "source": [
    "c =  lambda **kwargs : kwargs"
   ]
  },
  {
   "cell_type": "code",
   "execution_count": 348,
   "id": "67de1546",
   "metadata": {},
   "outputs": [
    {
     "data": {
      "text/plain": [
       "{'a': 6, 'b': 65}"
      ]
     },
     "execution_count": 348,
     "metadata": {},
     "output_type": "execute_result"
    }
   ],
   "source": [
    "c(a = 6,b =65)   # It will returns in dict"
   ]
  },
  {
   "cell_type": "code",
   "execution_count": null,
   "id": "47585732",
   "metadata": {},
   "outputs": [],
   "source": [
    "#MAP"
   ]
  },
  {
   "cell_type": "code",
   "execution_count": 352,
   "id": "a3939f5f",
   "metadata": {},
   "outputs": [],
   "source": [
    "l = [2,3,2,4,2]\n",
    "l1 = []\n",
    "for i in l:\n",
    "    l1.append(i+10)"
   ]
  },
  {
   "cell_type": "code",
   "execution_count": 353,
   "id": "71da09f7",
   "metadata": {},
   "outputs": [
    {
     "data": {
      "text/plain": [
       "[12, 13, 12, 14, 12]"
      ]
     },
     "execution_count": 353,
     "metadata": {},
     "output_type": "execute_result"
    }
   ],
   "source": [
    "l1   # But map will do with simple"
   ]
  },
  {
   "cell_type": "code",
   "execution_count": 361,
   "id": "90023a17",
   "metadata": {},
   "outputs": [],
   "source": [
    "l = [1,2,3,4,5,6]"
   ]
  },
  {
   "cell_type": "code",
   "execution_count": 355,
   "id": "db0f047d",
   "metadata": {},
   "outputs": [],
   "source": [
    "def test14(fun):   # external\n",
    "    return fun + 10"
   ]
  },
  {
   "cell_type": "code",
   "execution_count": 357,
   "id": "ec4ac8cc",
   "metadata": {},
   "outputs": [
    {
     "data": {
      "text/plain": [
       "[11, 12, 13, 14, 15, 16]"
      ]
     },
     "execution_count": 357,
     "metadata": {},
     "output_type": "execute_result"
    }
   ],
   "source": [
    "list(map(test14,l))   # Commonly formed by map is map is mainly allocating function and itterables which will map one by one elements with functions"
   ]
  },
  {
   "cell_type": "code",
   "execution_count": 358,
   "id": "2b3e29ad",
   "metadata": {},
   "outputs": [
    {
     "data": {
      "text/plain": [
       "<map at 0x2a8a414a100>"
      ]
     },
     "execution_count": 358,
     "metadata": {},
     "output_type": "execute_result"
    }
   ],
   "source": [
    "map(test14,l)  # Octadecimal id"
   ]
  },
  {
   "cell_type": "code",
   "execution_count": 365,
   "id": "d05219f9",
   "metadata": {},
   "outputs": [],
   "source": [
    "l = [1,2,3,4,5,6,7]"
   ]
  },
  {
   "cell_type": "code",
   "execution_count": 372,
   "id": "7edbbe32",
   "metadata": {},
   "outputs": [
    {
     "data": {
      "text/plain": [
       "[11, 12, 13, 14, 15, 16, 17]"
      ]
     },
     "execution_count": 372,
     "metadata": {},
     "output_type": "execute_result"
    }
   ],
   "source": [
    "list(map(lambda l : l+ 10 , l ) )# l:l+10 function     l = itterable"
   ]
  },
  {
   "cell_type": "code",
   "execution_count": 375,
   "id": "7a9b94a4",
   "metadata": {},
   "outputs": [
    {
     "data": {
      "text/plain": [
       "[21, 22, 23, 24, 25, 26, 27]"
      ]
     },
     "execution_count": 375,
     "metadata": {},
     "output_type": "execute_result"
    }
   ],
   "source": [
    "list(map(lambda l: l+20,l))"
   ]
  },
  {
   "cell_type": "code",
   "execution_count": 381,
   "id": "20cc49ce",
   "metadata": {},
   "outputs": [],
   "source": [
    "a = lambda l : l + 10"
   ]
  },
  {
   "cell_type": "code",
   "execution_count": 382,
   "id": "7476c138",
   "metadata": {},
   "outputs": [
    {
     "data": {
      "text/plain": [
       "[11, 12, 13, 14, 15, 16, 17]"
      ]
     },
     "execution_count": 382,
     "metadata": {},
     "output_type": "execute_result"
    }
   ],
   "source": [
    "list(map(a,l))"
   ]
  },
  {
   "cell_type": "code",
   "execution_count": 384,
   "id": "43329814",
   "metadata": {},
   "outputs": [],
   "source": [
    "a = lambda l : l+10   # one to one mapping"
   ]
  },
  {
   "cell_type": "code",
   "execution_count": 386,
   "id": "a9959a09",
   "metadata": {},
   "outputs": [
    {
     "data": {
      "text/plain": [
       "[11, 12, 13, 14, 15, 16, 17]"
      ]
     },
     "execution_count": 386,
     "metadata": {},
     "output_type": "execute_result"
    }
   ],
   "source": [
    "list(map(a,l))"
   ]
  },
  {
   "cell_type": "code",
   "execution_count": 387,
   "id": "7469ee4b",
   "metadata": {},
   "outputs": [],
   "source": [
    "l = [\"sanju\",\"gowda\",\"datascience\"]"
   ]
  },
  {
   "cell_type": "code",
   "execution_count": 392,
   "id": "20d6fe5f",
   "metadata": {},
   "outputs": [],
   "source": [
    "a = lambda l : l.upper()"
   ]
  },
  {
   "cell_type": "code",
   "execution_count": 393,
   "id": "9c166b47",
   "metadata": {},
   "outputs": [
    {
     "data": {
      "text/plain": [
       "['SANJU', 'GOWDA', 'DATASCIENCE']"
      ]
     },
     "execution_count": 393,
     "metadata": {},
     "output_type": "execute_result"
    }
   ],
   "source": [
    "list(map(a,l))"
   ]
  },
  {
   "cell_type": "code",
   "execution_count": 394,
   "id": "f353a2a9",
   "metadata": {},
   "outputs": [],
   "source": [
    "a = lambda l: l.lower()"
   ]
  },
  {
   "cell_type": "code",
   "execution_count": 396,
   "id": "4aa4a1e9",
   "metadata": {},
   "outputs": [
    {
     "data": {
      "text/plain": [
       "['sanju', 'gowda', 'datascience']"
      ]
     },
     "execution_count": 396,
     "metadata": {},
     "output_type": "execute_result"
    }
   ],
   "source": [
    "list(map(a,l))"
   ]
  },
  {
   "cell_type": "code",
   "execution_count": 397,
   "id": "df032092",
   "metadata": {},
   "outputs": [],
   "source": [
    "a = lambda l:l.title()"
   ]
  },
  {
   "cell_type": "code",
   "execution_count": 398,
   "id": "2009729a",
   "metadata": {},
   "outputs": [
    {
     "data": {
      "text/plain": [
       "['Sanju', 'Gowda', 'Datascience']"
      ]
     },
     "execution_count": 398,
     "metadata": {},
     "output_type": "execute_result"
    }
   ],
   "source": [
    "list(map(a,l))"
   ]
  },
  {
   "cell_type": "code",
   "execution_count": 399,
   "id": "4e935fcc",
   "metadata": {},
   "outputs": [
    {
     "data": {
      "text/plain": [
       "['sanju', 'gowda', 'datascience']"
      ]
     },
     "execution_count": 399,
     "metadata": {},
     "output_type": "execute_result"
    }
   ],
   "source": [
    "l"
   ]
  },
  {
   "cell_type": "code",
   "execution_count": 400,
   "id": "f880dc8e",
   "metadata": {},
   "outputs": [],
   "source": [
    "a = lambda l : len(l)"
   ]
  },
  {
   "cell_type": "code",
   "execution_count": 402,
   "id": "934cefa6",
   "metadata": {},
   "outputs": [
    {
     "data": {
      "text/plain": [
       "[5, 5, 11]"
      ]
     },
     "execution_count": 402,
     "metadata": {},
     "output_type": "execute_result"
    }
   ],
   "source": [
    "list(map(a,l))"
   ]
  },
  {
   "cell_type": "code",
   "execution_count": 403,
   "id": "2522d56d",
   "metadata": {},
   "outputs": [
    {
     "data": {
      "text/plain": [
       "['sanju', 'gowda', 'datascience']"
      ]
     },
     "execution_count": 403,
     "metadata": {},
     "output_type": "execute_result"
    }
   ],
   "source": [
    "l"
   ]
  },
  {
   "cell_type": "code",
   "execution_count": 405,
   "id": "e027234f",
   "metadata": {},
   "outputs": [],
   "source": [
    "def test(l):\n",
    "    return len(l)"
   ]
  },
  {
   "cell_type": "code",
   "execution_count": 406,
   "id": "871f72ba",
   "metadata": {},
   "outputs": [
    {
     "data": {
      "text/plain": [
       "[5, 5, 11]"
      ]
     },
     "execution_count": 406,
     "metadata": {},
     "output_type": "execute_result"
    }
   ],
   "source": [
    "list(map(test,l))"
   ]
  },
  {
   "cell_type": "code",
   "execution_count": 407,
   "id": "d668d4cc",
   "metadata": {},
   "outputs": [],
   "source": [
    "# filter or extract\n",
    "l = [1,2,3,4,5,6,7,8]\n",
    "l1 = []\n",
    "for i in l:\n",
    "    if i % 2 == 0:\n",
    "        l1.append(i)"
   ]
  },
  {
   "cell_type": "code",
   "execution_count": 408,
   "id": "2dc0ae76",
   "metadata": {},
   "outputs": [
    {
     "data": {
      "text/plain": [
       "[2, 4, 6, 8]"
      ]
     },
     "execution_count": 408,
     "metadata": {},
     "output_type": "execute_result"
    }
   ],
   "source": [
    "l1"
   ]
  },
  {
   "cell_type": "code",
   "execution_count": 410,
   "id": "ccc42242",
   "metadata": {},
   "outputs": [
    {
     "data": {
      "text/plain": [
       "[2, 4, 6, 8]"
      ]
     },
     "execution_count": 410,
     "metadata": {},
     "output_type": "execute_result"
    }
   ],
   "source": [
    "[i for i in l if i % 2 == 0]  # list comprehension"
   ]
  },
  {
   "cell_type": "code",
   "execution_count": 412,
   "id": "83f1d717",
   "metadata": {},
   "outputs": [],
   "source": [
    "a = lambda l : l % 2 == 0"
   ]
  },
  {
   "cell_type": "code",
   "execution_count": 414,
   "id": "9187250f",
   "metadata": {},
   "outputs": [
    {
     "data": {
      "text/plain": [
       "[2, 4, 6, 8]"
      ]
     },
     "execution_count": 414,
     "metadata": {},
     "output_type": "execute_result"
    }
   ],
   "source": [
    "list(filter(a,l))   # instead of map we can replace filter"
   ]
  },
  {
   "cell_type": "code",
   "execution_count": 416,
   "id": "2b33f9bb",
   "metadata": {},
   "outputs": [
    {
     "data": {
      "text/plain": [
       "[False, True, False, True, False, True, False, True]"
      ]
     },
     "execution_count": 416,
     "metadata": {},
     "output_type": "execute_result"
    }
   ],
   "source": [
    "list(map(a,l))"
   ]
  },
  {
   "cell_type": "code",
   "execution_count": 417,
   "id": "cf87fb20",
   "metadata": {},
   "outputs": [],
   "source": [
    "l = [1,2,3,5,56,7,87,6,7]\n"
   ]
  },
  {
   "cell_type": "code",
   "execution_count": 418,
   "id": "41dc4aeb",
   "metadata": {},
   "outputs": [],
   "source": [
    "a = lambda l : l % 2 != 0"
   ]
  },
  {
   "cell_type": "code",
   "execution_count": 421,
   "id": "d8976b06",
   "metadata": {
    "scrolled": true
   },
   "outputs": [
    {
     "data": {
      "text/plain": [
       "(1, 3, 5, 7, 87, 7)"
      ]
     },
     "execution_count": 421,
     "metadata": {},
     "output_type": "execute_result"
    }
   ],
   "source": [
    "tuple(filter(a,l))"
   ]
  },
  {
   "cell_type": "code",
   "execution_count": 422,
   "id": "d7122451",
   "metadata": {},
   "outputs": [],
   "source": [
    "l = [3,5,3,56,3,4]"
   ]
  },
  {
   "cell_type": "code",
   "execution_count": 423,
   "id": "9f7928f2",
   "metadata": {},
   "outputs": [
    {
     "data": {
      "text/plain": [
       "74"
      ]
     },
     "execution_count": 423,
     "metadata": {},
     "output_type": "execute_result"
    }
   ],
   "source": [
    "sum(l)"
   ]
  },
  {
   "cell_type": "code",
   "execution_count": 428,
   "id": "9d191f6c",
   "metadata": {},
   "outputs": [],
   "source": [
    "# REDUCE - reduces to give particular operation\n",
    "l = [1,2,4,5,6,5,6,7]   # multiplication\n",
    "k = lambda a,b : a*b\n"
   ]
  },
  {
   "cell_type": "code",
   "execution_count": 430,
   "id": "b2fc923c",
   "metadata": {},
   "outputs": [],
   "source": [
    "from functools import reduce"
   ]
  },
  {
   "cell_type": "code",
   "execution_count": 432,
   "id": "f2fe55d7",
   "metadata": {},
   "outputs": [
    {
     "data": {
      "text/plain": [
       "50400"
      ]
     },
     "execution_count": 432,
     "metadata": {},
     "output_type": "execute_result"
    }
   ],
   "source": [
    "int(reduce(k,l))"
   ]
  },
  {
   "cell_type": "code",
   "execution_count": 434,
   "id": "6f035a5b",
   "metadata": {},
   "outputs": [],
   "source": [
    "m = lambda a,b : a+b"
   ]
  },
  {
   "cell_type": "code",
   "execution_count": 435,
   "id": "f557db5e",
   "metadata": {},
   "outputs": [
    {
     "data": {
      "text/plain": [
       "36"
      ]
     },
     "execution_count": 435,
     "metadata": {},
     "output_type": "execute_result"
    }
   ],
   "source": [
    "reduce(m,l)"
   ]
  },
  {
   "cell_type": "code",
   "execution_count": 442,
   "id": "7f005407",
   "metadata": {},
   "outputs": [],
   "source": [
    "n = lambda a,b,c : a*b*c  #missing 1 required positional argument: 'c'\n"
   ]
  },
  {
   "cell_type": "code",
   "execution_count": 443,
   "id": "cd14f223",
   "metadata": {},
   "outputs": [
    {
     "ename": "TypeError",
     "evalue": "<lambda>() missing 1 required positional argument: 'c'",
     "output_type": "error",
     "traceback": [
      "\u001b[1;31m---------------------------------------------------------------------------\u001b[0m",
      "\u001b[1;31mTypeError\u001b[0m                                 Traceback (most recent call last)",
      "\u001b[1;32m~\\AppData\\Local\\Temp\\ipykernel_17876\\2889980260.py\u001b[0m in \u001b[0;36m<module>\u001b[1;34m\u001b[0m\n\u001b[1;32m----> 1\u001b[1;33m \u001b[0mint\u001b[0m\u001b[1;33m(\u001b[0m\u001b[0mreduce\u001b[0m\u001b[1;33m(\u001b[0m\u001b[0mn\u001b[0m\u001b[1;33m,\u001b[0m\u001b[0ml\u001b[0m\u001b[1;33m)\u001b[0m\u001b[1;33m)\u001b[0m\u001b[1;33m\u001b[0m\u001b[1;33m\u001b[0m\u001b[0m\n\u001b[0m",
      "\u001b[1;31mTypeError\u001b[0m: <lambda>() missing 1 required positional argument: 'c'"
     ]
    }
   ],
   "source": [
    "int(reduce(n,l))"
   ]
  },
  {
   "cell_type": "code",
   "execution_count": 444,
   "id": "402f472c",
   "metadata": {},
   "outputs": [],
   "source": [
    "n = lambda a,b,c : a+b+c   # ONLY TWO ARGUMENTS should taken"
   ]
  },
  {
   "cell_type": "code",
   "execution_count": 445,
   "id": "6c96ca89",
   "metadata": {},
   "outputs": [
    {
     "ename": "TypeError",
     "evalue": "<lambda>() missing 1 required positional argument: 'c'",
     "output_type": "error",
     "traceback": [
      "\u001b[1;31m---------------------------------------------------------------------------\u001b[0m",
      "\u001b[1;31mTypeError\u001b[0m                                 Traceback (most recent call last)",
      "\u001b[1;32m~\\AppData\\Local\\Temp\\ipykernel_17876\\3635209111.py\u001b[0m in \u001b[0;36m<module>\u001b[1;34m\u001b[0m\n\u001b[1;32m----> 1\u001b[1;33m \u001b[0mreduce\u001b[0m\u001b[1;33m(\u001b[0m\u001b[0mn\u001b[0m\u001b[1;33m,\u001b[0m\u001b[0ml\u001b[0m\u001b[1;33m)\u001b[0m\u001b[1;33m\u001b[0m\u001b[1;33m\u001b[0m\u001b[0m\n\u001b[0m",
      "\u001b[1;31mTypeError\u001b[0m: <lambda>() missing 1 required positional argument: 'c'"
     ]
    }
   ],
   "source": [
    "reduce(n,l)"
   ]
  },
  {
   "cell_type": "code",
   "execution_count": 447,
   "id": "30acd6b4",
   "metadata": {},
   "outputs": [],
   "source": [
    "l = [3]\n",
    "r = lambda a,b : a*b"
   ]
  },
  {
   "cell_type": "code",
   "execution_count": 448,
   "id": "0dd8c165",
   "metadata": {},
   "outputs": [
    {
     "data": {
      "text/plain": [
       "3"
      ]
     },
     "execution_count": 448,
     "metadata": {},
     "output_type": "execute_result"
    }
   ],
   "source": [
    "reduce(r,l)"
   ]
  },
  {
   "cell_type": "code",
   "execution_count": 449,
   "id": "a0a65db1",
   "metadata": {},
   "outputs": [],
   "source": [
    "l = [5]"
   ]
  },
  {
   "cell_type": "code",
   "execution_count": 450,
   "id": "e117a334",
   "metadata": {},
   "outputs": [],
   "source": [
    "m = lambda a,b : a+b"
   ]
  },
  {
   "cell_type": "code",
   "execution_count": 451,
   "id": "1dd28904",
   "metadata": {},
   "outputs": [
    {
     "data": {
      "text/plain": [
       "5"
      ]
     },
     "execution_count": 451,
     "metadata": {},
     "output_type": "execute_result"
    }
   ],
   "source": [
    "reduce(m,l)"
   ]
  },
  {
   "cell_type": "code",
   "execution_count": 456,
   "id": "4f177a5f",
   "metadata": {},
   "outputs": [],
   "source": [
    "def test(a,b) -> int:     # SHIFT TAB FOR SEEING SIGNATURE AND DOCSTRING\n",
    "    \"\"\" By using this function we are adding\"\"\"\n",
    "    print(a+b)"
   ]
  },
  {
   "cell_type": "code",
   "execution_count": 457,
   "id": "a00f9e33",
   "metadata": {},
   "outputs": [
    {
     "name": "stdout",
     "output_type": "stream",
     "text": [
      "11\n"
     ]
    }
   ],
   "source": [
    "test(3,8)  # -> THIS IS HINT TO WE NEED TO INPUT ONLY INT"
   ]
  },
  {
   "cell_type": "code",
   "execution_count": 467,
   "id": "5d03ba48",
   "metadata": {},
   "outputs": [],
   "source": [
    "def test(a : int,b: \"func\",c:int =90) -> int:     # SHIFT TAB FOR SEEING SIGNATURE AND DOCSTRING\n",
    "    \"\"\" By using this function we are adding\"\"\"\n",
    "    print(a+b+str(c))"
   ]
  },
  {
   "cell_type": "code",
   "execution_count": 466,
   "id": "6d4adcfa",
   "metadata": {},
   "outputs": [
    {
     "name": "stdout",
     "output_type": "stream",
     "text": [
      "sudhooo90\n"
     ]
    }
   ],
   "source": [
    "test(\"sudh\",\"ooo\")  # its only indication to hint to pass integer strictly to next users but it will not giving approximate result"
   ]
  },
  {
   "cell_type": "code",
   "execution_count": null,
   "id": "b330c5da",
   "metadata": {},
   "outputs": [],
   "source": []
  }
 ],
 "metadata": {
  "kernelspec": {
   "display_name": "Python 3 (ipykernel)",
   "language": "python",
   "name": "python3"
  },
  "language_info": {
   "codemirror_mode": {
    "name": "ipython",
    "version": 3
   },
   "file_extension": ".py",
   "mimetype": "text/x-python",
   "name": "python",
   "nbconvert_exporter": "python",
   "pygments_lexer": "ipython3",
   "version": "3.9.13"
  }
 },
 "nbformat": 4,
 "nbformat_minor": 5
}
