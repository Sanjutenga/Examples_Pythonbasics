{
  "nbformat": 4,
  "nbformat_minor": 0,
  "metadata": {
    "colab": {
      "provenance": [],
      "collapsed_sections": []
    },
    "kernelspec": {
      "name": "python3",
      "display_name": "Python 3"
    },
    "language_info": {
      "name": "python"
    }
  },
  "cells": [
    {
      "cell_type": "markdown",
      "source": [
        "# if elif else\n",
        "\n",
        "- if you order more than Rs.499\n",
        "  * discount = 20%\n",
        "- if you order more than Rs.999\n",
        "  * List item = 30%\n",
        "- if you order more than Rs.1499\n",
        "  * List item = 40%\n",
        "\n",
        "\n"
      ],
      "metadata": {
        "id": "PRjqU0EoMOT2"
      }
    },
    {
      "cell_type": "code",
      "source": [
        "total =  90+100+100+1000 +600 +1000\n",
        "\n",
        "\n",
        "\n",
        "print(f\"{total}\")\n",
        "if total > 1499:\n",
        "  pricediscount = total*60/100\n",
        "  print(f\"pay_amount1: {pricediscount}\")\n",
        "elif total>999 and total<=1499:\n",
        "  pricediscount = total*70/100\n",
        "  print(f\"pay_amount2: {pricediscount}\")\n",
        "elif total>499 and total<=999:\n",
        "  pricediscount =total*80/100\n",
        "  print(f\"pay_amount3: {pricediscount}\")\n",
        "\n",
        "else:\n",
        "  print(f\"pay_amount: {total}\")\n"
      ],
      "metadata": {
        "id": "0_a8ssevMRSu",
        "colab": {
          "base_uri": "https://localhost:8080/"
        },
        "outputId": "a85fbdfa-7347-45b8-d04f-210626bdbb45"
      },
      "execution_count": null,
      "outputs": [
        {
          "output_type": "stream",
          "name": "stdout",
          "text": [
            "2890\n",
            "pay_amount1: 1734.0\n",
            "pay_amount: 2890\n"
          ]
        }
      ]
    },
    {
      "cell_type": "markdown",
      "source": [
        "# Nested if else"
      ],
      "metadata": {
        "id": "5QfvSro4GRQl"
      }
    },
    {
      "cell_type": "code",
      "source": [
        "a = int(input(\"enter the number: \"))\n",
        "if a >= 0:\n",
        "  if a == 0:\\\n",
        "   print(\"Its zero\")\n",
        "  else:\n",
        "       print(\"Its positive number\")\n",
        "else:\n",
        "   print(\"Its negative number\")\n"
      ],
      "metadata": {
        "colab": {
          "base_uri": "https://localhost:8080/"
        },
        "id": "pBp4MbPiGsix",
        "outputId": "b7e43d48-35d9-4730-e6ea-d2b85b26ff0e"
      },
      "execution_count": null,
      "outputs": [
        {
          "output_type": "stream",
          "name": "stdout",
          "text": [
            "enter the number: -8\n",
            "Its negative number\n"
          ]
        }
      ]
    },
    {
      "cell_type": "markdown",
      "source": [
        "# Single line if else\n",
        "2.   print \"Yes\" for number greater than 99\n",
        "\n"
      ],
      "metadata": {
        "id": "2ggJv_QqIwkW"
      }
    },
    {
      "cell_type": "code",
      "source": [
        "a = int(input(\"Enter the number: \"))\n",
        "\n",
        "if a>=99: print(\"YES\")\n",
        "else: print(\"No\")"
      ],
      "metadata": {
        "colab": {
          "base_uri": "https://localhost:8080/"
        },
        "id": "1HTYVTW-I1un",
        "outputId": "10968602-2088-43d3-bb00-9230b0b689fd"
      },
      "execution_count": null,
      "outputs": [
        {
          "output_type": "stream",
          "name": "stdout",
          "text": [
            "Enter the number: 500\n",
            "YES\n"
          ]
        }
      ]
    },
    {
      "cell_type": "markdown",
      "source": [
        "# LOOPS"
      ],
      "metadata": {
        "id": "fdNDNZIfKYJ_"
      }
    },
    {
      "cell_type": "markdown",
      "source": [
        "# While loop"
      ],
      "metadata": {
        "id": "XHdt96UlOSlM"
      }
    },
    {
      "cell_type": "code",
      "source": [
        "total = 1000\n",
        "cutoff = 400\n",
        "score = [100,200,300,400,500]  # index = 0 1 2 3 4 5\n",
        "\n",
        "year = 0\n",
        "while score[year] < cutoff:\n",
        "  print(f\"Your score: {score[year]}\")\n",
        "  print(\"I will pass next year\")\n",
        "  year = year+1"
      ],
      "metadata": {
        "colab": {
          "base_uri": "https://localhost:8080/"
        },
        "id": "WDdNCLvFOVF5",
        "outputId": "e238b869-2282-41b5-895b-ee31ec98cdf9"
      },
      "execution_count": null,
      "outputs": [
        {
          "output_type": "stream",
          "name": "stdout",
          "text": [
            "Your score: 100\n",
            "I will pass next year\n",
            "Your score: 200\n",
            "I will pass next year\n",
            "Your score: 300\n",
            "I will pass next year\n"
          ]
        }
      ]
    },
    {
      "cell_type": "code",
      "source": [
        "while True:        # INFINITE LOOP\n",
        " print(\"YES\")"
      ],
      "metadata": {
        "colab": {
          "base_uri": "https://localhost:8080/",
          "height": 134
        },
        "id": "VTtdeH9zQN2k",
        "outputId": "e840853e-be5e-444e-a9d6-4346e0d392d7"
      },
      "execution_count": null,
      "outputs": [
        {
          "output_type": "error",
          "ename": "SyntaxError",
          "evalue": "ignored",
          "traceback": [
            "\u001b[0;36m  File \u001b[0;32m\"<ipython-input-62-95bc7fc26a3e>\"\u001b[0;36m, line \u001b[0;32m2\u001b[0m\n\u001b[0;31m    # print(\"YES\")\u001b[0m\n\u001b[0m                  ^\u001b[0m\n\u001b[0;31mSyntaxError\u001b[0m\u001b[0;31m:\u001b[0m unexpected EOF while parsing\n"
          ]
        }
      ]
    },
    {
      "cell_type": "code",
      "source": [
        "# child is learning to count 10 rupess of note\n",
        "\n",
        "notes = 10\n",
        "i =1\n",
        "\n",
        "while i <= notes:\n",
        "  print(f\"the value\",{i <= notes})\n",
        "  print(f\"currnet sum: {i*10}\")\n",
        "  i = i + 1\n",
        "  print(\"-=----\")\n",
        "else:\n",
        "  print(f\"the value\",{i <= notes})"
      ],
      "metadata": {
        "colab": {
          "base_uri": "https://localhost:8080/"
        },
        "id": "Cy3VRrQpTwai",
        "outputId": "e713d972-3a3d-4991-c7c5-4808dfb7e822"
      },
      "execution_count": null,
      "outputs": [
        {
          "output_type": "stream",
          "name": "stdout",
          "text": [
            "the value {True}\n",
            "currnet sum: 10\n",
            "-=----\n",
            "the value {True}\n",
            "currnet sum: 20\n",
            "-=----\n",
            "the value {True}\n",
            "currnet sum: 30\n",
            "-=----\n",
            "the value {True}\n",
            "currnet sum: 40\n",
            "-=----\n",
            "the value {True}\n",
            "currnet sum: 50\n",
            "-=----\n",
            "the value {True}\n",
            "currnet sum: 60\n",
            "-=----\n",
            "the value {True}\n",
            "currnet sum: 70\n",
            "-=----\n",
            "the value {True}\n",
            "currnet sum: 80\n",
            "-=----\n",
            "the value {True}\n",
            "currnet sum: 90\n",
            "-=----\n",
            "the value {True}\n",
            "currnet sum: 100\n",
            "-=----\n",
            "the value {False}\n"
          ]
        }
      ]
    },
    {
      "cell_type": "markdown",
      "source": [
        "# for loop"
      ],
      "metadata": {
        "id": "TwI-CSOWs28v"
      }
    },
    {
      "cell_type": "code",
      "source": [
        "for i in range(0,10):\n",
        "  print(i)"
      ],
      "metadata": {
        "colab": {
          "base_uri": "https://localhost:8080/"
        },
        "id": "1ZXr6oMEs4EE",
        "outputId": "74925e1c-f845-40aa-fba0-d52dba17b57e"
      },
      "execution_count": null,
      "outputs": [
        {
          "output_type": "stream",
          "name": "stdout",
          "text": [
            "0\n",
            "1\n",
            "2\n",
            "3\n",
            "4\n",
            "5\n",
            "6\n",
            "7\n",
            "8\n",
            "9\n"
          ]
        }
      ]
    },
    {
      "cell_type": "code",
      "source": [
        "for i in range(0,10):\n",
        "  print(f\"10 * {i} = {10*(i)}\")"
      ],
      "metadata": {
        "colab": {
          "base_uri": "https://localhost:8080/"
        },
        "id": "rh7fu8XYs8ND",
        "outputId": "2602ed4e-9e6d-48ea-b254-bee465a0bf67"
      },
      "execution_count": null,
      "outputs": [
        {
          "output_type": "stream",
          "name": "stdout",
          "text": [
            "10 * 0 = 0\n",
            "10 * 1 = 10\n",
            "10 * 2 = 20\n",
            "10 * 3 = 30\n",
            "10 * 4 = 40\n",
            "10 * 5 = 50\n",
            "10 * 6 = 60\n",
            "10 * 7 = 70\n",
            "10 * 8 = 80\n",
            "10 * 9 = 90\n"
          ]
        }
      ]
    },
    {
      "cell_type": "code",
      "source": [
        "for i in range(0,10):\n",
        "  print(f\"10 * {i + 1} = {10*(i+1)}\")"
      ],
      "metadata": {
        "colab": {
          "base_uri": "https://localhost:8080/"
        },
        "id": "SQ7lVjPFtSnT",
        "outputId": "edb232d8-2338-4d55-a0fd-2a6e498902a7"
      },
      "execution_count": null,
      "outputs": [
        {
          "output_type": "stream",
          "name": "stdout",
          "text": [
            "10 * 1 = 10\n",
            "10 * 2 = 20\n",
            "10 * 3 = 30\n",
            "10 * 4 = 40\n",
            "10 * 5 = 50\n",
            "10 * 6 = 60\n",
            "10 * 7 = 70\n",
            "10 * 8 = 80\n",
            "10 * 9 = 90\n",
            "10 * 10 = 100\n"
          ]
        }
      ]
    },
    {
      "cell_type": "code",
      "source": [
        "n = 5\n",
        "for i in range(0,n):\n",
        "  for j in range(0, i+1):\n",
        "    print(\"*\", end=\"\")\n",
        "  print(\"\\n\")"
      ],
      "metadata": {
        "colab": {
          "base_uri": "https://localhost:8080/"
        },
        "id": "sNi7mCORuKxx",
        "outputId": "e2a11d7a-343d-4b33-b872-f2eee02b8ae2"
      },
      "execution_count": null,
      "outputs": [
        {
          "output_type": "stream",
          "name": "stdout",
          "text": [
            "*\n",
            "\n",
            "**\n",
            "\n",
            "***\n",
            "\n",
            "****\n",
            "\n",
            "*****\n",
            "\n"
          ]
        }
      ]
    },
    {
      "cell_type": "code",
      "source": [
        "n = 10\n",
        "for i in range(0,n):\n",
        "  for i in range(0, i+1):\n",
        "    print(\"*\", end =\"\")\n",
        "  print(\"\\r\")"
      ],
      "metadata": {
        "colab": {
          "base_uri": "https://localhost:8080/"
        },
        "id": "k_XEd64H2QSC",
        "outputId": "19a4f394-b780-4042-ff8b-3b01de1d0b0c"
      },
      "execution_count": null,
      "outputs": [
        {
          "output_type": "stream",
          "name": "stdout",
          "text": [
            "*\r\n",
            "**\r\n",
            "***\r\n",
            "****\r\n",
            "*****\r\n",
            "******\r\n",
            "*******\r\n",
            "********\r\n",
            "*********\r\n",
            "**********\r\n"
          ]
        }
      ]
    },
    {
      "cell_type": "code",
      "source": [
        "for i in range(8,99):\n",
        "  print(\"*\"*i)"
      ],
      "metadata": {
        "colab": {
          "base_uri": "https://localhost:8080/"
        },
        "id": "xm-VIVQk2u9M",
        "outputId": "be1d4fb3-c704-4884-986b-7fcb6606724f"
      },
      "execution_count": null,
      "outputs": [
        {
          "output_type": "stream",
          "name": "stdout",
          "text": [
            "********\n",
            "*********\n",
            "**********\n",
            "***********\n",
            "************\n",
            "*************\n",
            "**************\n",
            "***************\n",
            "****************\n",
            "*****************\n",
            "******************\n",
            "*******************\n",
            "********************\n",
            "*********************\n",
            "**********************\n",
            "***********************\n",
            "************************\n",
            "*************************\n",
            "**************************\n",
            "***************************\n",
            "****************************\n",
            "*****************************\n",
            "******************************\n",
            "*******************************\n",
            "********************************\n",
            "*********************************\n",
            "**********************************\n",
            "***********************************\n",
            "************************************\n",
            "*************************************\n",
            "**************************************\n",
            "***************************************\n",
            "****************************************\n",
            "*****************************************\n",
            "******************************************\n",
            "*******************************************\n",
            "********************************************\n",
            "*********************************************\n",
            "**********************************************\n",
            "***********************************************\n",
            "************************************************\n",
            "*************************************************\n",
            "**************************************************\n",
            "***************************************************\n",
            "****************************************************\n",
            "*****************************************************\n",
            "******************************************************\n",
            "*******************************************************\n",
            "********************************************************\n",
            "*********************************************************\n",
            "**********************************************************\n",
            "***********************************************************\n",
            "************************************************************\n",
            "*************************************************************\n",
            "**************************************************************\n",
            "***************************************************************\n",
            "****************************************************************\n",
            "*****************************************************************\n",
            "******************************************************************\n",
            "*******************************************************************\n",
            "********************************************************************\n",
            "*********************************************************************\n",
            "**********************************************************************\n",
            "***********************************************************************\n",
            "************************************************************************\n",
            "*************************************************************************\n",
            "**************************************************************************\n",
            "***************************************************************************\n",
            "****************************************************************************\n",
            "*****************************************************************************\n",
            "******************************************************************************\n",
            "*******************************************************************************\n",
            "********************************************************************************\n",
            "*********************************************************************************\n",
            "**********************************************************************************\n",
            "***********************************************************************************\n",
            "************************************************************************************\n",
            "*************************************************************************************\n",
            "**************************************************************************************\n",
            "***************************************************************************************\n",
            "****************************************************************************************\n",
            "*****************************************************************************************\n",
            "******************************************************************************************\n",
            "*******************************************************************************************\n",
            "********************************************************************************************\n",
            "*********************************************************************************************\n",
            "**********************************************************************************************\n",
            "***********************************************************************************************\n",
            "************************************************************************************************\n",
            "*************************************************************************************************\n",
            "**************************************************************************************************\n"
          ]
        }
      ]
    },
    {
      "cell_type": "code",
      "source": [
        "for i in range(0,5):\n",
        "  print(\"*\"*5)"
      ],
      "metadata": {
        "colab": {
          "base_uri": "https://localhost:8080/"
        },
        "id": "vp_iLUGp3BEB",
        "outputId": "b4402206-608a-4746-d3ec-3d7e0c20c549"
      },
      "execution_count": null,
      "outputs": [
        {
          "output_type": "stream",
          "name": "stdout",
          "text": [
            "*****\n",
            "*****\n",
            "*****\n",
            "*****\n",
            "*****\n"
          ]
        }
      ]
    },
    {
      "cell_type": "code",
      "source": [
        "for i in range(7,20):\n",
        "  print(\"*\"*i)"
      ],
      "metadata": {
        "colab": {
          "base_uri": "https://localhost:8080/"
        },
        "id": "Jj02e_mw3Gzn",
        "outputId": "4856b72a-b58f-485c-a2c9-42a74e3618df"
      },
      "execution_count": null,
      "outputs": [
        {
          "output_type": "stream",
          "name": "stdout",
          "text": [
            "*******\n",
            "********\n",
            "*********\n",
            "**********\n",
            "***********\n",
            "************\n",
            "*************\n",
            "**************\n",
            "***************\n",
            "****************\n",
            "*****************\n",
            "******************\n",
            "*******************\n"
          ]
        }
      ]
    },
    {
      "cell_type": "code",
      "source": [
        "\"sanju\"*8"
      ],
      "metadata": {
        "colab": {
          "base_uri": "https://localhost:8080/",
          "height": 36
        },
        "id": "h5T1G8Nc3Q3R",
        "outputId": "fcd12a1a-b4c5-4120-d1e1-d14902aea68c"
      },
      "execution_count": null,
      "outputs": [
        {
          "output_type": "execute_result",
          "data": {
            "text/plain": [
              "'sanjusanjusanjusanjusanjusanjusanjusanju'"
            ],
            "application/vnd.google.colaboratory.intrinsic+json": {
              "type": "string"
            }
          },
          "metadata": {},
          "execution_count": 29
        }
      ]
    },
    {
      "cell_type": "code",
      "source": [
        "cost = [68,4,544,554,55]\n",
        "total = 0\n",
        "\n",
        "for i in range(0,4):\n",
        "  total = total + cost[i]\n",
        "  print(f\" total: {total}\")"
      ],
      "metadata": {
        "colab": {
          "base_uri": "https://localhost:8080/"
        },
        "id": "vu0aYlho3Znq",
        "outputId": "3f5e4a02-c6c6-4f89-dfc9-5d69321474d3"
      },
      "execution_count": null,
      "outputs": [
        {
          "output_type": "stream",
          "name": "stdout",
          "text": [
            " total: 68\n",
            " total: 72\n",
            " total: 616\n",
            " total: 1170\n"
          ]
        }
      ]
    },
    {
      "cell_type": "code",
      "source": [
        "l = [45,5,4,5,45,5,5]\n",
        "for i in range(len(l)):\n",
        "  print(\"index\",i,l[i])"
      ],
      "metadata": {
        "colab": {
          "base_uri": "https://localhost:8080/"
        },
        "id": "ZFzZEwNw52bE",
        "outputId": "60cfbc3d-1119-4f99-e710-e03cff5b2151"
      },
      "execution_count": null,
      "outputs": [
        {
          "output_type": "stream",
          "name": "stdout",
          "text": [
            "index 0 45\n",
            "index 1 5\n",
            "index 2 4\n",
            "index 3 5\n",
            "index 4 45\n",
            "index 5 5\n",
            "index 6 5\n"
          ]
        }
      ]
    },
    {
      "cell_type": "code",
      "source": [
        "for i in range(0,100):\n",
        "  if i > 50:\n",
        "    print(i)\n",
        "    break\n",
        "  \n",
        "  "
      ],
      "metadata": {
        "colab": {
          "base_uri": "https://localhost:8080/"
        },
        "id": "QSf6ow-i7O_H",
        "outputId": "05198fe5-ddc8-4bcf-a78c-2c9e7206bc9c"
      },
      "execution_count": null,
      "outputs": [
        {
          "output_type": "stream",
          "name": "stdout",
          "text": [
            "51\n"
          ]
        }
      ]
    },
    {
      "cell_type": "code",
      "source": [
        "for i in range(0,100):\n",
        "  if i > 70:\n",
        "    print(i)\n",
        "    continue"
      ],
      "metadata": {
        "colab": {
          "base_uri": "https://localhost:8080/"
        },
        "id": "m6n27_2W9s7O",
        "outputId": "15015d93-aa97-45ba-dd5c-3c38ad52ca9a"
      },
      "execution_count": null,
      "outputs": [
        {
          "output_type": "stream",
          "name": "stdout",
          "text": [
            "71\n",
            "72\n",
            "73\n",
            "74\n",
            "75\n",
            "76\n",
            "77\n",
            "78\n",
            "79\n",
            "80\n",
            "81\n",
            "82\n",
            "83\n",
            "84\n",
            "85\n",
            "86\n",
            "87\n",
            "88\n",
            "89\n",
            "90\n",
            "91\n",
            "92\n",
            "93\n",
            "94\n",
            "95\n",
            "96\n",
            "97\n",
            "98\n",
            "99\n"
          ]
        }
      ]
    },
    {
      "cell_type": "code",
      "source": [
        "for i in range(0,50):\n",
        "  if i% 2 != 0:\n",
        "    print(i)\n",
        "    continue"
      ],
      "metadata": {
        "colab": {
          "base_uri": "https://localhost:8080/"
        },
        "id": "cjvle8rA-OL5",
        "outputId": "2a9ce13f-1378-4068-f502-d9f373b4f4a8"
      },
      "execution_count": null,
      "outputs": [
        {
          "output_type": "stream",
          "name": "stdout",
          "text": [
            "1\n",
            "3\n",
            "5\n",
            "7\n",
            "9\n",
            "11\n",
            "13\n",
            "15\n",
            "17\n",
            "19\n",
            "21\n",
            "23\n",
            "25\n",
            "27\n",
            "29\n",
            "31\n",
            "33\n",
            "35\n",
            "37\n",
            "39\n",
            "41\n",
            "43\n",
            "45\n",
            "47\n",
            "49\n"
          ]
        }
      ]
    },
    {
      "cell_type": "code",
      "source": [
        "num =33   # if -elif -else\n",
        "\n",
        "if num > 100:  # checks  and leave\n",
        "  print(\"the number is greater than 100\")\n",
        "elif 100 < num <= 200:  #  checks  and leave\n",
        "  print(\"the number will be in range of 100 and 200\")\n",
        "elif 10 < num <= 50:   # checks and evaluate\n",
        "  print(\"the number will be in range of 10 and 50\")\n",
        "else:\n",
        "  print(\"there is no number yet to define\")"
      ],
      "metadata": {
        "colab": {
          "base_uri": "https://localhost:8080/"
        },
        "id": "oP5k93SN-urI",
        "outputId": "ff64e925-1705-4489-b556-87a077a5c14c"
      },
      "execution_count": null,
      "outputs": [
        {
          "output_type": "stream",
          "name": "stdout",
          "text": [
            "the number will be in range of 10 and 50\n"
          ]
        }
      ]
    },
    {
      "cell_type": "code",
      "source": [
        "# neasted if else\n",
        "a , b , c = 120,40,50\n",
        "\n",
        "if a > b:\n",
        "  print(\"a is greater than b\")\n",
        "  if a > c:\n",
        "    print(\"a is greter than c\")\n",
        "else:\n",
        "  print(\"there is no result\")"
      ],
      "metadata": {
        "colab": {
          "base_uri": "https://localhost:8080/"
        },
        "id": "G9iqINLlDIGD",
        "outputId": "c139a1f7-1efd-423a-f7f9-85dd6ce4d9ac"
      },
      "execution_count": null,
      "outputs": [
        {
          "output_type": "stream",
          "name": "stdout",
          "text": [
            "a is greater than b\n",
            "a is greter than c\n"
          ]
        }
      ]
    },
    {
      "cell_type": "code",
      "source": [],
      "metadata": {
        "id": "cXjsTEjyDmKN"
      },
      "execution_count": null,
      "outputs": []
    }
  ]
}